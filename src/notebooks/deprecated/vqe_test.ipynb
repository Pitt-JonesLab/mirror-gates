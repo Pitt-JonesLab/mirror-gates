{
 "cells": [
  {
   "cell_type": "code",
   "execution_count": 92,
   "metadata": {},
   "outputs": [],
   "source": [
    "from qiskit.algorithms.optimizers import SLSQP\n",
    "from qiskit.circuit.library import TwoLocal\n",
    "\n",
    "\n",
    "from qiskit.extensions import UnitaryGate\n",
    "from weylchamber import canonical_gate\n",
    "\n",
    "gate = UnitaryGate(canonical_gate(0.5, 0.25, 0.25).full())\n",
    "# gate ='cx'\n",
    "\n",
    "num_qubits = 2\n",
    "ansatz = TwoLocal(num_qubits, [\"ry\", \"rz\"], gate)\n",
    "optimizer = SLSQP(maxiter=1000)"
   ]
  },
  {
   "cell_type": "code",
   "execution_count": 93,
   "metadata": {},
   "outputs": [
    {
     "data": {
      "image/png": "[encoded data removed]",
      "text/plain": [
       "<Figure size 1290.63x200.667 with 1 Axes>"
      ]
     },
     "execution_count": 93,
     "metadata": {},
     "output_type": "execute_result"
    }
   ],
   "source": [
    "ansatz.decompose().draw(\"mpl\", style=\"iqx\")"
   ]
  },
  {
   "cell_type": "code",
   "execution_count": 88,
   "metadata": {},
   "outputs": [],
   "source": [
    "from qiskit.primitives import Estimator\n",
    "\n",
    "estimator = Estimator()"
   ]
  },
  {
   "cell_type": "code",
   "execution_count": 89,
   "metadata": {},
   "outputs": [],
   "source": [
    "from qiskit.algorithms.minimum_eigensolvers import VQE\n",
    "\n",
    "vqe = VQE(estimator, ansatz, optimizer)"
   ]
  },
  {
   "cell_type": "code",
   "execution_count": 90,
   "metadata": {},
   "outputs": [],
   "source": [
    "from qiskit.quantum_info import SparsePauliOp\n",
    "\n",
    "H2_op = SparsePauliOp.from_list(\n",
    "    [\n",
    "        (\"II\", -1.052373245772859),\n",
    "        (\"IZ\", 0.39793742484318045),\n",
    "        (\"ZI\", -0.39793742484318045),\n",
    "        (\"ZZ\", -0.01128010425623538),\n",
    "        (\"XX\", 0.18093119978423156),\n",
    "    ]\n",
    ")"
   ]
  },
  {
   "cell_type": "code",
   "execution_count": 91,
   "metadata": {},
   "outputs": [
    {
     "name": "stdout",
     "output_type": "stream",
     "text": [
      "{   'aux_operators_evaluated': None,\n",
      "    'cost_function_evals': 153,\n",
      "    'eigenvalue': -1.8572748148539993,\n",
      "    'optimal_circuit': <qiskit.circuit.library.n_local.two_local.TwoLocal object at 0x7f759ec61f70>,\n",
      "    'optimal_parameters': {   ParameterVectorElement(θ[0]): 0.9409673780094739,\n",
      "                              ParameterVectorElement(θ[1]): 4.49069189665983,\n",
      "                              ParameterVectorElement(θ[2]): 0.8225366061437535,\n",
      "                              ParameterVectorElement(θ[3]): -1.653642891097081,\n",
      "                              ParameterVectorElement(θ[4]): 1.796119005039253,\n",
      "                              ParameterVectorElement(θ[13]): -3.6815401331948294,\n",
      "                              ParameterVectorElement(θ[15]): 4.78747102417399,\n",
      "                              ParameterVectorElement(θ[9]): 3.13974992567429,\n",
      "                              ParameterVectorElement(θ[14]): -6.50784745214087,\n",
      "                              ParameterVectorElement(θ[10]): 1.6390801454088273,\n",
      "                              ParameterVectorElement(θ[11]): -3.7207274801151073,\n",
      "                              ParameterVectorElement(θ[12]): -0.41210024362678566,\n",
      "                              ParameterVectorElement(θ[6]): 0.638082387424595,\n",
      "                              ParameterVectorElement(θ[8]): -1.1596888365605336,\n",
      "                              ParameterVectorElement(θ[5]): 3.644822762991509,\n",
      "                              ParameterVectorElement(θ[7]): 2.170635967039582},\n",
      "    'optimal_point': array([ 0.94096738,  4.4906919 ,  0.82253661, -1.65364289,  1.79611901,\n",
      "        3.64482276,  0.63808239,  2.17063597, -1.15968884,  3.13974993,\n",
      "        1.63908015, -3.72072748, -0.41210024, -3.68154013, -6.50784745,\n",
      "        4.78747102]),\n",
      "    'optimal_value': -1.8572748148539993,\n",
      "    'optimizer_evals': None,\n",
      "    'optimizer_result': <qiskit.algorithms.optimizers.optimizer.OptimizerResult object at 0x7f759ec35490>,\n",
      "    'optimizer_time': 0.44323158264160156}\n"
     ]
    }
   ],
   "source": [
    "result = vqe.compute_minimum_eigenvalue(H2_op)\n",
    "print(result)"
   ]
  }
 ],
 "metadata": {
  "kernelspec": {
   "display_name": ".venv",
   "language": "python",
   "name": "python3"
  },
  "language_info": {
   "codemirror_mode": {
    "name": "ipython",
    "version": 3
   },
   "file_extension": ".py",
   "mimetype": "text/x-python",
   "name": "python",
   "nbconvert_exporter": "python",
   "pygments_lexer": "ipython3",
   "version": "3.9.16"
  },
  "orig_nbformat": 4
 },
 "nbformat": 4,
 "nbformat_minor": 2
}
