{
 "cells": [
  {
   "cell_type": "code",
   "execution_count": 2,
   "metadata": {},
   "outputs": [
    {
     "name": "stdout",
     "output_type": "stream",
     "text": [
      "Considering xx_plus_yy;\tCost 1 and Euclidean volume   0.00%\n",
      "Considering xx_plus_yy·xx_plus_yy;\tCost 2 and Euclidean volume  50.00%\n",
      "Considering xx_plus_yy·xx_plus_yy·xx_plus_yy;\tCost 3 and Euclidean volume 100.00%\n",
      "Percent volume of A_C2\t | Cost\t | Sequence name\n",
      "  0.00% =    0/1    \t | 0.00\t | \n",
      "  0.00% =    0/1    \t | 1.00\t | xx_plus_yy\n",
      " 50.00% =    1/2    \t | 2.00\t | xx_plus_yy.xx_plus_yy\n",
      "100.00% =    1/1    \t | 3.00\t | xx_plus_yy.xx_plus_yy.xx_plus_yy\n"
     ]
    },
    {
     "name": "stderr",
     "output_type": "stream",
     "text": [
      "/home/evm9/virtual-swap/src/virtual_swap/deprecated/__init__.py:3: UserWarning: The package you are importing is deprecated, is not maintained, and may not work as expected.\n",
      "  warnings.warn(\n"
     ]
    }
   ],
   "source": [
    "from transpile_benchy.interface import QASMBench, RedQueen\n",
    "from transpile_benchy.interface import MQTBench\n",
    "\n",
    "\n",
    "qasm_bench_s = QASMBench(size=\"small\")\n",
    "\n",
    "# redqueen = RedQueen()\n",
    "\n",
    "from transpile_benchy.metrics import DepthMetric\n",
    "from qiskit.circuit.library import iSwapGate\n",
    "\n",
    "depth_metric = DepthMetric(basis_gate=iSwapGate().power(1 / 2))\n",
    "\n",
    "from qiskit.transpiler import CouplingMap\n",
    "\n",
    "# coupling_map = CouplingMap.from_grid(3,3)\n",
    "\n",
    "\n",
    "# coupling_map = CouplingMap.from_heavy_hex(5)\n",
    "\n",
    "from virtual_swap.pass_managers import SabreVS, SabreQiskit  # , QiskitLevel3"
   ]
  },
  {
   "cell_type": "code",
   "execution_count": 3,
   "metadata": {},
   "outputs": [],
   "source": [
    "qasm_bench_m = QASMBench(size=\"medium\")  # medium max size of 30, small max size of 10\n",
    "coupling_map = CouplingMap.from_grid(5, 6)"
   ]
  },
  {
   "cell_type": "code",
   "execution_count": 5,
   "metadata": {},
   "outputs": [],
   "source": [
    "mqt = []\n",
    "mqt.append(MQTBench(num_qubits=16, filter_str=\"qaoa\"))\n",
    "mqt.append(MQTBench(num_qubits=16, filter_str=\"qft\"))\n",
    "mqt.append(MQTBench(num_qubits=16, filter_str=\"hhl\"))\n",
    "\n",
    "coupling_map = CouplingMap.from_grid(4, 4)"
   ]
  },
  {
   "cell_type": "code",
   "execution_count": null,
   "metadata": {},
   "outputs": [],
   "source": [
    "# from qiskit.circuit.library import CXGate, iSwapGate\n",
    "# from qiskit.extensions import UnitaryGate\n",
    "# from weylchamber import canonical_gate\n",
    "# from transpile_benchy.interface import QiskitFunctionInterface\n",
    "# from qiskit.circuit.library import TwoLocal\n",
    "\n",
    "# num_qubits = 8\n",
    "# coupling_map = CouplingMap.from_line(num_qubits)\n",
    "# # coupling_map = CouplingMap.from_grid(3, 3)\n",
    "\n",
    "# def create_TwoLocal_function(\n",
    "#     entanglement_blocks, entanglement_name, entanglement_type=\"full\", reps=1\n",
    "# ):\n",
    "#     \"\"\"Generates a function to create a TwoLocal object with given parameters\"\"\"\n",
    "\n",
    "#     def TwoLocal_function(n_qubits):\n",
    "#         return TwoLocal(n_qubits, \"ry\", entanglement_blocks, entanglement_type, reps)\n",
    "\n",
    "#     TwoLocal_function.__name__ = (\n",
    "#         # f\"TwoLocal_{entanglement_type}_{entanglement_name}_{reps}reps\"\n",
    "#         f\"TwoLocal-{entanglement_name}\"\n",
    "#     )\n",
    "#     return TwoLocal_function\n",
    "\n",
    "\n",
    "# def generate_interface_from_data(data, qubits_options):\n",
    "#     \"\"\"Generates a QiskitFunctionInterface from gate data and qubits options\"\"\"\n",
    "#     gate, name = data\n",
    "#     func = create_TwoLocal_function(gate, name)\n",
    "#     return QiskitFunctionInterface(func, qubits_options)\n",
    "\n",
    "\n",
    "# num_qubits_options = [num_qubits]  # Or any other options you'd like\n",
    "\n",
    "# # Specify the gate blocks and their names\n",
    "# entanglement_blocks_data = [\n",
    "#     (CXGate(), r\"$\\texttt{CNOT}$\"),\n",
    "#     # (CXGate().power(1 / 2), r\"$\\sqrt{\\texttt{CNOT}}$\"),\n",
    "#     # (iSwapGate(), r\"$\\texttt{iSWAP}$\"),\n",
    "#     (iSwapGate().power(1 / 2), r\"$\\sqrt{\\texttt{iSWAP}}$\"),\n",
    "#     (UnitaryGate(canonical_gate(0.5, 0.25, 0.25).full()), r\"$\\texttt{ECP}$\"),\n",
    "# ]\n",
    "\n",
    "# qiskit_functions_twolocal = [\n",
    "#     generate_interface_from_data(data, num_qubits_options)\n",
    "#     for data in entanglement_blocks_data\n",
    "# ]"
   ]
  },
  {
   "cell_type": "code",
   "execution_count": 6,
   "metadata": {},
   "outputs": [
    {
     "name": "stderr",
     "output_type": "stream",
     "text": [
      "INFO:transpile_benchy:Running benchmarks for circuits...\n"
     ]
    },
    {
     "name": "stdout",
     "output_type": "stream",
     "text": [
      "Considering cx;\tCost 1 and Euclidean volume   0.00%\n",
      "Considering cx·cx;\tCost 2 and Euclidean volume   0.00%\n",
      "Considering cx·cx·cx;\tCost 3 and Euclidean volume 100.00%\n",
      "Percent volume of A_C2\t | Cost\t | Sequence name\n",
      "  0.00% =    0/1    \t | 0.00\t | \n",
      "  0.00% =    0/1    \t | 1.00\t | cx\n",
      "  0.00% =    0/1    \t | 2.00\t | cx.cx\n",
      "100.00% =    1/1    \t | 3.00\t | cx.cx.cx\n"
     ]
    },
    {
     "name": "stderr",
     "output_type": "stream",
     "text": [
      "Running circuits for MQTBench:   0%|          | 0/28 [00:00<?, ?it/s]INFO:transpile_benchy:Transpiler Qiskit-$\\texttt{CNOT}$, portfolioqaoa: 381\n",
      "INFO:transpile_benchy:Transpiler Qiskit-$\\texttt{CNOT}$, portfolioqaoa: 368\n",
      "INFO:transpile_benchy:Transpiler Qiskit-$\\texttt{CNOT}$, portfolioqaoa: 401\n",
      "INFO:transpile_benchy:Transpiler Qiskit-$\\texttt{CNOT}$, portfolioqaoa: 389\n",
      "INFO:transpile_benchy:Transpiler Qiskit-$\\texttt{CNOT}$, portfolioqaoa: 382\n",
      "INFO:transpile_benchy:Transpiler Qiskit-$\\sqrt{\\texttt{iSWAP}}$, portfolioqaoa: 378\n",
      "INFO:transpile_benchy:Transpiler Qiskit-$\\sqrt{\\texttt{iSWAP}}$, portfolioqaoa: 391\n",
      "INFO:transpile_benchy:Transpiler Qiskit-$\\sqrt{\\texttt{iSWAP}}$, portfolioqaoa: 393\n",
      "INFO:transpile_benchy:Transpiler Qiskit-$\\sqrt{\\texttt{iSWAP}}$, portfolioqaoa: 397\n",
      "INFO:transpile_benchy:Transpiler Qiskit-$\\sqrt{\\texttt{iSWAP}}$, portfolioqaoa: 380\n",
      "INFO:transpile_benchy:Transpiler SABREVS-$\\texttt{CNOT}$, portfolioqaoa: 570\n",
      "INFO:transpile_benchy:Transpiler SABREVS-$\\texttt{CNOT}$, portfolioqaoa: 543\n",
      "INFO:transpile_benchy:Transpiler SABREVS-$\\texttt{CNOT}$, portfolioqaoa: 573\n",
      "INFO:transpile_benchy:Transpiler SABREVS-$\\texttt{CNOT}$, portfolioqaoa: 605\n",
      "INFO:transpile_benchy:Transpiler SABREVS-$\\texttt{CNOT}$, portfolioqaoa: 600\n",
      "INFO:transpile_benchy:Accepted CNS subs: 88\n",
      "INFO:transpile_benchy:Transpiler SABREVS-$\\sqrt{\\texttt{iSWAP}}$, portfolioqaoa: 656\n",
      "INFO:transpile_benchy:Accepted CNS subs: 132\n",
      "INFO:transpile_benchy:Transpiler SABREVS-$\\sqrt{\\texttt{iSWAP}}$, portfolioqaoa: 643\n",
      "INFO:transpile_benchy:Accepted CNS subs: 124\n",
      "INFO:transpile_benchy:Transpiler SABREVS-$\\sqrt{\\texttt{iSWAP}}$, portfolioqaoa: 620\n",
      "INFO:transpile_benchy:Accepted CNS subs: 115\n",
      "INFO:transpile_benchy:Transpiler SABREVS-$\\sqrt{\\texttt{iSWAP}}$, portfolioqaoa: 582\n",
      "INFO:transpile_benchy:Accepted CNS subs: 102\n",
      "INFO:transpile_benchy:Transpiler SABREVS-$\\sqrt{\\texttt{iSWAP}}$, portfolioqaoa: 545\n",
      "Running circuits for MQTBench:   4%|▎         | 1/28 [05:35<2:31:04, 335.72s/it]INFO:transpile_benchy:Transpiler Qiskit-$\\texttt{CNOT}$, qaoa: 19\n",
      "INFO:transpile_benchy:Transpiler Qiskit-$\\texttt{CNOT}$, qaoa: 19\n",
      "INFO:transpile_benchy:Transpiler Qiskit-$\\texttt{CNOT}$, qaoa: 19\n",
      "INFO:transpile_benchy:Transpiler Qiskit-$\\texttt{CNOT}$, qaoa: 20\n",
      "INFO:transpile_benchy:Transpiler Qiskit-$\\texttt{CNOT}$, qaoa: 23\n",
      "INFO:transpile_benchy:Transpiler Qiskit-$\\sqrt{\\texttt{iSWAP}}$, qaoa: 20\n",
      "INFO:transpile_benchy:Transpiler Qiskit-$\\sqrt{\\texttt{iSWAP}}$, qaoa: 20\n",
      "INFO:transpile_benchy:Transpiler Qiskit-$\\sqrt{\\texttt{iSWAP}}$, qaoa: 19\n",
      "INFO:transpile_benchy:Transpiler Qiskit-$\\sqrt{\\texttt{iSWAP}}$, qaoa: 23\n",
      "INFO:transpile_benchy:Transpiler Qiskit-$\\sqrt{\\texttt{iSWAP}}$, qaoa: 23\n",
      "INFO:transpile_benchy:Transpiler SABREVS-$\\texttt{CNOT}$, qaoa: 24\n",
      "INFO:transpile_benchy:Transpiler SABREVS-$\\texttt{CNOT}$, qaoa: 29\n",
      "INFO:transpile_benchy:Transpiler SABREVS-$\\texttt{CNOT}$, qaoa: 26\n",
      "INFO:transpile_benchy:Transpiler SABREVS-$\\texttt{CNOT}$, qaoa: 35\n",
      "INFO:transpile_benchy:Transpiler SABREVS-$\\texttt{CNOT}$, qaoa: 30\n",
      "INFO:transpile_benchy:Accepted CNS subs: 4\n",
      "INFO:transpile_benchy:Transpiler SABREVS-$\\sqrt{\\texttt{iSWAP}}$, qaoa: 19\n",
      "INFO:transpile_benchy:Accepted CNS subs: 5\n",
      "INFO:transpile_benchy:Transpiler SABREVS-$\\sqrt{\\texttt{iSWAP}}$, qaoa: 19\n",
      "INFO:transpile_benchy:Accepted CNS subs: 6\n",
      "INFO:transpile_benchy:Transpiler SABREVS-$\\sqrt{\\texttt{iSWAP}}$, qaoa: 44\n",
      "INFO:transpile_benchy:Accepted CNS subs: 4\n",
      "INFO:transpile_benchy:Transpiler SABREVS-$\\sqrt{\\texttt{iSWAP}}$, qaoa: 20\n",
      "INFO:transpile_benchy:Accepted CNS subs: 4\n",
      "INFO:transpile_benchy:Transpiler SABREVS-$\\sqrt{\\texttt{iSWAP}}$, qaoa: 19\n",
      "Running circuits for MQTBench:   7%|▋         | 2/28 [09:08<1:54:01, 263.15s/it]"
     ]
    }
   ],
   "source": [
    "import logging\n",
    "from transpile_benchy.benchmark import Benchmark\n",
    "\n",
    "# Create a specific logger for transpile_benchy and set its level to DEBUG\n",
    "transpile_benchy_logger = logging.getLogger(\"transpile_benchy\")\n",
    "# transpile_benchy_logger.setLevel(logging.DEBUG)\n",
    "transpile_benchy_logger.setLevel(logging.INFO)\n",
    "# transpile_benchy_logger.setLevel(logging.WARNING)\n",
    "\n",
    "# Silence the qiskit logger by setting its level to WARNING or higher\n",
    "qiskit_logger = logging.getLogger(\"qiskit\")\n",
    "qiskit_logger.setLevel(logging.WARNING)\n",
    "\n",
    "benchmark = Benchmark(\n",
    "    transpilers=[\n",
    "        SabreQiskit(coupling_map, cx_basis=True),\n",
    "        SabreQiskit(coupling_map),\n",
    "        SabreVS(coupling_map, cx_basis=True),\n",
    "        SabreVS(coupling_map, logger=transpile_benchy_logger),\n",
    "    ],\n",
    "    # submodules=qiskit_functions_twolocal,\n",
    "    # submodules=[qasm_bench_m],\n",
    "    submodules=mqt,\n",
    "    metrics=[depth_metric],\n",
    "    logger=transpile_benchy_logger,\n",
    "    num_runs=5,\n",
    ")\n",
    "\n",
    "# submodules=[qasm_bench_s],\n",
    "# submodules=[mqt],\n",
    "# submodules=[\n",
    "# MQTBench(num_qubits=4, filter_str=\"qaoa\"),\n",
    "# # MQTBench(num_qubits=8, filter_str=\"qaoa\"),\n",
    "# # MQTBench(num_qubits=12, filter_str=\"qaoa\"),\n",
    "# # MQTBench(num_qubits=16, filter_str=\"qaoa\"),\n",
    "# ],\n",
    "\n",
    "benchmark.run()"
   ]
  },
  {
   "cell_type": "code",
   "execution_count": null,
   "metadata": {},
   "outputs": [],
   "source": [
    "# TODO filter add to results tracking, # number of added SWAPs, # of CNS subs\n",
    "# remove the results if qiskit adds 0 SWAPS (can't be improved)\n",
    "# reduce to a set of ~8 circuits at ~16Q scale...."
   ]
  },
  {
   "cell_type": "code",
   "execution_count": null,
   "metadata": {},
   "outputs": [],
   "source": [
    "# print(benchmark.results)"
   ]
  },
  {
   "cell_type": "code",
   "execution_count": null,
   "metadata": {},
   "outputs": [],
   "source": [
    "benchmark.plot(save=0)"
   ]
  },
  {
   "cell_type": "code",
   "execution_count": null,
   "metadata": {},
   "outputs": [],
   "source": [
    "# from transpile_benchy.interface import QiskitFunctionInterface\n",
    "# from qiskit.circuit.library import TwoLocal\n",
    "\n",
    "# entanglement_types = [\"linear\", \"full\", \"circular\", \"sca\"]\n",
    "# entanglement_types = [\"full\"] #, \"reverse_linear\"]\n",
    "\n",
    "\n",
    "# def function_generator(entanglement_type):\n",
    "#     def entanglement_function(n_qubits):\n",
    "#         return TwoLocal(n_qubits, [\"ry\"], \"cx\", entanglement_type, reps=1)\n",
    "\n",
    "#     entanglement_function.__name__ = f\"TwoLocal_{entanglement_type}\"\n",
    "#     return entanglement_function\n",
    "\n",
    "\n",
    "# num_qubits_options = [8]\n",
    "\n",
    "# qiskit_functions_twolocal = [\n",
    "#     QiskitFunctionInterface(function_generator(entanglement_type), num_qubits_options)\n",
    "#     for entanglement_type in entanglement_types\n",
    "# ]\n",
    "\n",
    "# # 5Q backend = provider.backend.ibmq_quito\n",
    "# # 20Q backend = provider.backend.ibmq_mumbai\n",
    "# from typing import Callable, List\n",
    "# from transpile_benchy.interface import QiskitFunctionInterface\n",
    "\n",
    "# num_qubits = [8]  # , 20, 24, 28, 32, 36]\n",
    "# from qiskit.circuit.library import QFT, QuantumVolume\n",
    "\n",
    "# qiskit_functions_qft = QiskitFunctionInterface(QFT, num_qubits)\n",
    "# qiskit_functions_qv = QiskitFunctionInterface(QuantumVolume, num_qubits)\n",
    "# next(MQTBench(num_qubits=4, filter_str=\"qaoa\").get_quantum_circuits()).draw('mpl', fold=-1)\n",
    "# next(qasm_bench_m.get_quantum_circuits())"
   ]
  },
  {
   "cell_type": "code",
   "execution_count": null,
   "metadata": {},
   "outputs": [],
   "source": [
    "# from the literature\n",
    "# toffoli\n",
    "# fredkin\n",
    "# EC codes\n",
    "# Controlled phase\n",
    "# QAOA\n",
    "# Controlled phsae\n",
    "# full entanling\n",
    "# entanglemnt purification\n",
    "\n",
    "# linaer, 2d, heavy-hex\n",
    "\n",
    "# grover\n",
    "# vqe\n",
    "# bv\n",
    "# qft\n",
    "# qpe\n",
    "# adder\n",
    "# multipler\n",
    "# sqn\n",
    "# rd84\n",
    "# co14\n",
    "# sym9\n",
    "# hub18\n",
    "# shor26\n",
    "# qaoa12\n",
    "# tfim64\n",
    "# tfxy64"
   ]
  }
 ],
 "metadata": {
  "kernelspec": {
   "display_name": ".venv",
   "language": "python",
   "name": "python3"
  },
  "language_info": {
   "codemirror_mode": {
    "name": "ipython",
    "version": 3
   },
   "file_extension": ".py",
   "mimetype": "text/x-python",
   "name": "python",
   "nbconvert_exporter": "python",
   "pygments_lexer": "ipython3",
   "version": "3.9.16"
  },
  "orig_nbformat": 4
 },
 "nbformat": 4,
 "nbformat_minor": 2
}
