{
 "cells": [
  {
   "cell_type": "code",
   "execution_count": 17,
   "metadata": {},
   "outputs": [],
   "source": [
    "from transpile_benchy.interface import QASMBench, RedQueen\n",
    "from transpile_benchy.interface import MQTBench\n",
    "\n",
    "\n",
    "qasm_bench_s = QASMBench(size=\"small\")\n",
    "\n",
    "# redqueen = RedQueen()\n",
    "\n",
    "from transpile_benchy.metrics import DepthMetric\n",
    "from qiskit.circuit.library import iSwapGate\n",
    "\n",
    "depth_metric = DepthMetric(basis_gate=iSwapGate().power(1 / 2))\n",
    "\n",
    "from qiskit.transpiler import CouplingMap\n",
    "\n",
    "# coupling_map = CouplingMap.from_grid(3,3)\n",
    "\n",
    "\n",
    "# coupling_map = CouplingMap.from_heavy_hex(5)\n",
    "\n",
    "from virtual_swap.pass_managers import SabreVS, SabreQiskit  # , QiskitLevel3"
   ]
  },
  {
   "cell_type": "code",
   "execution_count": 18,
   "metadata": {},
   "outputs": [],
   "source": [
    "# metric for counting percent of accepted substitutions\n",
    "from transpile_benchy.metrics import MetricInterface\n",
    "\n",
    "\n",
    "class SubsMetric(MetricInterface):\n",
    "    \"\"\"Calculate the depth of a circuit.\"\"\"\n",
    "\n",
    "    def __init__(self):\n",
    "        \"\"\"Initialize the metric.\"\"\"\n",
    "        self.name = \"accepted_subs\"\n",
    "        self.transpiler_pass = None\n",
    "\n",
    "    def get_pass(self):\n",
    "        \"\"\"Return the pass associated with this metric.\"\"\"\n",
    "        return self.transpiler_pass"
   ]
  },
  {
   "cell_type": "code",
   "execution_count": 19,
   "metadata": {},
   "outputs": [],
   "source": [
    "filter_list = [\"toffoli\", \"fredkin\", \"qaoa_n3\", \"qft_n4\", \"qec_en\"]"
   ]
  },
  {
   "cell_type": "code",
   "execution_count": 20,
   "metadata": {},
   "outputs": [],
   "source": [
    "qasm_bench_m = QASMBench(\n",
    "    size=\"small\", filter_list=filter_list\n",
    ")  # medium max size of 30, small max size of 10\n",
    "coupling_map = CouplingMap.from_line(8)"
   ]
  },
  {
   "cell_type": "code",
   "execution_count": 21,
   "metadata": {},
   "outputs": [],
   "source": [
    "# mqt = []\n",
    "# mqt.append(MQTBench(num_qubits=16, filter_str=\"qaoa\"))\n",
    "# mqt.append(MQTBench(num_qubits=16, filter_str=\"qft\"))\n",
    "# mqt.append(MQTBench(num_qubits=16, filter_str=\"hhl\"))\n",
    "\n",
    "# coupling_map = CouplingMap.from_grid(4, 4)"
   ]
  },
  {
   "cell_type": "code",
   "execution_count": 22,
   "metadata": {},
   "outputs": [],
   "source": [
    "# from qiskit.circuit.library import CXGate, iSwapGate\n",
    "# from qiskit.extensions import UnitaryGate\n",
    "# from weylchamber import canonical_gate\n",
    "# from transpile_benchy.interface import QiskitFunctionInterface\n",
    "# from qiskit.circuit.library import TwoLocal\n",
    "\n",
    "# num_qubits = 8\n",
    "# coupling_map = CouplingMap.from_line(num_qubits)\n",
    "# # coupling_map = CouplingMap.from_grid(3, 3)\n",
    "\n",
    "# def create_TwoLocal_function(\n",
    "#     entanglement_blocks, entanglement_name, entanglement_type=\"full\", reps=1\n",
    "# ):\n",
    "#     \"\"\"Generates a function to create a TwoLocal object with given parameters\"\"\"\n",
    "\n",
    "#     def TwoLocal_function(n_qubits):\n",
    "#         return TwoLocal(n_qubits, \"ry\", entanglement_blocks, entanglement_type, reps)\n",
    "\n",
    "#     TwoLocal_function.__name__ = (\n",
    "#         # f\"TwoLocal_{entanglement_type}_{entanglement_name}_{reps}reps\"\n",
    "#         f\"TwoLocal-{entanglement_name}\"\n",
    "#     )\n",
    "#     return TwoLocal_function\n",
    "\n",
    "\n",
    "# def generate_interface_from_data(data, qubits_options):\n",
    "#     \"\"\"Generates a QiskitFunctionInterface from gate data and qubits options\"\"\"\n",
    "#     gate, name = data\n",
    "#     func = create_TwoLocal_function(gate, name)\n",
    "#     return QiskitFunctionInterface(func, qubits_options)\n",
    "\n",
    "\n",
    "# num_qubits_options = [num_qubits]  # Or any other options you'd like\n",
    "\n",
    "# # Specify the gate blocks and their names\n",
    "# entanglement_blocks_data = [\n",
    "#     (CXGate(), r\"$\\texttt{CNOT}$\"),\n",
    "#     # (CXGate().power(1 / 2), r\"$\\sqrt{\\texttt{CNOT}}$\"),\n",
    "#     # (iSwapGate(), r\"$\\texttt{iSWAP}$\"),\n",
    "#     (iSwapGate().power(1 / 2), r\"$\\sqrt{\\texttt{iSWAP}}$\"),\n",
    "#     (UnitaryGate(canonical_gate(0.5, 0.25, 0.25).full()), r\"$\\texttt{ECP}$\"),\n",
    "# ]\n",
    "\n",
    "# qiskit_functions_twolocal = [\n",
    "#     generate_interface_from_data(data, num_qubits_options)\n",
    "#     for data in entanglement_blocks_data\n",
    "# ]"
   ]
  },
  {
   "cell_type": "code",
   "execution_count": 23,
   "metadata": {},
   "outputs": [
    {
     "name": "stdout",
     "output_type": "stream",
     "text": [
      "[<StreamHandler stderr (NOTSET)>]\n"
     ]
    }
   ],
   "source": [
    "import logging\n",
    "\n",
    "logger = logging.getLogger()\n",
    "print(logger.handlers)"
   ]
  },
  {
   "cell_type": "code",
   "execution_count": 24,
   "metadata": {},
   "outputs": [
    {
     "name": "stderr",
     "output_type": "stream",
     "text": [
      "INFO:transpile_benchy:Running benchmarks for circuits...\n",
      "Running circuits for QASMBench:   0%|          | 0/5 [00:00<?, ?it/s]INFO:transpile_benchy:Transpiler Qiskit-$\\texttt{CNOT}$, qft_n4: 15\n",
      "WARNING:transpile_benchy:No result found for accepted_subs on circuit qft_n4 with transpiler Qiskit-$\\texttt{CNOT}$\n",
      "INFO:transpile_benchy:Transpiler Qiskit-$\\texttt{CNOT}$, qft_n4: 15\n",
      "WARNING:transpile_benchy:No result found for accepted_subs on circuit qft_n4 with transpiler Qiskit-$\\texttt{CNOT}$\n",
      "INFO:transpile_benchy:Transpiler Qiskit-$\\texttt{CNOT}$, qft_n4: 15\n",
      "WARNING:transpile_benchy:No result found for accepted_subs on circuit qft_n4 with transpiler Qiskit-$\\texttt{CNOT}$\n",
      "INFO:transpile_benchy:Transpiler Qiskit-$\\texttt{CNOT}$, qft_n4: 17\n",
      "WARNING:transpile_benchy:No result found for accepted_subs on circuit qft_n4 with transpiler Qiskit-$\\texttt{CNOT}$\n",
      "INFO:transpile_benchy:Transpiler Qiskit-$\\texttt{CNOT}$, qft_n4: 15\n",
      "WARNING:transpile_benchy:No result found for accepted_subs on circuit qft_n4 with transpiler Qiskit-$\\texttt{CNOT}$\n",
      "INFO:transpile_benchy:Transpiler SABREVS-$\\texttt{CNOT}$, qft_n4: 13\n",
      "INFO:transpile_benchy:Transpiler SABREVS-$\\texttt{CNOT}$, qft_n4: 0.8\n"
     ]
    }
   ],
   "source": [
    "import logging\n",
    "from transpile_benchy.benchmark import Benchmark\n",
    "\n",
    "# Create a specific logger for transpile_benchy and set its level to DEBUG\n",
    "transpile_benchy_logger = logging.getLogger(\"transpile_benchy\")\n",
    "# transpile_benchy_logger.setLevel(logging.DEBUG)\n",
    "transpile_benchy_logger.setLevel(logging.INFO)\n",
    "# transpile_benchy_logger.setLevel(logging.WARNING)\n",
    "\n",
    "# Silence the qiskit logger by setting its level to WARNING or higher\n",
    "qiskit_logger = logging.getLogger(\"qiskit\")\n",
    "qiskit_logger.setLevel(logging.WARNING)\n",
    "\n",
    "benchmark = Benchmark(\n",
    "    transpilers=[\n",
    "        SabreQiskit(coupling_map, cx_basis=True),\n",
    "        SabreVS(coupling_map, cx_basis=True),\n",
    "        SabreQiskit(coupling_map),\n",
    "        SabreVS(coupling_map, logger=transpile_benchy_logger),\n",
    "    ],\n",
    "    # submodules=qiskit_functions_twolocal,\n",
    "    submodules=[qasm_bench_m],\n",
    "    # submodules=mqt,\n",
    "    metrics=[depth_metric, SubsMetric()],\n",
    "    logger=transpile_benchy_logger,\n",
    "    num_runs=5,\n",
    ")\n",
    "\n",
    "# submodules=[qasm_bench_s],\n",
    "# submodules=[mqt],\n",
    "# submodules=[\n",
    "# MQTBench(num_qubits=4, filter_str=\"qaoa\"),\n",
    "# # MQTBench(num_qubits=8, filter_str=\"qaoa\"),\n",
    "# # MQTBench(num_qubits=12, filter_str=\"qaoa\"),\n",
    "# # MQTBench(num_qubits=16, filter_str=\"qaoa\"),\n",
    "# ],\n",
    "\n",
    "benchmark.run()"
   ]
  },
  {
   "cell_type": "code",
   "execution_count": null,
   "metadata": {},
   "outputs": [],
   "source": [
    "# TODO filter add to results tracking, # number of added SWAPs, # of CNS subs\n",
    "# remove the results if qiskit adds 0 SWAPS (can't be improved)\n",
    "# reduce to a set of ~8 circuits at ~16Q scale...."
   ]
  },
  {
   "cell_type": "code",
   "execution_count": null,
   "metadata": {},
   "outputs": [
    {
     "ename": "StatisticsError",
     "evalue": "geometric mean requires a non-empty dataset containing positive numbers",
     "output_type": "error",
     "traceback": [
      "\u001b[0;31m---------------------------------------------------------------------------\u001b[0m",
      "\u001b[0;31mStatisticsError\u001b[0m                           Traceback (most recent call last)",
      "Cell \u001b[0;32mIn[16], line 1\u001b[0m\n\u001b[0;32m----> 1\u001b[0m \u001b[39mprint\u001b[39;49m(benchmark\u001b[39m.\u001b[39;49mresults)\n",
      "File \u001b[0;32m~/transpile_benchy/src/transpile_benchy/benchmark.py:70\u001b[0m, in \u001b[0;36mResultContainer.__str__\u001b[0;34m(self)\u001b[0m\n\u001b[1;32m     68\u001b[0m             output\u001b[39m.\u001b[39mappend(\u001b[39mf\u001b[39m\u001b[39m\"\u001b[39m\u001b[39m  Best result: \u001b[39m\u001b[39m{\u001b[39;00mresult_metrics\u001b[39m.\u001b[39mbest\u001b[39m}\u001b[39;00m\u001b[39m\"\u001b[39m)\n\u001b[1;32m     69\u001b[0m             output\u001b[39m.\u001b[39mappend(\u001b[39mf\u001b[39m\u001b[39m\"\u001b[39m\u001b[39m  Worst result: \u001b[39m\u001b[39m{\u001b[39;00mresult_metrics\u001b[39m.\u001b[39mworst\u001b[39m}\u001b[39;00m\u001b[39m\"\u001b[39m)\n\u001b[0;32m---> 70\u001b[0m             output\u001b[39m.\u001b[39mappend(\u001b[39mf\u001b[39m\u001b[39m\"\u001b[39m\u001b[39m  Average result: \u001b[39m\u001b[39m{\u001b[39;00mresult_metrics\u001b[39m.\u001b[39;49maverage\u001b[39m:\u001b[39;00m\u001b[39m.2f\u001b[39m\u001b[39m}\u001b[39;00m\u001b[39m\"\u001b[39m)\n\u001b[1;32m     71\u001b[0m             output\u001b[39m.\u001b[39mappend(\u001b[39mf\u001b[39m\u001b[39m\"\u001b[39m\u001b[39m  Standard error: \u001b[39m\u001b[39m{\u001b[39;00mresult_metrics\u001b[39m.\u001b[39mstderr\u001b[39m:\u001b[39;00m\u001b[39m.2f\u001b[39m\u001b[39m}\u001b[39;00m\u001b[39m\"\u001b[39m)\n\u001b[1;32m     72\u001b[0m \u001b[39mreturn\u001b[39;00m \u001b[39m\"\u001b[39m\u001b[39m\\n\u001b[39;00m\u001b[39m\"\u001b[39m\u001b[39m.\u001b[39mjoin(output)\n",
      "File \u001b[0;32m~/transpile_benchy/src/transpile_benchy/benchmark.py:47\u001b[0m, in \u001b[0;36mResultMetrics.average\u001b[0;34m(self)\u001b[0m\n\u001b[1;32m     45\u001b[0m \u001b[39mif\u001b[39;00m \u001b[39mall\u001b[39m(value \u001b[39m==\u001b[39m \u001b[39m0\u001b[39m \u001b[39mfor\u001b[39;00m value \u001b[39min\u001b[39;00m \u001b[39mself\u001b[39m\u001b[39m.\u001b[39mvalues):\n\u001b[1;32m     46\u001b[0m     \u001b[39mreturn\u001b[39;00m \u001b[39m0\u001b[39m\n\u001b[0;32m---> 47\u001b[0m \u001b[39mreturn\u001b[39;00m geometric_mean(\u001b[39mself\u001b[39;49m\u001b[39m.\u001b[39;49mvalues)\n",
      "File \u001b[0;32m/usr/lib/python3.9/statistics.py:363\u001b[0m, in \u001b[0;36mgeometric_mean\u001b[0;34m(data)\u001b[0m\n\u001b[1;32m    361\u001b[0m     \u001b[39mreturn\u001b[39;00m exp(fmean(\u001b[39mmap\u001b[39m(log, data)))\n\u001b[1;32m    362\u001b[0m \u001b[39mexcept\u001b[39;00m \u001b[39mValueError\u001b[39;00m:\n\u001b[0;32m--> 363\u001b[0m     \u001b[39mraise\u001b[39;00m StatisticsError(\u001b[39m'\u001b[39m\u001b[39mgeometric mean requires a non-empty dataset \u001b[39m\u001b[39m'\u001b[39m\n\u001b[1;32m    364\u001b[0m                           \u001b[39m'\u001b[39m\u001b[39mcontaining positive numbers\u001b[39m\u001b[39m'\u001b[39m) \u001b[39mfrom\u001b[39;00m \u001b[39mNone\u001b[39;00m\n",
      "\u001b[0;31mStatisticsError\u001b[0m: geometric mean requires a non-empty dataset containing positive numbers"
     ]
    }
   ],
   "source": [
    "print(benchmark.results)"
   ]
  },
  {
   "cell_type": "code",
   "execution_count": null,
   "metadata": {},
   "outputs": [],
   "source": [
    "benchmark.plot(save=0)"
   ]
  },
  {
   "cell_type": "code",
   "execution_count": null,
   "metadata": {},
   "outputs": [],
   "source": [
    "# from transpile_benchy.interface import QiskitFunctionInterface\n",
    "# from qiskit.circuit.library import TwoLocal\n",
    "\n",
    "# entanglement_types = [\"linear\", \"full\", \"circular\", \"sca\"]\n",
    "# entanglement_types = [\"full\"] #, \"reverse_linear\"]\n",
    "\n",
    "\n",
    "# def function_generator(entanglement_type):\n",
    "#     def entanglement_function(n_qubits):\n",
    "#         return TwoLocal(n_qubits, [\"ry\"], \"cx\", entanglement_type, reps=1)\n",
    "\n",
    "#     entanglement_function.__name__ = f\"TwoLocal_{entanglement_type}\"\n",
    "#     return entanglement_function\n",
    "\n",
    "\n",
    "# num_qubits_options = [8]\n",
    "\n",
    "# qiskit_functions_twolocal = [\n",
    "#     QiskitFunctionInterface(function_generator(entanglement_type), num_qubits_options)\n",
    "#     for entanglement_type in entanglement_types\n",
    "# ]\n",
    "\n",
    "# # 5Q backend = provider.backend.ibmq_quito\n",
    "# # 20Q backend = provider.backend.ibmq_mumbai\n",
    "# from typing import Callable, List\n",
    "# from transpile_benchy.interface import QiskitFunctionInterface\n",
    "\n",
    "# num_qubits = [8]  # , 20, 24, 28, 32, 36]\n",
    "# from qiskit.circuit.library import QFT, QuantumVolume\n",
    "\n",
    "# qiskit_functions_qft = QiskitFunctionInterface(QFT, num_qubits)\n",
    "# qiskit_functions_qv = QiskitFunctionInterface(QuantumVolume, num_qubits)\n",
    "# next(MQTBench(num_qubits=4, filter_str=\"qaoa\").get_quantum_circuits()).draw('mpl', fold=-1)\n",
    "# next(qasm_bench_m.get_quantum_circuits())"
   ]
  },
  {
   "cell_type": "code",
   "execution_count": null,
   "metadata": {},
   "outputs": [],
   "source": [
    "# from the literature\n",
    "# toffoli\n",
    "# fredkin\n",
    "# EC codes\n",
    "# Controlled phase\n",
    "# QAOA\n",
    "# Controlled phsae\n",
    "# full entanling\n",
    "# entanglemnt purification\n",
    "\n",
    "# linaer, 2d, heavy-hex\n",
    "\n",
    "# grover\n",
    "# vqe\n",
    "# bv\n",
    "# qft\n",
    "# qpe\n",
    "# adder\n",
    "# multipler\n",
    "# sqn\n",
    "# rd84\n",
    "# co14\n",
    "# sym9\n",
    "# hub18\n",
    "# shor26\n",
    "# qaoa12\n",
    "# tfim64\n",
    "# tfxy64"
   ]
  }
 ],
 "metadata": {
  "kernelspec": {
   "display_name": ".venv",
   "language": "python",
   "name": "python3"
  },
  "language_info": {
   "codemirror_mode": {
    "name": "ipython",
    "version": 3
   },
   "file_extension": ".py",
   "mimetype": "text/x-python",
   "name": "python",
   "nbconvert_exporter": "python",
   "pygments_lexer": "ipython3",
   "version": "3.9.17"
  },
  "orig_nbformat": 4
 },
 "nbformat": 4,
 "nbformat_minor": 2
}
