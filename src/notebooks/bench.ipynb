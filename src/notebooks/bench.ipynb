{
 "cells": [
  {
   "cell_type": "code",
   "execution_count": 25,
   "metadata": {},
   "outputs": [
    {
     "data": {
      "image/png": "[encoded data removed]",
      "text/plain": [
       "<Figure size 527.641x367.889 with 1 Axes>"
      ]
     },
     "execution_count": 25,
     "metadata": {},
     "output_type": "execute_result"
    }
   ],
   "source": [
    "from qiskit import QuantumCircuit, QuantumRegister\n",
    "import numpy as np\n",
    "\n",
    "# load a dummy circuit\n",
    "# generate network of random cnots\n",
    "n, M = 2, 5\n",
    "N = n**2\n",
    "register = QuantumRegister(N)\n",
    "qc = QuantumCircuit(register)\n",
    "\n",
    "for _ in range(M):\n",
    "    qc.cx(*np.random.choice(N, 2, replace=False))\n",
    "qc.name = \"random cx circuit\"\n",
    "qc.decompose().draw(\"mpl\")"
   ]
  },
  {
   "cell_type": "code",
   "execution_count": 27,
   "metadata": {},
   "outputs": [
    {
     "name": "stderr",
     "output_type": "stream",
     "text": [
      "100%|██████████| 1/1 [00:00<00:00,  4.91it/s]"
     ]
    },
    {
     "name": "stdout",
     "output_type": "stream",
     "text": [
      "Running random cx circuit\n",
      "Accepted CNS subs 0\n",
      "                                 \n",
      "q1861_1 -> 0 ───────■────────────\n",
      "             ┌───┐┌─┴─┐     ┌───┐\n",
      "q1861_0 -> 1 ┤ X ├┤ X ├─────┤ X ├\n",
      "             └─┬─┘└───┘     └─┬─┘\n",
      "q1861_2 -> 2 ──■────■────■────■──\n",
      "                  ┌─┴─┐┌─┴─┐     \n",
      "q1861_3 -> 3 ─────┤ X ├┤ X ├─────\n",
      "                  └───┘└───┘     \n",
      "             \n",
      "q1861_1 -> 0 \n",
      "             \n",
      "q1861_0 -> 1 \n",
      "             \n",
      "q1861_2 -> 2 \n",
      "             \n",
      "q1861_3 -> 3 \n",
      "             \n"
     ]
    },
    {
     "name": "stderr",
     "output_type": "stream",
     "text": [
      "\n"
     ]
    }
   ],
   "source": [
    "from transpile_benchy.main import Benchmark\n",
    "from qiskit.transpiler import CouplingMap\n",
    "from virtual_swap.pass_managers import SabreCNS, Baseline, SabreQiskit\n",
    "\n",
    "coupling = CouplingMap.from_line(4)\n",
    "# t0 = Baseline(coupling)\n",
    "t0 = SabreQiskit(coupling)\n",
    "t1 = SabreCNS(coupling)\n",
    "\n",
    "# b = Benchmark(t0, size=\"small\", prepath=\"../../../transpile_benchy\")\n",
    "b = Benchmark(t0, t1, circuit_list=[qc])\n",
    "b.run()\n",
    "\n",
    "# plot and save as svg\n",
    "b.plot(save=True)\n",
    "\n",
    "print(b.depth_list)"
   ]
  }
 ],
 "metadata": {
  "kernelspec": {
   "display_name": ".venv",
   "language": "python",
   "name": "python3"
  },
  "language_info": {
   "codemirror_mode": {
    "name": "ipython",
    "version": 3
   },
   "file_extension": ".py",
   "mimetype": "text/x-python",
   "name": "python",
   "nbconvert_exporter": "python",
   "pygments_lexer": "ipython3",
   "version": "3.9.16"
  },
  "orig_nbformat": 4
 },
 "nbformat": 4,
 "nbformat_minor": 2
}
