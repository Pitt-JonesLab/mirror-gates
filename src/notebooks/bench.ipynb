{
 "cells": [
  {
   "cell_type": "code",
   "execution_count": 1,
   "metadata": {},
   "outputs": [
    {
     "ename": "NotImplementedError",
     "evalue": "",
     "output_type": "error",
     "traceback": [
      "\u001b[0;31m---------------------------------------------------------------------------\u001b[0m",
      "\u001b[0;31mNotImplementedError\u001b[0m                       Traceback (most recent call last)",
      "Cell \u001b[0;32mIn[1], line 7\u001b[0m\n\u001b[1;32m      5\u001b[0m coupling \u001b[39m=\u001b[39m CouplingMap\u001b[39m.\u001b[39mfrom_grid(\u001b[39m6\u001b[39m, \u001b[39m6\u001b[39m)\n\u001b[1;32m      6\u001b[0m t0 \u001b[39m=\u001b[39m SabreCNS(coupling)\n\u001b[0;32m----> 7\u001b[0m t1 \u001b[39m=\u001b[39m Baseline(coupling)\n\u001b[1;32m      9\u001b[0m b \u001b[39m=\u001b[39m Benchmark(t0, t1, size\u001b[39m=\u001b[39m\u001b[39m\"\u001b[39m\u001b[39msmall\u001b[39m\u001b[39m\"\u001b[39m, prepath\u001b[39m=\u001b[39m\u001b[39m\"\u001b[39m\u001b[39m../../../../transpile_benchy\u001b[39m\u001b[39m\"\u001b[39m)\n\u001b[1;32m     10\u001b[0m b\u001b[39m.\u001b[39mrun()\n",
      "File \u001b[0;32m~/virtual-swap/src/virtual_swap/pass_managers.py:50\u001b[0m, in \u001b[0;36mBaseline.__init__\u001b[0;34m(self, coupling)\u001b[0m\n\u001b[1;32m     48\u001b[0m config \u001b[39m=\u001b[39m PassManagerConfig(coupling_map\u001b[39m=\u001b[39mcoupling, basis_gates\u001b[39m=\u001b[39m[\u001b[39m\"\u001b[39m\u001b[39mcx\u001b[39m\u001b[39m\"\u001b[39m, \u001b[39m\"\u001b[39m\u001b[39mu3\u001b[39m\u001b[39m\"\u001b[39m])\n\u001b[1;32m     49\u001b[0m pm \u001b[39m=\u001b[39m level_3_pass_manager(config)\n\u001b[0;32m---> 50\u001b[0m \u001b[39msuper\u001b[39;49m()\u001b[39m.\u001b[39;49m\u001b[39m__init__\u001b[39;49m(pm)\n",
      "File \u001b[0;32m~/virtual-swap/src/virtual_swap/pass_managers.py:27\u001b[0m, in \u001b[0;36mCustomPassManager.__init__\u001b[0;34m(self, pm)\u001b[0m\n\u001b[1;32m     23\u001b[0m \u001b[39mself\u001b[39m\u001b[39m.\u001b[39mpm \u001b[39m=\u001b[39m pm\n\u001b[1;32m     25\u001b[0m \u001b[39m# force this ending, such that output is normalized\u001b[39;00m\n\u001b[1;32m     26\u001b[0m \u001b[39m# we want all benchy PMs to count sqiswap gates\u001b[39;00m\n\u001b[0;32m---> 27\u001b[0m \u001b[39mself\u001b[39;49m\u001b[39m.\u001b[39;49mpm\u001b[39m.\u001b[39;49mappend([\n\u001b[1;32m     28\u001b[0m     Collect2qBlocks(),\n\u001b[1;32m     29\u001b[0m     ConsolidateBlocks(force_consolidate\u001b[39m=\u001b[39;49m\u001b[39mTrue\u001b[39;49;00m),\n\u001b[1;32m     30\u001b[0m     RootiSwapWeylDecomposition(),\n\u001b[1;32m     31\u001b[0m ])\n",
      "File \u001b[0;32m~/virtual-swap/.venv/lib/python3.9/site-packages/qiskit/transpiler/passmanager.py:484\u001b[0m, in \u001b[0;36mStagedPassManager.append\u001b[0;34m(self, passes, max_iteration, **flow_controller_conditions)\u001b[0m\n\u001b[1;32m    478\u001b[0m \u001b[39mdef\u001b[39;00m \u001b[39mappend\u001b[39m(\n\u001b[1;32m    479\u001b[0m     \u001b[39mself\u001b[39m,\n\u001b[1;32m    480\u001b[0m     passes: Union[BasePass, List[BasePass]],\n\u001b[1;32m    481\u001b[0m     max_iteration: \u001b[39mint\u001b[39m \u001b[39m=\u001b[39m \u001b[39mNone\u001b[39;00m,\n\u001b[1;32m    482\u001b[0m     \u001b[39m*\u001b[39m\u001b[39m*\u001b[39mflow_controller_conditions: Any,\n\u001b[1;32m    483\u001b[0m ) \u001b[39m-\u001b[39m\u001b[39m>\u001b[39m \u001b[39mNone\u001b[39;00m:\n\u001b[0;32m--> 484\u001b[0m     \u001b[39mraise\u001b[39;00m \u001b[39mNotImplementedError\u001b[39;00m\n",
      "\u001b[0;31mNotImplementedError\u001b[0m: "
     ]
    }
   ],
   "source": [
    "from transpile_benchy.main import Benchmark\n",
    "from qiskit.transpiler import CouplingMap\n",
    "from virtual_swap.pass_managers import SabreCNS, Baseline\n",
    "\n",
    "coupling = CouplingMap.from_grid(6, 6)\n",
    "t0 = SabreCNS(coupling)\n",
    "t1 = Baseline(coupling)\n",
    "\n",
    "b = Benchmark(t0, t1, size=\"small\", prepath=\"../../../../transpile_benchy\")\n",
    "b.run()\n",
    "\n",
    "# plot and save as svg\n",
    "b.plot(save=True)\n",
    "\n",
    "print(b.depth_list)"
   ]
  }
 ],
 "metadata": {
  "kernelspec": {
   "display_name": ".venv",
   "language": "python",
   "name": "python3"
  },
  "language_info": {
   "codemirror_mode": {
    "name": "ipython",
    "version": 3
   },
   "file_extension": ".py",
   "mimetype": "text/x-python",
   "name": "python",
   "nbconvert_exporter": "python",
   "pygments_lexer": "ipython3",
   "version": "3.9.16"
  },
  "orig_nbformat": 4
 },
 "nbformat": 4,
 "nbformat_minor": 2
}
