{
 "cells": [
  {
   "cell_type": "code",
   "execution_count": 18,
   "metadata": {},
   "outputs": [],
   "source": [
    "from transpile_benchy.interfaces.qasm_interface import QASMBench, RedQueen\n",
    "from transpile_benchy.interfaces.abc_interface import MQTBench\n",
    "from transpile_benchy.metrics.depth_metric import DepthMetric\n",
    "from qiskit.circuit.library import iSwapGate\n",
    "from qiskit.transpiler import CouplingMap\n",
    "from mirror_gates.pass_managers import SabreMS, QiskitLevel3\n",
    "from mirror_gates.utilities import SubsMetric"
   ]
  },
  {
   "cell_type": "code",
   "execution_count": 19,
   "metadata": {},
   "outputs": [],
   "source": [
    "# N = 15\n",
    "# coupling_map = CouplingMap.from_line(N)\n",
    "# filter_list = [\"fredkin\", \"toffoli\", \"adder_n4\"]\n",
    "# filter_list = [\"None\"]\n",
    "# qasm_bench_m = QASMBench(size=\"small\", filter_list=filter_list)\n",
    "# filter_list = [\n",
    "#     \"\\\\bqaoa\",\n",
    "#     \"qft\",\n",
    "#     \"shor\",\n",
    "#     \"dj\",\n",
    "#     \"ae\",\n",
    "#     \"qgan\",\n",
    "#     \"qpeexact\",\n",
    "# ]  # , \"grover-v-chain\"]\n",
    "# filter_list = [\"qft\"]\n",
    "# mqt_bench = MQTBench(num_qubits=N, filter_list=filter_list)"
   ]
  },
  {
   "cell_type": "code",
   "execution_count": 20,
   "metadata": {},
   "outputs": [],
   "source": [
    "# [print(x) for x in str(qasm_bench_m).split(',')]\n",
    "# [print(x) for x in str(mqt_bench).split(',')]"
   ]
  },
  {
   "cell_type": "code",
   "execution_count": 21,
   "metadata": {},
   "outputs": [],
   "source": [
    "# coupling_map = CouplingMap.from_grid(6,6)\n",
    "# filter_list = None\n",
    "# qasm_bench_m = QASMBench(size=\"medium\", filter_list=filter_list)\n",
    "# filter_list = [\"\\\\bqaoa\", \"qft\", \"shor\", \"dj\", \"ae\", \"qgan\", \"qpe\"]\n",
    "# filter_list = [\"None\"]\n",
    "# mqt_bench = MQTBench(num_qubits=8, filter_list=filter_list)"
   ]
  },
  {
   "cell_type": "code",
   "execution_count": 22,
   "metadata": {},
   "outputs": [],
   "source": [
    "# from qiskit.circuit.library import CXGate, iSwapGate\n",
    "# from qiskit.extensions import UnitaryGate\n",
    "# from weylchamber import canonical_gate\n",
    "# from transpile_benchy.interfaces.qiskit_interface import QiskitFunctionInterface\n",
    "# from qiskit.circuit.library import TwoLocal\n",
    "\n",
    "# num_qubits = 8\n",
    "# coupling_map = CouplingMap.from_line(num_qubits)\n",
    "# # coupling_map = CouplingMap.from_grid(3, 3)\n",
    "\n",
    "\n",
    "# def create_TwoLocal_function(\n",
    "#     entanglement_blocks, entanglement_name, entanglement_type=\"full\", reps=2\n",
    "# ):\n",
    "#     \"\"\"Generates a function to create a TwoLocal object with given parameters\"\"\"\n",
    "\n",
    "#     def TwoLocal_function(n_qubits):\n",
    "#         return TwoLocal(n_qubits, \"ry\", entanglement_blocks, entanglement_type, reps)\n",
    "\n",
    "#     TwoLocal_function.__name__ = (\n",
    "#         # f\"TwoLocal_{entanglement_type}_{entanglement_name}_{reps}reps\"\n",
    "#         f\"TwoLocal-{entanglement_name}\"\n",
    "#     )\n",
    "#     return TwoLocal_function\n",
    "\n",
    "\n",
    "# def generate_interface_from_data(data, qubits_options):\n",
    "#     \"\"\"Generates a QiskitFunctionInterface from gate data and qubits options\"\"\"\n",
    "#     gate, name = data\n",
    "#     func = create_TwoLocal_function(gate, name)\n",
    "#     return QiskitFunctionInterface(func, qubits_options)\n",
    "\n",
    "\n",
    "# num_qubits_options = [num_qubits]  # Or any other options you'd like\n",
    "\n",
    "# # Specify the gate blocks and their names\n",
    "# entanglement_blocks_data = [\n",
    "#     (CXGate(), r\"$\\texttt{CNOT}$\"),\n",
    "#     # (CXGate().power(1 / 2), r\"$\\sqrt{\\texttt{CNOT}}$\"),\n",
    "#     (iSwapGate(), r\"$\\texttt{iSWAP}$\"),\n",
    "#     (iSwapGate().power(1 / 2), r\"$\\sqrt{\\texttt{iSWAP}}$\"),\n",
    "#     (UnitaryGate(canonical_gate(0.5, 0.25, 0.25).full()), r\"$\\texttt{ECP}$\"),\n",
    "# ]\n",
    "\n",
    "# qiskit_functions_twolocal = [\n",
    "#     generate_interface_from_data(data, num_qubits_options)\n",
    "#     for data in entanglement_blocks_data\n",
    "# ]"
   ]
  },
  {
   "cell_type": "code",
   "execution_count": 35,
   "metadata": {},
   "outputs": [],
   "source": [
    "# 5Q backend = provider.backend.ibmq_quito\n",
    "# 20Q backend = provider.backend.ibmq_mumbai\n",
    "from typing import Callable, List\n",
    "from transpile_benchy.interfaces.qiskit_interface import QiskitFunctionInterface\n",
    "\n",
    "N = 5\n",
    "num_qubits = [N]  # , 20, 24, 28, 32, 36]\n",
    "from qiskit.circuit.library import QFT, QuantumVolume\n",
    "\n",
    "coupling_map = CouplingMap.from_line(N)\n",
    "coupling_map = CouplingMap.from_heavy_hex(5)\n",
    "qiskit_functions_qft = [QiskitFunctionInterface(QFT, num_qubits)]\n",
    "qiskit_functions_qv = [QiskitFunctionInterface(QuantumVolume, num_qubits)]"
   ]
  },
  {
   "cell_type": "code",
   "execution_count": 36,
   "metadata": {},
   "outputs": [],
   "source": [
    "import logging\n",
    "\n",
    "# Create a specific logger for transpile_benchy and set its level to DEBUG\n",
    "transpile_benchy_logger = logging.getLogger(\"transpile_benchy\")\n",
    "# transpile_benchy_logger.setLevel(logging.DEBUG)\n",
    "# transpile_benchy_logger.setLevel(logging.INFO)\n",
    "transpile_benchy_logger.setLevel(logging.WARNING)\n",
    "\n",
    "# Silence the qiskit logger by setting its level to WARNING or higher\n",
    "qiskit_logger = logging.getLogger(\"qiskit\")\n",
    "qiskit_logger.setLevel(logging.WARNING)"
   ]
  },
  {
   "cell_type": "code",
   "execution_count": 37,
   "metadata": {},
   "outputs": [],
   "source": [
    "metrics = [DepthMetric(), SubsMetric()]\n",
    "\n",
    "transpilers = [\n",
    "    QiskitLevel3(coupling_map, cx_basis=True),\n",
    "    SabreMS(coupling_map, cx_basis=True),\n",
    "    QiskitLevel3(coupling_map),\n",
    "    SabreMS(coupling_map, logger=transpile_benchy_logger),\n",
    "]"
   ]
  },
  {
   "cell_type": "code",
   "execution_count": 38,
   "metadata": {},
   "outputs": [
    {
     "name": "stderr",
     "output_type": "stream",
     "text": [
      "Running circuits for QiskitFunctionInterface:   0%|          | 0/1 [00:00<?, ?it/s]"
     ]
    },
    {
     "name": "stderr",
     "output_type": "stream",
     "text": [
      "Running circuits for QiskitFunctionInterface: 100%|██████████| 1/1 [00:31<00:00, 31.19s/it]\n"
     ]
    }
   ],
   "source": [
    "from transpile_benchy.benchmark import Benchmark\n",
    "\n",
    "benchmark = Benchmark(\n",
    "    transpilers=transpilers,\n",
    "    # submodules=qiskit_functions_twolocal,\n",
    "    submodules=qiskit_functions_qft,\n",
    "    # submodules=[qasm_bench_m, mqt_bench],\n",
    "    metrics=metrics,\n",
    "    logger=transpile_benchy_logger,\n",
    "    num_runs=5,\n",
    ")\n",
    "\n",
    "benchmark.run()\n",
    "# print(benchmark)"
   ]
  },
  {
   "cell_type": "code",
   "execution_count": 39,
   "metadata": {},
   "outputs": [],
   "source": [
    "# TODO filter add to results tracking, # number of added SWAPs, # of CNS subs\n",
    "# remove the results if qiskit adds 0 SWAPS (can't be improved)\n",
    "# reduce to a set of ~8 circuits at ~16Q scale...."
   ]
  },
  {
   "cell_type": "code",
   "execution_count": 40,
   "metadata": {},
   "outputs": [
    {
     "name": "stdout",
     "output_type": "stream",
     "text": [
      "\n",
      "Transpiler: Qiskit-$\\sqrt{\\texttt{iSWAP}}$\n",
      "\n",
      "  Metric: accepted_subs\n",
      "  Circuit: QFT                                      Mean result: 0.000                          Trials: [0, 0, 0, 0, 0]\n",
      "\n",
      "  Metric: monodromy_depth\n",
      "  Circuit: QFT                                      Mean result: 11.857                         Trials: [10.5, 12.5, 11.5, 11.5, 13.5]\n",
      "\n",
      "Transpiler: Qiskit-$\\texttt{CNOT}$\n",
      "\n",
      "  Metric: accepted_subs\n",
      "  Circuit: QFT                                      Mean result: 0.000                          Trials: [0, 0, 0, 0, 0]\n",
      "\n",
      "  Metric: monodromy_depth\n",
      "  Circuit: QFT                                      Mean result: 24.149                         Trials: [25.0, 23.0, 23.0, 27.0, 23.0]\n",
      "\n",
      "Transpiler: SABREMS-$\\sqrt{\\texttt{iSWAP}}$\n",
      "\n",
      "  Metric: accepted_subs\n",
      "  Circuit: QFT                                      Mean result: 0.222                          Trials: [0.2222222222222222, 0.2222222222222222, 0.2222222222222222, 0.2222222222222222, 0.2222222222222222]\n",
      "\n",
      "  Metric: monodromy_depth\n",
      "  Circuit: QFT                                      Mean result: 12.000                         Trials: [12.0, 12.0, 12.0, 12.0, 12.0]\n",
      "\n",
      "Transpiler: SABREMS-$\\texttt{CNOT}$\n",
      "\n",
      "  Metric: accepted_subs\n",
      "  Circuit: QFT                                      Mean result: 0.222                          Trials: [0.2222222222222222, 0.2222222222222222, 0.2222222222222222, 0.2222222222222222, 0.2222222222222222]\n",
      "\n",
      "  Metric: monodromy_depth\n",
      "  Circuit: QFT                                      Mean result: 23.197                         Trials: [24.0, 23.0, 23.0, 23.0, 23.0]\n"
     ]
    }
   ],
   "source": [
    "print(benchmark)"
   ]
  },
  {
   "cell_type": "code",
   "execution_count": 41,
   "metadata": {},
   "outputs": [
    {
     "data": {
      "text/plain": [
       "{'average_change': -3.943433043099346,\n",
       " 'best_circuit': 'QFT',\n",
       " 'worst_circuit': 'QFT',\n",
       " 'percent_changes': {'QFT': -3.943433043099346}}"
      ]
     },
     "execution_count": 41,
     "metadata": {},
     "output_type": "execute_result"
    }
   ],
   "source": [
    "benchmark.summary_statistics(metrics[0], transpilers[0], transpilers[1])"
   ]
  },
  {
   "cell_type": "code",
   "execution_count": 42,
   "metadata": {},
   "outputs": [
    {
     "data": {
      "text/plain": [
       "{'average_change': 1.2081517243479822,\n",
       " 'best_circuit': 'QFT',\n",
       " 'worst_circuit': 'QFT',\n",
       " 'percent_changes': {'QFT': 1.2081517243479822}}"
      ]
     },
     "execution_count": 42,
     "metadata": {},
     "output_type": "execute_result"
    }
   ],
   "source": [
    "benchmark.summary_statistics(metrics[0], transpilers[2], transpilers[3])"
   ]
  },
  {
   "cell_type": "code",
   "execution_count": 43,
   "metadata": {},
   "outputs": [
    {
     "data": {
      "image/png": "[encoded data removed]",
      "text/plain": [
       "<Figure size 1575x742.5 with 2 Axes>"
      ]
     },
     "metadata": {},
     "output_type": "display_data"
    }
   ],
   "source": [
    "from transpile_benchy.render import plot_benchmark\n",
    "\n",
    "plot_benchmark(benchmark, legend_show=1)"
   ]
  },
  {
   "cell_type": "code",
   "execution_count": 44,
   "metadata": {},
   "outputs": [],
   "source": [
    "# from the literature\n",
    "# toffoli\n",
    "# fredkin\n",
    "# EC codes\n",
    "# Controlled phase\n",
    "# QAOA\n",
    "# Controlled phsae\n",
    "# full entanling\n",
    "# entanglemnt purification\n",
    "\n",
    "# linaer, 2d, heavy-hex\n",
    "\n",
    "# grover\n",
    "# vqe\n",
    "# bv\n",
    "# qft\n",
    "# qpe\n",
    "# adder\n",
    "# multipler\n",
    "# sqn\n",
    "# rd84\n",
    "# co14\n",
    "# sym9\n",
    "# hub18\n",
    "# shor26\n",
    "# qaoa12\n",
    "# tfim64\n",
    "# tfxy64\n",
    "# toffoli\n",
    "# fredkin\n",
    "# adder\n",
    "# qec_sm\n",
    "# qec_en\n",
    "# variational\n",
    "# hs4\n",
    "# shor\n",
    "# pea\n",
    "# error_correctiond3\n",
    "# simons\n",
    "# qaoa\n",
    "# hhl\n",
    "# dnn\n",
    "# qpe\n",
    "# ising"
   ]
  },
  {
   "cell_type": "code",
   "execution_count": 45,
   "metadata": {},
   "outputs": [],
   "source": [
    "# benchmarks from NASSC\n",
    "# from Qiskit, QASMBench, RevLib\n",
    "# grover_n4\n",
    "# grover_n6\n",
    "# grover_n8\n",
    "# vqe_n8\n",
    "# vqe_n12\n",
    "# bv_n19\n",
    "# qft_n15\n",
    "# qft_20\n",
    "# qpe_n9\n",
    "# adder_n10\n",
    "# multiplier_n25\n",
    "# sqn_n258 (?)\n",
    "# rd84_n253\n",
    "# co14_n215\n",
    "# sym9_n193"
   ]
  },
  {
   "cell_type": "code",
   "execution_count": 46,
   "metadata": {},
   "outputs": [],
   "source": [
    "# benchmarks from PAS+PAM\n",
    "# from qiskit, supermarq (qaoa)\n",
    "# adder63\n",
    "# mul60\n",
    "# qft5\n",
    "# qft64\n",
    "# grover5\n",
    "# hub18\n",
    "# shor26\n",
    "# qaoa12\n",
    "# tfim64\n",
    "# tfxy64"
   ]
  }
 ],
 "metadata": {
  "kernelspec": {
   "display_name": ".venv",
   "language": "python",
   "name": "python3"
  },
  "language_info": {
   "codemirror_mode": {
    "name": "ipython",
    "version": 3
   },
   "file_extension": ".py",
   "mimetype": "text/x-python",
   "name": "python",
   "nbconvert_exporter": "python",
   "pygments_lexer": "ipython3",
   "version": "3.9.16"
  },
  "orig_nbformat": 4
 },
 "nbformat": 4,
 "nbformat_minor": 2
}
