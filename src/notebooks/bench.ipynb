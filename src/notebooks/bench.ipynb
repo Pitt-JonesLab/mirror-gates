{
 "cells": [
  {
   "cell_type": "code",
   "execution_count": 25,
   "metadata": {},
   "outputs": [],
   "source": [
    "from transpile_benchy.interface import QASMBench\n",
    "\n",
    "qasm_bench = QASMBench(size=\"small\")\n",
    "\n",
    "from transpile_benchy.metrics import DepthMetric\n",
    "\n",
    "depth_metric = DepthMetric()\n",
    "\n",
    "from qiskit.transpiler import CouplingMap\n",
    "\n",
    "coupling_map = CouplingMap.from_grid(4, 5)\n",
    "\n",
    "from virtual_swap.pass_managers import SabreCNSV2, SabreQiskit"
   ]
  },
  {
   "cell_type": "code",
   "execution_count": 26,
   "metadata": {},
   "outputs": [
    {
     "name": "stderr",
     "output_type": "stream",
     "text": [
      "INFO:transpile_benchy:Running benchmarks for circuits...\n",
      "Running circuits for QASMBench:   3%|▎         | 1/38 [00:00<00:09,  3.74it/s]"
     ]
    },
    {
     "name": "stdout",
     "output_type": "stream",
     "text": [
      "Accepted CNS subs 6\n",
      "Accepted CNS subs 1\n"
     ]
    },
    {
     "name": "stderr",
     "output_type": "stream",
     "text": [
      "Running circuits for QASMBench:   8%|▊         | 3/38 [00:00<00:06,  5.47it/s]"
     ]
    },
    {
     "name": "stdout",
     "output_type": "stream",
     "text": [
      "Accepted CNS subs 0\n",
      "Accepted CNS subs 2\n"
     ]
    },
    {
     "name": "stderr",
     "output_type": "stream",
     "text": [
      "Running circuits for QASMBench:  13%|█▎        | 5/38 [00:00<00:05,  5.53it/s]"
     ]
    },
    {
     "name": "stdout",
     "output_type": "stream",
     "text": [
      "Accepted CNS subs 0\n"
     ]
    },
    {
     "name": "stderr",
     "output_type": "stream",
     "text": [
      "Running circuits for QASMBench:  16%|█▌        | 6/38 [00:01<00:06,  4.86it/s]"
     ]
    },
    {
     "name": "stdout",
     "output_type": "stream",
     "text": [
      "Accepted CNS subs 0\n",
      "Accepted CNS subs 8\n"
     ]
    },
    {
     "name": "stderr",
     "output_type": "stream",
     "text": [
      "Running circuits for QASMBench:  21%|██        | 8/38 [00:02<00:10,  2.81it/s]"
     ]
    },
    {
     "name": "stdout",
     "output_type": "stream",
     "text": [
      "Accepted CNS subs 0\n"
     ]
    },
    {
     "name": "stderr",
     "output_type": "stream",
     "text": [
      "Running circuits for QASMBench:  24%|██▎       | 9/38 [00:02<00:11,  2.54it/s]"
     ]
    },
    {
     "name": "stdout",
     "output_type": "stream",
     "text": [
      "Accepted CNS subs 0\n"
     ]
    },
    {
     "name": "stderr",
     "output_type": "stream",
     "text": [
      "Running circuits for QASMBench:  29%|██▉       | 11/38 [00:03<00:09,  2.84it/s]"
     ]
    },
    {
     "name": "stdout",
     "output_type": "stream",
     "text": [
      "Accepted CNS subs 0\n",
      "Accepted CNS subs 0\n"
     ]
    },
    {
     "name": "stderr",
     "output_type": "stream",
     "text": [
      "Running circuits for QASMBench:  34%|███▍      | 13/38 [00:03<00:07,  3.45it/s]"
     ]
    },
    {
     "name": "stdout",
     "output_type": "stream",
     "text": [
      "Accepted CNS subs 4\n",
      "Accepted CNS subs 13\n"
     ]
    },
    {
     "name": "stderr",
     "output_type": "stream",
     "text": [
      "Running circuits for QASMBench:  39%|███▉      | 15/38 [00:04<00:07,  3.03it/s]"
     ]
    },
    {
     "name": "stdout",
     "output_type": "stream",
     "text": [
      "Accepted CNS subs 0\n",
      "array must not contain infs or NaNs\n",
      "Accepted CNS subs 0\n"
     ]
    },
    {
     "name": "stderr",
     "output_type": "stream",
     "text": [
      "Running circuits for QASMBench:  42%|████▏     | 16/38 [00:06<00:18,  1.17it/s]"
     ]
    },
    {
     "name": "stdout",
     "output_type": "stream",
     "text": [
      "array must not contain infs or NaNs\n",
      "Accepted CNS subs 0\n"
     ]
    },
    {
     "name": "stderr",
     "output_type": "stream",
     "text": [
      "Running circuits for QASMBench:  47%|████▋     | 18/38 [00:07<00:13,  1.50it/s]"
     ]
    },
    {
     "name": "stdout",
     "output_type": "stream",
     "text": [
      "Accepted CNS subs 0\n"
     ]
    },
    {
     "name": "stderr",
     "output_type": "stream",
     "text": [
      "Running circuits for QASMBench:  53%|█████▎    | 20/38 [00:08<00:09,  2.00it/s]"
     ]
    },
    {
     "name": "stdout",
     "output_type": "stream",
     "text": [
      "Accepted CNS subs 0\n",
      "Accepted CNS subs 0\n"
     ]
    },
    {
     "name": "stderr",
     "output_type": "stream",
     "text": [
      "Running circuits for QASMBench:  61%|██████    | 23/38 [00:08<00:03,  3.76it/s]"
     ]
    },
    {
     "name": "stdout",
     "output_type": "stream",
     "text": [
      "Accepted CNS subs 0\n",
      "Accepted CNS subs 0\n"
     ]
    },
    {
     "name": "stderr",
     "output_type": "stream",
     "text": [
      "Running circuits for QASMBench:  63%|██████▎   | 24/38 [00:09<00:03,  4.62it/s]"
     ]
    },
    {
     "name": "stdout",
     "output_type": "stream",
     "text": [
      "Accepted CNS subs 0\n",
      "Accepted CNS subs 3\n"
     ]
    },
    {
     "name": "stderr",
     "output_type": "stream",
     "text": [
      "Running circuits for QASMBench:  68%|██████▊   | 26/38 [00:09<00:02,  4.98it/s]"
     ]
    },
    {
     "name": "stdout",
     "output_type": "stream",
     "text": [
      "Accepted CNS subs 1\n",
      "Accepted CNS subs 39\n"
     ]
    },
    {
     "name": "stderr",
     "output_type": "stream",
     "text": [
      "Running circuits for QASMBench:  71%|███████   | 27/38 [00:10<00:06,  1.65it/s]"
     ]
    },
    {
     "name": "stdout",
     "output_type": "stream",
     "text": [
      "Accepted CNS subs 16\n"
     ]
    },
    {
     "name": "stderr",
     "output_type": "stream",
     "text": [
      "Running circuits for QASMBench:  76%|███████▋  | 29/38 [01:06<02:31, 16.86s/it]"
     ]
    },
    {
     "name": "stdout",
     "output_type": "stream",
     "text": [
      "Accepted CNS subs 13\n"
     ]
    },
    {
     "name": "stderr",
     "output_type": "stream",
     "text": [
      "Running circuits for QASMBench:  79%|███████▉  | 30/38 [01:07<01:36, 12.11s/it]"
     ]
    },
    {
     "name": "stdout",
     "output_type": "stream",
     "text": [
      "Accepted CNS subs 26\n"
     ]
    },
    {
     "name": "stderr",
     "output_type": "stream",
     "text": [
      "Running circuits for QASMBench:  84%|████████▍ | 32/38 [01:11<00:40,  6.81s/it]"
     ]
    },
    {
     "name": "stdout",
     "output_type": "stream",
     "text": [
      "Accepted CNS subs 1\n",
      "Accepted CNS subs 0\n"
     ]
    },
    {
     "name": "stderr",
     "output_type": "stream",
     "text": [
      "Running circuits for QASMBench:  89%|████████▉ | 34/38 [01:12<00:13,  3.46s/it]"
     ]
    },
    {
     "name": "stdout",
     "output_type": "stream",
     "text": [
      "Accepted CNS subs 4\n",
      "Accepted CNS subs 0\n"
     ]
    },
    {
     "name": "stderr",
     "output_type": "stream",
     "text": [
      "Running circuits for QASMBench:  92%|█████████▏| 35/38 [01:12<00:07,  2.46s/it]"
     ]
    },
    {
     "name": "stdout",
     "output_type": "stream",
     "text": [
      "Accepted CNS subs 7\n"
     ]
    },
    {
     "name": "stderr",
     "output_type": "stream",
     "text": [
      "Running circuits for QASMBench:  97%|█████████▋| 37/38 [01:13<00:01,  1.36s/it]"
     ]
    },
    {
     "name": "stdout",
     "output_type": "stream",
     "text": [
      "Accepted CNS subs 0\n"
     ]
    },
    {
     "name": "stderr",
     "output_type": "stream",
     "text": [
      "Running circuits for QASMBench: 100%|██████████| 38/38 [01:13<00:00,  1.93s/it]"
     ]
    },
    {
     "name": "stdout",
     "output_type": "stream",
     "text": [
      "Accepted CNS subs 8\n"
     ]
    },
    {
     "name": "stderr",
     "output_type": "stream",
     "text": [
      "\n"
     ]
    }
   ],
   "source": [
    "import logging\n",
    "from transpile_benchy.benchmark import Benchmark\n",
    "\n",
    "# Create a specific logger for transpile_benchy and set its level to DEBUG\n",
    "transpile_benchy_logger = logging.getLogger(\"transpile_benchy\")\n",
    "# transpile_benchy_logger.setLevel(logging.DEBUG)\n",
    "transpile_benchy_logger.setLevel(logging.INFO)\n",
    "\n",
    "# Silence the qiskit logger by setting its level to WARNING or higher\n",
    "qiskit_logger = logging.getLogger(\"qiskit\")\n",
    "qiskit_logger.setLevel(logging.WARNING)\n",
    "\n",
    "benchmark = Benchmark(\n",
    "    transpilers=[SabreCNSV2(coupling_map), SabreQiskit(coupling_map)],\n",
    "    submodules=[qasm_bench],\n",
    "    metrics=[depth_metric],\n",
    "    logger=transpile_benchy_logger,\n",
    ")\n",
    "benchmark.run()"
   ]
  },
  {
   "cell_type": "code",
   "execution_count": 27,
   "metadata": {},
   "outputs": [
    {
     "data": {
      "image/png": "[encoded data removed]",
      "text/plain": [
       "<Figure size 1000x600 with 1 Axes>"
      ]
     },
     "metadata": {},
     "output_type": "display_data"
    }
   ],
   "source": [
    "benchmark.plot()"
   ]
  }
 ],
 "metadata": {
  "kernelspec": {
   "display_name": ".venv",
   "language": "python",
   "name": "python3"
  },
  "language_info": {
   "codemirror_mode": {
    "name": "ipython",
    "version": 3
   },
   "file_extension": ".py",
   "mimetype": "text/x-python",
   "name": "python",
   "nbconvert_exporter": "python",
   "pygments_lexer": "ipython3",
   "version": "3.9.16"
  },
  "orig_nbformat": 4
 },
 "nbformat": 4,
 "nbformat_minor": 2
}
