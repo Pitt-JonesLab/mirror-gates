{
  "cells": [
    {
      "cell_type": "code",
      "execution_count": 1,
      "metadata": {},
      "outputs": [],
      "source": [
        "from qiskit.transpiler.coupling import CouplingMap\n",
        "from mirror_gates.pass_managers import Mirage, QiskitLevel3\n",
        "from transpile_benchy.metrics.gate_counts import (\n",
        "    DepthMetric,\n",
        "    TotalMetric,\n",
        "    TotalSwaps,\n",
        ")\n",
        "from qiskit.transpiler import PassManager\n",
        "import numpy as np\n",
        "from mirror_gates.logging import transpile_benchy_logger\n",
        "from mirror_gates.sqiswap_decomposer import SiSwapDecomposePass\n",
        "from qiskit.transpiler.passmanager import PassManager\n",
        "from qiskit import Aer, transpile\n",
        "from qiskit.quantum_info import state_fidelity\n",
        "from qiskit_aer import AerSimulator\n",
        "\n",
        "# Import from Qiskit Aer noise module\n",
        "from qiskit_aer.noise import (\n",
        "    NoiseModel,\n",
        "    QuantumError,\n",
        "    ReadoutError,\n",
        "    pauli_error,\n",
        "    depolarizing_error,\n",
        "    thermal_relaxation_error,\n",
        "    RelaxationNoisePass,\n",
        ")\n",
        "from qiskit.circuit import Delay\n",
        "from qiskit.transpiler.passes import PadDelay, ASAPSchedule\n",
        "from qiskit import QuantumCircuit"
      ]
    },
    {
      "cell_type": "code",
      "execution_count": null,
      "metadata": {},
      "outputs": [],
      "source": [
        "from qiskit.circuit.library import SiSwapGate\n",
        "from mirror_gates.noisy_fidelity import get_noisy_fidelity\n",
        "from tqdm import tqdm\n",
        "\n",
        "from qiskit.circuit.random import random_circuit\n",
        "\n",
        "N = 8\n",
        "coupling_map = CouplingMap.from_line(N)\n",
        "data = []\n",
        "for i in tqdm(range(2, 100, 5)):\n",
        "    for j in range(3):\n",
        "        qc = random_circuit(N, i, max_operands=2, measure=False)\n",
        "        fid, duration, transp = get_noisy_fidelity(qc, coupling_map)\n",
        "        data.append((duration, fid))"
      ]
    },
    {
      "cell_type": "code",
      "execution_count": null,
      "metadata": {},
      "outputs": [],
      "source": [
        "import matplotlib.pyplot as plt\n",
        "\n",
        "# sort by duration\n",
        "data = sorted(data, key=lambda x: x[0])\n",
        "plt.plot(*zip(*data))\n",
        "plt.xlabel(\"Duration\")\n",
        "plt.ylabel(\"Fidelity\")\n",
        "plt.title(\"Random Circuit (8-qubits) Fidelity vs Duration\")\n",
        "\n",
        "# also plot e^-duration / T1\n",
        "T1 = 100e3\n",
        "plt.plot(\n",
        "    [x[0] for x in data],\n",
        "    [np.exp(-x[0] / T1) for x in data],\n",
        "    label=\"e^{-D / T_1}\",\n",
        ")\n",
        "plt.legend()"
      ]
    }
  ],
  "metadata": {
    "kernelspec": {
      "display_name": ".venv",
      "language": "python",
      "name": "python3"
    },
    "language_info": {
      "codemirror_mode": {
        "name": "ipython",
        "version": 3
      },
      "file_extension": ".py",
      "mimetype": "text/x-python",
      "name": "python",
      "nbconvert_exporter": "python",
      "pygments_lexer": "ipython3",
      "version": "3.9.17"
    }
  },
  "nbformat": 4,
  "nbformat_minor": 2
}
