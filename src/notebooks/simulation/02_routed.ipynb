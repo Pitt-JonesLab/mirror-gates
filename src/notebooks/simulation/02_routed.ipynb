{
  "cells": [
    {
      "cell_type": "code",
      "execution_count": 8,
      "metadata": {},
      "outputs": [],
      "source": [
        "from qiskit.transpiler.coupling import CouplingMap\n",
        "from mirror_gates.pass_managers import Mirage, QiskitLevel3\n",
        "from qiskit.transpiler import PassManager\n",
        "from mirror_gates.logging import transpile_benchy_logger\n",
        "from mirror_gates.sqiswap_decomposer import SiSwapDecomposePass\n",
        "from qiskit.transpiler.passmanager import PassManager\n",
        "from qiskit.transpiler.passes import Optimize1qGatesDecomposition"
      ]
    },
    {
      "cell_type": "code",
      "execution_count": 9,
      "metadata": {},
      "outputs": [],
      "source": [
        "N = 3\n",
        "# coupling_map = FakeQuitoV2().target.build_coupling_map()\n",
        "# coupling_map = CouplingMap.from_heavy_hex(5)\n",
        "coupling_map = CouplingMap.from_line(N)\n",
        "# coupling_map = CouplingMap.from_heavy_hex(5)\n",
        "# coupling_map = CouplingMap.from_grid(3, 3)\n",
        "# coupling_map.draw()"
      ]
    },
    {
      "cell_type": "code",
      "execution_count": 10,
      "metadata": {},
      "outputs": [],
      "source": [
        "cx_basis = False"
      ]
    },
    {
      "cell_type": "code",
      "execution_count": 11,
      "metadata": {},
      "outputs": [
        {
          "name": "stdout",
          "output_type": "stream",
          "text": [
            "Loading fredkin_n3 from Hardcoded\n"
          ]
        }
      ],
      "source": [
        "from transpile_benchy.library import CircuitLibrary\n",
        "\n",
        "lib = CircuitLibrary(circuit_list=[])\n",
        "qc = lib.get_circuit(\"fredkin_n3\")\n",
        "qc = qc.decompose()\n",
        "# display(qc.draw(\"mpl\", fold=-1))"
      ]
    },
    {
      "cell_type": "code",
      "execution_count": 12,
      "metadata": {},
      "outputs": [],
      "source": [
        "runner = Mirage(\n",
        "    coupling_map,\n",
        "    cx_basis=cx_basis,\n",
        "    logger=transpile_benchy_logger,\n",
        ")\n",
        "\n",
        "routed = runner.run(qc)\n",
        "if not cx_basis:\n",
        "    decomposer = PassManager()\n",
        "    decomposer.append(SiSwapDecomposePass())\n",
        "    decomposer.append(Optimize1qGatesDecomposition())\n",
        "    mirage_output = decomposer.run(routed)\n",
        "else:\n",
        "    mirage_output = routed\n",
        "# mirage_output.draw(\"mpl\", fold=-1)"
      ]
    },
    {
      "cell_type": "code",
      "execution_count": 13,
      "metadata": {},
      "outputs": [],
      "source": [
        "runner = QiskitLevel3(coupling_map, cx_basis=cx_basis)\n",
        "routed = runner.run(qc)\n",
        "if not cx_basis:\n",
        "    decomposer = PassManager()\n",
        "    decomposer.append(SiSwapDecomposePass())\n",
        "    decomposer.append(Optimize1qGatesDecomposition())\n",
        "    qiskit_output = decomposer.run(routed)\n",
        "else:\n",
        "    qiskit_output = routed\n",
        "# qiskit_output.draw(\"mpl\", fold=-1)"
      ]
    },
    {
      "cell_type": "code",
      "execution_count": 22,
      "metadata": {},
      "outputs": [
        {
          "name": "stdout",
          "output_type": "stream",
          "text": [
            "Expected fidelity: 0.8935973471085158\n",
            "Fidelity: 0.798, Duration: 1500.000\n",
            "Expected fidelity: 0.9277434863285527\n",
            "Fidelity: 0.855, Duration: 1000.000\n"
          ]
        }
      ],
      "source": [
        "from mirror_gates.noisy_fidelity import get_noisy_fidelity\n",
        "\n",
        "a, b, c, d = get_noisy_fidelity(qiskit_output, coupling_map)\n",
        "print(f\"Fidelity: {a:.3f}, Duration: {b:.3f}\")\n",
        "# display(c.draw(\"mpl\", fold=-1))\n",
        "\n",
        "a, b, c, d = get_noisy_fidelity(mirage_output, coupling_map)\n",
        "print(f\"Fidelity: {a:.3f}, Duration: {b:.3f}\")\n",
        "# display(c.draw(\"mpl\", fold=-1))"
      ]
    }
  ],
  "metadata": {
    "kernelspec": {
      "display_name": ".venv",
      "language": "python",
      "name": "python3"
    },
    "language_info": {
      "codemirror_mode": {
        "name": "ipython",
        "version": 3
      },
      "file_extension": ".py",
      "mimetype": "text/x-python",
      "name": "python",
      "nbconvert_exporter": "python",
      "pygments_lexer": "ipython3",
      "version": "3.9.17"
    },
    "orig_nbformat": 4
  },
  "nbformat": 4,
  "nbformat_minor": 2
}
