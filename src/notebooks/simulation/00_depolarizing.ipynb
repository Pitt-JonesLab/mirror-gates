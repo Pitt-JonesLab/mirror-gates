{
  "cells": [
    {
      "cell_type": "code",
      "execution_count": 11,
      "metadata": {},
      "outputs": [],
      "source": [
        "# determine depolarizing error rate\n",
        "# such that the fidelity of each two-qubit gate is 0.99\n",
        "# https://qiskit.org/documentation/locale/de_DE/tutorials/simulators/2_device_noise_simulation.html"
      ]
    },
    {
      "cell_type": "code",
      "execution_count": 12,
      "metadata": {},
      "outputs": [],
      "source": [
        "from mirror_gates.noisy_fidelity import NoiseModelBuilder\n",
        "from qiskit.transpiler.coupling import CouplingMap\n",
        "\n",
        "N = 2\n",
        "coupling_map = CouplingMap.from_line(N)\n",
        "basis_gates = [\"cx\", \"u\", \"rxx\", \"ryy\", \"id\"]\n",
        "builder = NoiseModelBuilder(basis_gates=basis_gates, coupling_map=coupling_map)"
      ]
    },
    {
      "cell_type": "code",
      "execution_count": 13,
      "metadata": {},
      "outputs": [],
      "source": [
        "from mirror_gates.noisy_fidelity import T1, T2\n",
        "\n",
        "p1, p2 = 0, 0.00658\n",
        "builder.construct_basic_device_model(p_depol1=p1, p_depol2=p2, t1=T1, t2=T2)\n",
        "noise_model = builder.noise_model"
      ]
    },
    {
      "cell_type": "code",
      "execution_count": 14,
      "metadata": {},
      "outputs": [],
      "source": [
        "from qiskit_aer import AerSimulator, QasmSimulator\n",
        "\n",
        "noisy_simulator = AerSimulator(noise_model=noise_model)\n",
        "simulator = QasmSimulator(method=\"density_matrix\")"
      ]
    },
    {
      "cell_type": "code",
      "execution_count": 15,
      "metadata": {},
      "outputs": [
        {
          "data": {
            "image/png": "[encoded data removed]",
            "text/plain": [
              "<Figure size 590.608x200.667 with 1 Axes>"
            ]
          },
          "execution_count": 15,
          "metadata": {},
          "output_type": "execute_result"
        }
      ],
      "source": [
        "from qiskit.circuit.library import SiSwapGate\n",
        "from qiskit import QuantumCircuit, transpile\n",
        "\n",
        "qc = QuantumCircuit(2)\n",
        "qc.append(SiSwapGate(), [0, 1])\n",
        "\n",
        "qc = transpile(qc, noisy_simulator, basis_gates=basis_gates, coupling_map=coupling_map)\n",
        "qc.save_density_matrix(list(range(N)))\n",
        "\n",
        "qc.draw(\"mpl\")"
      ]
    },
    {
      "cell_type": "code",
      "execution_count": 16,
      "metadata": {},
      "outputs": [
        {
          "name": "stdout",
          "output_type": "stream",
          "text": [
            "0.9899979075300451\n"
          ]
        }
      ],
      "source": [
        "# test fidelity\n",
        "from qiskit.quantum_info import state_fidelity\n",
        "\n",
        "perfect_result = simulator.run(qc).result().data()[\"density_matrix\"]\n",
        "noisy_result = noisy_simulator.run(qc).result().data()[\"density_matrix\"]\n",
        "fidelity = state_fidelity(perfect_result, noisy_result)\n",
        "print(fidelity)"
      ]
    },
    {
      "cell_type": "code",
      "execution_count": 18,
      "metadata": {},
      "outputs": [
        {
          "name": "stdout",
          "output_type": "stream",
          "text": [
            "0.0 0.006578590068232193\n"
          ]
        }
      ],
      "source": [
        "import numpy as np\n",
        "from scipy.optimize import minimize\n",
        "from qiskit.circuit.library import SiSwapGate\n",
        "from qiskit import QuantumCircuit, transpile\n",
        "from qiskit_aer import AerSimulator, QasmSimulator\n",
        "from qiskit.quantum_info import state_fidelity, random_unitary\n",
        "from mirror_gates.noisy_fidelity import T1, T2, NoiseModelBuilder\n",
        "from qiskit.transpiler.coupling import CouplingMap\n",
        "\n",
        "\n",
        "def fidelity_difference_1Q(p1, desired_fidelity):\n",
        "    # Create a 1Q quantum circuit with a random unitary gate each iteration\n",
        "    u = random_unitary(2).data\n",
        "    qc = QuantumCircuit(1)\n",
        "    qc.h(0)\n",
        "    qc.unitary(u, 0)\n",
        "    return get_fidelity_for_p(p1[0], 0, qc, desired_fidelity)\n",
        "\n",
        "\n",
        "def fidelity_difference_2Q(p2, p1, desired_fidelity):\n",
        "    # 2Q quantum circuit\n",
        "    qc = QuantumCircuit(2)\n",
        "    qc.append(SiSwapGate(), [0, 1])\n",
        "    return get_fidelity_for_p(p1, p2[0], qc, desired_fidelity)\n",
        "\n",
        "\n",
        "def get_fidelity_for_p(p1, p2, qc, desired_fidelity):\n",
        "    N = qc.num_qubits\n",
        "    coupling_map = CouplingMap.from_line(N)\n",
        "    basis_gates = [\"cx\", \"u\", \"rxx\", \"ryy\", \"id\"]\n",
        "\n",
        "    builder = NoiseModelBuilder(basis_gates=basis_gates, coupling_map=coupling_map)\n",
        "    builder.construct_basic_device_model(p_depol1=p1, p_depol2=p2, t1=T1, t2=T2)\n",
        "    noise_model = builder.noise_model\n",
        "\n",
        "    noisy_simulator = AerSimulator(noise_model=noise_model)\n",
        "    simulator = QasmSimulator(method=\"density_matrix\")\n",
        "\n",
        "    qc = transpile(\n",
        "        qc, noisy_simulator, basis_gates=basis_gates, coupling_map=coupling_map\n",
        "    )\n",
        "    qc.save_density_matrix(list(range(N)))\n",
        "\n",
        "    perfect_result = simulator.run(qc).result().data()[\"density_matrix\"]\n",
        "    noisy_result = noisy_simulator.run(qc).result().data()[\"density_matrix\"]\n",
        "    fidelity = state_fidelity(perfect_result, noisy_result)\n",
        "\n",
        "    return abs(fidelity - desired_fidelity)\n",
        "\n",
        "\n",
        "if __name__ == \"__main__\":\n",
        "    desired_fidelity_1Q = 0.9995\n",
        "    res_1Q = minimize(\n",
        "        fidelity_difference_1Q,\n",
        "        [0],\n",
        "        args=(desired_fidelity_1Q,),\n",
        "        bounds=[(0, 0.1)],\n",
        "        method=\"L-BFGS-B\",\n",
        "    )\n",
        "    p1_optimal = res_1Q.x[0]\n",
        "\n",
        "    desired_fidelity_2Q = 0.99\n",
        "    res_2Q = minimize(\n",
        "        fidelity_difference_2Q,\n",
        "        [0],\n",
        "        args=(p1_optimal, desired_fidelity_2Q),\n",
        "        bounds=[(0, 0.1)],\n",
        "        method=\"L-BFGS-B\",\n",
        "    )\n",
        "    p2_optimal = res_2Q.x[0]\n",
        "\n",
        "    print(p1_optimal, p2_optimal)"
      ]
    }
  ],
  "metadata": {
    "kernelspec": {
      "display_name": ".venv",
      "language": "python",
      "name": "python3"
    },
    "language_info": {
      "codemirror_mode": {
        "name": "ipython",
        "version": 3
      },
      "file_extension": ".py",
      "mimetype": "text/x-python",
      "name": "python",
      "nbconvert_exporter": "python",
      "pygments_lexer": "ipython3",
      "version": "3.9.17"
    }
  },
  "nbformat": 4,
  "nbformat_minor": 2
}
