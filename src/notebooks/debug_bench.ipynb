{
 "cells": [
  {
   "attachments": {},
   "cell_type": "markdown",
   "metadata": {},
   "source": [
    "### Below used for debugging individual circuit runs\n"
   ]
  },
  {
   "cell_type": "code",
   "execution_count": 28,
   "metadata": {},
   "outputs": [],
   "source": [
    "from qiskit.circuit.library import QuantumVolume, EfficientSU2, TwoLocal, QFT\n",
    "from qiskit import QuantumCircuit\n",
    "from qiskit.circuit.library.standard_gates import iSwapGate, CXGate\n",
    "from qiskit import QuantumCircuit\n",
    "from qiskit.providers.fake_provider import FakeQuitoV2\n",
    "from qiskit.transpiler.coupling import CouplingMap\n",
    "from qiskit.extensions import UnitaryGate\n",
    "from weylchamber import canonical_gate\n",
    "import logging\n",
    "from mirror_gates.pass_managers import SabreMS, QiskitLevel3\n",
    "from transpile_benchy.metrics.gate_counts import DepthMetric, TotalMetric\n",
    "from transpile_benchy.metrics.timer import TimeMetric\n",
    "from mirror_gates.utilities import FastConsolidateBlocks\n",
    "from qiskit.transpiler.passes import Collect2qBlocks, Unroll3qOrMore, ConsolidateBlocks\n",
    "from qiskit.transpiler import PassManager\n",
    "import numpy as np\n",
    "\n",
    "# Create a specific logger for transpile_benchy and set its level to DEBUG\n",
    "transpile_benchy_logger = logging.getLogger(\"transpile_benchy\")\n",
    "# transpile_benchy_logger.setLevel(logging.DEBUG)\n",
    "# transpile_benchy_logger.setLevel(logging.INFO)\n",
    "transpile_benchy_logger.setLevel(logging.WARNING)\n",
    "\n",
    "# Silence the qiskit logger by setting its level to WARNING or higher\n",
    "qiskit_logger = logging.getLogger(\"qiskit\")\n",
    "qiskit_logger.setLevel(logging.WARNING)"
   ]
  },
  {
   "cell_type": "code",
   "execution_count": 29,
   "metadata": {},
   "outputs": [],
   "source": [
    "N = 5\n",
    "# coupling_map = FakeQuitoV2().target.build_coupling_map()\n",
    "# coupling_map = CouplingMap.from_grid(4,4)\n",
    "# coupling_map = CouplingMap.from_line(N)\n",
    "coupling_map = CouplingMap.from_heavy_hex(5)\n",
    "# coupling_map.draw()"
   ]
  },
  {
   "cell_type": "code",
   "execution_count": 30,
   "metadata": {},
   "outputs": [],
   "source": [
    "# 2Q Gate Costs:\n",
    "# CX: {CX:1, sqiswap:2}\n",
    "# qc = TwoLocal(\n",
    "#     num_qubits=N,\n",
    "#     rotation_blocks=\"ry\",\n",
    "#     entanglement_blocks=CXGate(),\n",
    "#     entanglement=\"full\",\n",
    "#     reps=1,\n",
    "# )\n",
    "\n",
    "# # CPHASE(pi/2): {CX:2, sqiswap:2}\n",
    "# qc = TwoLocal(num_qubits=4,  rotation_blocks='ry', entanglement_blocks = CXGate().power(1/2), entanglement='full', reps=2)\n",
    "\n",
    "# # iswap: {CX:2, sqiswap:2}\n",
    "# qc = TwoLocal(num_qubits=4, rotation_blocks='ry', entanglement_blocks = iSwapGate(), entanglement='full', reps=2)\n",
    "\n",
    "# # ECP: {CX:3, sqiswap:2}\n",
    "# ecp = UnitaryGate(canonical_gate(0.5, 0.25, 0.25).full())\n",
    "# qc = TwoLocal(\n",
    "#     num_qubits=4,\n",
    "#     rotation_blocks=\"ry\",\n",
    "#     entanglement_blocks=ecp,\n",
    "#     entanglement=\"full\",\n",
    "#     reps=1,\n",
    "# )\n",
    "\n",
    "# SqiSwap: {CX:2, sqiswap:1}\n",
    "# qc = TwoLocal(num_qubits=4, rotation_blocks='ry', entanglement_blocks= iSwapGate().power(1/2), entanglement='full', reps=2)\n",
    "\n",
    "# qc = QFT(4)\n",
    "\n",
    "# qc = QuantumCircuit(3)\n",
    "# qc.ccx(0,1,2)\n",
    "# qc.cx(0,1)\n",
    "# qc.cx(0,2)\n",
    "\n",
    "# qc.decompose().draw(\"mpl\", fold=-1)"
   ]
  },
  {
   "cell_type": "code",
   "execution_count": 31,
   "metadata": {},
   "outputs": [],
   "source": [
    "# # from qiskit import qft\n",
    "# from qiskit.circuit.library import QFT\n",
    "\n",
    "# qc = QFT(N)"
   ]
  },
  {
   "cell_type": "code",
   "execution_count": 32,
   "metadata": {},
   "outputs": [],
   "source": [
    "from transpile_benchy.interfaces.mqt_interface import MQTBench\n",
    "from transpile_benchy.interfaces.qasm_interface import QASMBench\n",
    "\n",
    "filter_config = {\"include\": [\"qft_n18\"]}\n",
    "qasmbench = QASMBench(size=\"medium\", filter_config=filter_config)\n",
    "\n",
    "filter_config = {\"include\": [\"\\\\bqaoa\"]}  # , \"grover-v-chain\", \" \"\\\\bvqe\",\n",
    "# filter_list = [\"ghz\"]\n",
    "# filter_list = None\n",
    "mqt_bench = MQTBench(num_qubits=N, filter_config=filter_config)\n",
    "# qc = next(mqt_bench.get_quantum_circuits())\n",
    "qc = next(qasmbench)"
   ]
  },
  {
   "cell_type": "code",
   "execution_count": 33,
   "metadata": {},
   "outputs": [],
   "source": [
    "# from transpile_benchy.interfaces.qasm_interface import QASMBench\n",
    "\n",
    "# coupling_map = CouplingMap.from_grid(6, 6)\n",
    "# filter_list = [\"seca_n11\"]\n",
    "# qasm_bench_m = QASMBench(size=\"medium\", filter_list=filter_list)\n",
    "# qc = next(qasm_bench_m.get_quantum_circuits())"
   ]
  },
  {
   "cell_type": "code",
   "execution_count": 34,
   "metadata": {},
   "outputs": [],
   "source": [
    "# from qiskit.algorithms.minimum_eigensolvers import QAOA\n",
    "# from qiskit.algorithms.optimizers import SLSQP\n",
    "# from qiskit.primitives import Sampler\n",
    "# from mqt.bench.utils import get_examplary_max_cut_qp\n",
    "# num_qubits = N\n",
    "# qp = get_examplary_max_cut_qp(num_qubits)\n",
    "# qaoa = QAOA(sampler=Sampler(), reps=2, optimizer=SLSQP(maxiter=25))\n",
    "# qaoa_result = qaoa.compute_minimum_eigenvalue(qp.to_ising()[0])\n",
    "# qc = qaoa.ansatz.bind_parameters(qaoa_result.optimal_point)\n",
    "# qc.name = \"qaoa\""
   ]
  },
  {
   "cell_type": "code",
   "execution_count": 35,
   "metadata": {},
   "outputs": [],
   "source": [
    "# qc = QuantumCircuit(N)\n",
    "# for i in range(N - 1):\n",
    "#     qc.h(i)\n",
    "#     qc.cx(i, N - 1)"
   ]
  },
  {
   "cell_type": "code",
   "execution_count": 36,
   "metadata": {},
   "outputs": [],
   "source": [
    "# # N = 5\n",
    "# from transpile_benchy.interfaces.qiskit_interface import QuantumCircuitFactory\n",
    "# # num_qubits = [4, 8, 16, 32]\n",
    "# num_qubits = [18]\n",
    "# from qiskit.circuit.library import QFT, QuantumVolume\n",
    "\n",
    "# coupling_map = CouplingMap.from_line(32)\n",
    "# qiskit_functions_qft = QuantumCircuitFactory(QFT, num_qubits)\n",
    "# qc = next(qiskit_functions_qft)"
   ]
  },
  {
   "cell_type": "code",
   "execution_count": 37,
   "metadata": {},
   "outputs": [],
   "source": [
    "# qc = qc.decompose().decompose()\n",
    "# qc.draw(\"mpl\", fold=-1)"
   ]
  },
  {
   "cell_type": "code",
   "execution_count": 38,
   "metadata": {},
   "outputs": [],
   "source": [
    "# from transpile_benchy.benchmark import Benchmark\n",
    "\n",
    "# transpilers = [\n",
    "#     SabreMS(coupling_map, use_fast_settings=False, name=\"SABREMS-Slow\"), # parallel=True,\n",
    "#     SabreMS(coupling_map, use_fast_settings=True, name=\"SABREMS-Fast\"), # parallel=False,\n",
    "#     # QiskitLevel3(coupling_map),\n",
    "# ]\n",
    "# metrics = [DepthMetric(), TotalMetric(), TimeMetric()]\n",
    "\n",
    "# benchmark = Benchmark(\n",
    "#     transpilers=transpilers,\n",
    "#     submodules=qiskit_functions_qft,\n",
    "#     metrics=metrics, #only interested in TimeMetric, is there by default\n",
    "#     num_runs=1,\n",
    "# )\n",
    "# benchmark.run()"
   ]
  },
  {
   "cell_type": "markdown",
   "metadata": {},
   "source": [
    "qft_n18 5 trials\n",
    "swap-counts:\n",
    "depth 269, 250, 190, 125,\n",
    "total 696, 636, 584, 318\n",
    "\n",
    "depth-aware:\n",
    "depth 123, 304, 233, 152\n",
    "total 475, 788, 690, 394\n"
   ]
  },
  {
   "cell_type": "code",
   "execution_count": 42,
   "metadata": {},
   "outputs": [
    {
     "name": "stdout",
     "output_type": "stream",
     "text": [
      "148.0\n",
      "328.5\n"
     ]
    }
   ],
   "source": [
    "runner = SabreMS(\n",
    "    coupling_map,\n",
    "    cx_basis=0,\n",
    "    parallel=False,\n",
    "    logger=transpile_benchy_logger,\n",
    "    cost_function=\"depth\",\n",
    ")\n",
    "metric = DepthMetric(consolidate=False)\n",
    "runner._append_metric_pass(metric)\n",
    "metric = TotalMetric(consolidate=False)\n",
    "runner._append_metric_pass(metric)\n",
    "# metric = TimeMetric()\n",
    "# runner._append_metric_pass(metric)\n",
    "transp = runner.run(qc)\n",
    "# print(runner.property_set[\"accepted_subs\"])\n",
    "print(runner.property_set[\"monodromy_depth\"])\n",
    "print(runner.property_set[\"monodromy_total\"])\n",
    "# display(runner.property_set['pre'].draw('mpl'))\n",
    "# display(runner.property_set[\"mid\"].draw(\"mpl\", fold=-1))\n",
    "# display(runner.property_set[\"post0\"].draw(\"mpl\"))\n",
    "# display(runner.property_set[\"post\"].draw(\"mpl\", fold=-1))\n",
    "# display(transp.draw(output=\"mpl\", fold=-1))"
   ]
  },
  {
   "cell_type": "code",
   "execution_count": null,
   "metadata": {},
   "outputs": [
    {
     "name": "stdout",
     "output_type": "stream",
     "text": [
      "The snakeviz extension is already loaded. To reload it, use:\n",
      "  %reload_ext snakeviz\n"
     ]
    }
   ],
   "source": [
    "# %load_ext snakeviz\n",
    "# import cProfile\n",
    "\n",
    "# # Profile 'your_function' and write the result into 'my_profile.profile'\n",
    "# cProfile.run(\"runner.run(qc)\", \"my_profile10.prof\")\n",
    "# # !snakeviz 'src/notebooks/my_profile.profile'"
   ]
  },
  {
   "cell_type": "code",
   "execution_count": null,
   "metadata": {},
   "outputs": [
    {
     "name": "stdout",
     "output_type": "stream",
     "text": [
      "5.5\n",
      "7.0\n"
     ]
    },
    {
     "data": {
      "image/png": "[encoded data removed]",
      "text/plain": [
       "<Figure size 956.385x451.5 with 1 Axes>"
      ]
     },
     "metadata": {},
     "output_type": "display_data"
    },
    {
     "data": {
      "image/png": "[encoded data removed]",
      "text/plain": [
       "<Figure size 1541.66x451.5 with 1 Axes>"
      ]
     },
     "metadata": {},
     "output_type": "display_data"
    }
   ],
   "source": [
    "runner = QiskitLevel3(coupling_map, cx_basis=0)\n",
    "metric = DepthMetric()\n",
    "runner.append_metric_pass(metric)\n",
    "metric = TotalMetric()\n",
    "runner.append_metric_pass(metric)\n",
    "transp = runner.run(qc)\n",
    "print(runner.property_set[\"monodromy_depth\"])\n",
    "print(runner.property_set[\"monodromy_total\"])\n",
    "display(transp.draw(output=\"mpl\", fold=-1))\n",
    "display(runner.property_set[\"post\"].draw(\"mpl\", fold=-1))"
   ]
  },
  {
   "cell_type": "code",
   "execution_count": null,
   "metadata": {},
   "outputs": [],
   "source": [
    "# qc = QuantumCircuit(2)\n",
    "# qc.u(np.pi / 2, 0.394, 0, 0)\n",
    "# qc.u(0.841, np.pi / 2, 0, 1)\n",
    "# qc.cx(0, 1)\n",
    "# qc.u(np.pi, -2.97, 1.74, 0)\n",
    "# qc.u(1.42, -1.01, 2.07, 1)\n",
    "# qc.cx(0, 1)\n",
    "# qc.u(np.pi / 2, -np.pi / 2, 3, 0)\n",
    "# qc.u(2.58, -2.67, 3.04, 1)\n",
    "# display(qc.draw(\"mpl\"))\n",
    "# ##\n",
    "# pm = PassManager([Unroll3qOrMore(), FastConsolidateBlocks(coord_caching=True)])\n",
    "# # pm = PassManager([Unroll3qOrMore(), Collect2qBlocks(), ConsolidateBlocks(force_consolidate=True)])\n",
    "# cons_qc = pm.run(qc)\n",
    "# cons_qc.draw(\"mpl\", fold=-1)\n",
    "# from weylchamber import c1c2c3\n",
    "\n",
    "# [c1c2c3(instr.operation.to_matrix()) for instr in cons_qc]"
   ]
  },
  {
   "cell_type": "code",
   "execution_count": null,
   "metadata": {},
   "outputs": [],
   "source": [
    "# qc = QuantumCircuit(2)\n",
    "# # qc.u(np.pi/2, 0.394, 0, 1)\n",
    "# # qc.u(0,0,0, 1)\n",
    "# qc.cx(0, 1)\n",
    "# qc.u(np.pi, -2.97, 1.74, 0)\n",
    "# qc.u(1.42, -1.01, 2.07, 1)\n",
    "# qc.cx(0, 1)\n",
    "# qc.u(0, 0, 0, 0)\n",
    "# qc.u(2.58, -2.67, 3.04, 1)\n",
    "# cons_qc = pm.run(qc)\n",
    "# cons_qc.draw(\"mpl\", fold=-1)\n",
    "# from weylchamber import c1c2c3\n",
    "\n",
    "# [c1c2c3(instr.operation.to_matrix()) for instr in cons_qc]"
   ]
  }
 ],
 "metadata": {
  "kernelspec": {
   "display_name": ".venv",
   "language": "python",
   "name": "python3"
  },
  "language_info": {
   "codemirror_mode": {
    "name": "ipython",
    "version": 3
   },
   "file_extension": ".py",
   "mimetype": "text/x-python",
   "name": "python",
   "nbconvert_exporter": "python",
   "pygments_lexer": "ipython3",
   "version": "3.9.17"
  },
  "orig_nbformat": 4
 },
 "nbformat": 4,
 "nbformat_minor": 2
}
