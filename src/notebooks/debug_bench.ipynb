{
 "cells": [
  {
   "attachments": {},
   "cell_type": "markdown",
   "metadata": {},
   "source": [
    "### Below used for debugging individual circuit runs\n"
   ]
  },
  {
   "cell_type": "code",
   "execution_count": 2,
   "metadata": {},
   "outputs": [],
   "source": [
    "from qiskit.circuit.library import QuantumVolume, EfficientSU2, TwoLocal, QFT\n",
    "from qiskit import QuantumCircuit\n",
    "from qiskit.circuit.library.standard_gates import iSwapGate, CXGate\n",
    "from qiskit import QuantumCircuit\n",
    "from qiskit.providers.fake_provider import FakeQuitoV2\n",
    "from qiskit.transpiler.coupling import CouplingMap\n",
    "from qiskit.extensions import UnitaryGate\n",
    "from weylchamber import canonical_gate\n",
    "import logging\n",
    "\n",
    "# Create a specific logger for transpile_benchy and set its level to DEBUG\n",
    "transpile_benchy_logger = logging.getLogger(\"transpile_benchy\")\n",
    "# transpile_benchy_logger.setLevel(logging.DEBUG)\n",
    "# transpile_benchy_logger.setLevel(logging.INFO)\n",
    "transpile_benchy_logger.setLevel(logging.WARNING)\n",
    "\n",
    "# Silence the qiskit logger by setting its level to WARNING or higher\n",
    "qiskit_logger = logging.getLogger(\"qiskit\")\n",
    "qiskit_logger.setLevel(logging.WARNING)"
   ]
  },
  {
   "cell_type": "code",
   "execution_count": 3,
   "metadata": {},
   "outputs": [],
   "source": [
    "# 2Q Gate Costs:\n",
    "# CX: {CX:1, sqiswap:2}\n",
    "# qc = TwoLocal(\n",
    "#     num_qubits=4,\n",
    "#     rotation_blocks=\"ry\",\n",
    "#     entanglement_blocks=CXGate(),\n",
    "#     entanglement=\"full\",\n",
    "#     reps=1,\n",
    "# )\n",
    "\n",
    "# # CPHASE(pi/2): {CX:2, sqiswap:2}\n",
    "# qc = TwoLocal(num_qubits=4,  rotation_blocks='ry', entanglement_blocks = CXGate().power(1/2), entanglement='full', reps=2)\n",
    "\n",
    "# # iswap: {CX:2, sqiswap:2}\n",
    "# qc = TwoLocal(num_qubits=4, rotation_blocks='ry', entanglement_blocks = iSwapGate(), entanglement='full', reps=2)\n",
    "\n",
    "# # ECP: {CX:3, sqiswap:2}\n",
    "# ecp = UnitaryGate(canonical_gate(0.5, 0.25, 0.25).full())\n",
    "# qc = TwoLocal(\n",
    "#     num_qubits=4,\n",
    "#     rotation_blocks=\"ry\",\n",
    "#     entanglement_blocks=ecp,\n",
    "#     entanglement=\"full\",\n",
    "#     reps=1,\n",
    "# )\n",
    "\n",
    "# SqiSwap: {CX:2, sqiswap:1}\n",
    "# qc = TwoLocal(num_qubits=4, rotation_blocks='ry', entanglement_blocks= iSwapGate().power(1/2), entanglement='full', reps=2)\n",
    "\n",
    "# qc = QFT(4)\n",
    "\n",
    "# qc = QuantumCircuit(3)\n",
    "# qc.ccx(0,1,2)\n",
    "# qc.cx(0,1)\n",
    "# qc.cx(0,2)\n",
    "\n",
    "# qc.decompose().draw(\"mpl\", fold=-1)"
   ]
  },
  {
   "cell_type": "code",
   "execution_count": 4,
   "metadata": {},
   "outputs": [],
   "source": [
    "N = 8\n",
    "# coupling_map = FakeQuitoV2().target.build_coupling_map()\n",
    "# coupling_map = CouplingMap.from_grid(4,4)\n",
    "coupling_map = CouplingMap.from_line(N)\n",
    "# coupling_map = CouplingMap.from_heavy_hex(7)\n",
    "# coupling_map.draw()"
   ]
  },
  {
   "cell_type": "code",
   "execution_count": 5,
   "metadata": {},
   "outputs": [],
   "source": [
    "# from qiskit import qft\n",
    "from qiskit.circuit.library import QFT\n",
    "\n",
    "qc = QFT(N)"
   ]
  },
  {
   "cell_type": "code",
   "execution_count": 6,
   "metadata": {},
   "outputs": [],
   "source": [
    "# from transpile_benchy.interfaces.abc_interface import MQTBench\n",
    "\n",
    "# filter_list = [\"\\\\bqaoa\"]  # , \"grover-v-chain\", \" \"\\\\bvqe\",\n",
    "# # filter_list = None\n",
    "# mqt_bench = MQTBench(num_qubits=N, filter_list=filter_list)\n",
    "# qc = next(mqt_bench.get_quantum_circuits())"
   ]
  },
  {
   "cell_type": "code",
   "execution_count": 7,
   "metadata": {},
   "outputs": [
    {
     "data": {
      "image/png": "[encoded data removed]",
      "text/plain": [
       "<Figure size 203.885x702.333 with 1 Axes>"
      ]
     },
     "execution_count": 7,
     "metadata": {},
     "output_type": "execute_result"
    }
   ],
   "source": [
    "# qc = qc.decompose().decompose()\n",
    "qc.draw(\"mpl\", fold=-1)"
   ]
  },
  {
   "cell_type": "code",
   "execution_count": 8,
   "metadata": {},
   "outputs": [],
   "source": [
    "# import numpy as np\n",
    "# qc = QuantumCircuit(2)\n",
    "# qc.u(np.pi/2, 0.394, 0, 1)\n",
    "# qc.u(0.841, np.pi/2, 0, 1)\n",
    "# qc.cx(0,1)\n",
    "# qc.u(np.pi, -2.97, 1.74, 0)\n",
    "# qc.u(1.42, -1.01, 2.07, 1)\n",
    "# qc.cx(0,1)\n",
    "# qc.u(np.pi/2, -np.pi/2, 3, 0)\n",
    "# qc.u(2.58, -2.67, 3.04, 1)\n",
    "# from mirror_gates.utilities import FastConsolidateBlocks\n",
    "# from qiskit.transpiler.passes import Collect2qBlocks, Unroll3qOrMore, ConsolidateBlocks\n",
    "# from qiskit.transpiler import PassManager\n",
    "# pm = PassManager([Unroll3qOrMore(), FastConsolidateBlocks()])\n",
    "# # pm = PassManager([Unroll3qOrMore(), Collect2qBlocks(), ConsolidateBlocks(force_consolidate=True)])\n",
    "# cons_qc = pm.run(qc)\n",
    "# cons_qc.draw(\"mpl\", fold=-1)\n",
    "# from weylchamber import c1c2c3\n",
    "# [c1c2c3(instr.operation.to_matrix()) for instr in cons_qc]"
   ]
  },
  {
   "cell_type": "code",
   "execution_count": 9,
   "metadata": {},
   "outputs": [
    {
     "name": "stdout",
     "output_type": "stream",
     "text": [
      "Percent volume of A_C2\t | Cost\t | Sequence name\n",
      "  0.00% =    0/1    \t | 0.00\t | \n",
      "  0.00% =    0/1    \t | 0.50\t | xx_plus_yy(-1.57080)\n",
      " 50.00% =    1/2    \t | 1.00\t | xx_plus_yy(-1.57080).xx_plus_yy(-1.57080)\n",
      "100.00% =    1/1    \t | 1.50\t | xx_plus_yy(-1.57080).xx_plus_yy(-1.57080).xx_plus_yy(-1.57080)\n",
      "0.9629629629629629\n",
      "18.5\n"
     ]
    }
   ],
   "source": [
    "from mirror_gates.pass_managers import SabreMS, QiskitLevel3\n",
    "from transpile_benchy.metrics.depth_metric import DepthMetric\n",
    "\n",
    "runner = SabreMS(\n",
    "    coupling_map, cx_basis=False, parallel=False, logger=transpile_benchy_logger\n",
    ")\n",
    "metric = DepthMetric()\n",
    "runner.append_metric_pass(metric)\n",
    "runner.run(qc)\n",
    "print(runner.property_set[\"accepted_subs\"])\n",
    "print(runner.property_set[\"monodromy_depth\"])\n",
    "# display(runner.property_set['pre'].draw('mpl'))\n",
    "# display(runner.property_set[\"mid\"].draw(\"mpl\", fold=-1))\n",
    "# display(runner.property_set['post0'].draw('mpl'))\n",
    "# display(runner.property_set['post'].draw('mpl', fold=-1))\n",
    "# display(transp.draw(output=\"mpl\", fold=-1))"
   ]
  },
  {
   "cell_type": "code",
   "execution_count": 12,
   "metadata": {},
   "outputs": [
    {
     "name": "stdout",
     "output_type": "stream",
     "text": [
      "The snakeviz extension is already loaded. To reload it, use:\n",
      "  %reload_ext snakeviz\n"
     ]
    }
   ],
   "source": [
    "%load_ext snakeviz\n",
    "import cProfile\n",
    "\n",
    "# Profile 'your_function' and write the result into 'my_profile.profile'\n",
    "cProfile.run(\"runner.run(qc)\", \"my_profile2.prof\")\n",
    "# !snakeviz 'src/notebooks/my_profile.profile'"
   ]
  },
  {
   "cell_type": "code",
   "execution_count": 69,
   "metadata": {},
   "outputs": [
    {
     "name": "stdout",
     "output_type": "stream",
     "text": [
      "31.0\n"
     ]
    }
   ],
   "source": [
    "from mirror_gates.pass_managers import SabreMS, QiskitLevel3\n",
    "from transpile_benchy.metrics.depth_metric import DepthMetric\n",
    "\n",
    "runner = QiskitLevel3(coupling_map, cx_basis=False)\n",
    "metric = DepthMetric()\n",
    "runner.append_metric_pass(metric)\n",
    "transp = runner.run(qc)\n",
    "print(runner.property_set[\"monodromy_depth\"])\n",
    "# display(transp.draw(output=\"mpl\", fold=-1))\n",
    "# display(runner.property_set['post'].draw('mpl'))"
   ]
  },
  {
   "cell_type": "code",
   "execution_count": 70,
   "metadata": {},
   "outputs": [],
   "source": [
    "# from qiskit import transpile\n",
    "\n",
    "# q = transpile(\n",
    "#     qc, basis_gates=[\"u\", \"cx\", \"swap\"], optimization_level=3)#, coupling_map=coupling_map)\n",
    "# # q.draw(\"mpl\", fold=-1)"
   ]
  }
 ],
 "metadata": {
  "kernelspec": {
   "display_name": ".venv",
   "language": "python",
   "name": "python3"
  },
  "language_info": {
   "codemirror_mode": {
    "name": "ipython",
    "version": 3
   },
   "file_extension": ".py",
   "mimetype": "text/x-python",
   "name": "python",
   "nbconvert_exporter": "python",
   "pygments_lexer": "ipython3",
   "version": "3.9.16"
  },
  "orig_nbformat": 4
 },
 "nbformat": 4,
 "nbformat_minor": 2
}
