{
 "cells": [
  {
   "cell_type": "code",
   "execution_count": 3,
   "metadata": {},
   "outputs": [],
   "source": [
    "import numpy as np\n",
    "\n",
    "\n",
    "def calculate_fidelity(num_qubits, circuit_depth, qubit_lifetime=100):\n",
    "    \"\"\"\n",
    "    Calculates the fidelity of a quantum circuit.\n",
    "\n",
    "    Parameters:\n",
    "    num_qubits (int): Number of qubits in the circuit\n",
    "    circuit_depth (float): Duration of the circuit in ns\n",
    "    qubit_lifetime (float): Lifetime of a qubit in µs\n",
    "\n",
    "    Returns:\n",
    "    float: Fidelity of the circuit\n",
    "    \"\"\"\n",
    "    # Convert circuit_depth from ns to µs for the calculation\n",
    "    circuit_depth_us = circuit_depth / 1e3\n",
    "\n",
    "    # Fidelity for one operation\n",
    "    fidelity_one_op = np.exp(-circuit_depth_us / qubit_lifetime)\n",
    "\n",
    "    # Total fidelity is the product of the fidelity of each operation\n",
    "    total_fidelity = fidelity_one_op**num_qubits\n",
    "\n",
    "    return total_fidelity"
   ]
  },
  {
   "cell_type": "code",
   "execution_count": 10,
   "metadata": {},
   "outputs": [
    {
     "name": "stdout",
     "output_type": "stream",
     "text": [
      "0.07298509768315986\n"
     ]
    }
   ],
   "source": [
    "fidelity = calculate_fidelity(15, 349 * 50, 100)\n",
    "print(fidelity)"
   ]
  },
  {
   "cell_type": "code",
   "execution_count": 11,
   "metadata": {},
   "outputs": [
    {
     "name": "stdout",
     "output_type": "stream",
     "text": [
      "0.11794934810730243\n"
     ]
    }
   ],
   "source": [
    "fidelity = calculate_fidelity(15, 285 * 50, 100)\n",
    "print(fidelity)"
   ]
  }
 ],
 "metadata": {
  "kernelspec": {
   "display_name": ".venv",
   "language": "python",
   "name": "python3"
  },
  "language_info": {
   "codemirror_mode": {
    "name": "ipython",
    "version": 3
   },
   "file_extension": ".py",
   "mimetype": "text/x-python",
   "name": "python",
   "nbconvert_exporter": "python",
   "pygments_lexer": "ipython3",
   "version": "3.9.16"
  },
  "orig_nbformat": 4
 },
 "nbformat": 4,
 "nbformat_minor": 2
}
