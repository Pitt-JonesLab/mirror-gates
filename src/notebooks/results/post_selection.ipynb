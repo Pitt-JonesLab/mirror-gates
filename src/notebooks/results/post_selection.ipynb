{
  "cells": [
    {
      "cell_type": "code",
      "execution_count": 1,
      "metadata": {},
      "outputs": [],
      "source": [
        "# TODO, show differences related to post-selecting for depth vs post-selectng for total gates added\n",
        "from qiskit.transpiler import CouplingMap\n",
        "from mirror_gates.pass_managers import SabreMS, QiskitLevel3\n",
        "from transpile_benchy.metrics.gate_counts import DepthMetric, TotalMetric\n",
        "from mirror_gates.logging import transpile_benchy_logger"
      ]
    },
    {
      "cell_type": "code",
      "execution_count": 2,
      "metadata": {},
      "outputs": [],
      "source": [
        "from transpile_benchy.library import CircuitLibrary\n",
        "\n",
        "library = CircuitLibrary.from_txt(\"../../circuits/medium_circuits.txt\")"
      ]
    },
    {
      "cell_type": "code",
      "execution_count": 3,
      "metadata": {},
      "outputs": [],
      "source": [
        "coupling_map = CouplingMap.from_heavy_hex(5)\n",
        "transpilers = [\n",
        "    QiskitLevel3(coupling_map),  # 20,4,20\n",
        "    SabreMS(\n",
        "        coupling_map,\n",
        "        name=\"SABREMS-Min-Swaps\",\n",
        "        cost_function=\"basic\",\n",
        "        fixed_aggression=1,\n",
        "    ),\n",
        "    SabreMS(\n",
        "        coupling_map,\n",
        "        name=\"SABREMS-Min-Depth\",\n",
        "        fixed_aggression=1,\n",
        "    ),\n",
        "]\n",
        "\n",
        "metrics = [DepthMetric(consolidate=False), TotalMetric(consolidate=False)]"
      ]
    },
    {
      "cell_type": "code",
      "execution_count": 4,
      "metadata": {},
      "outputs": [
        {
          "name": "stderr",
          "output_type": "stream",
          "text": [
            "INFO:transpile_benchy:Running benchmarks for circuits...\n"
          ]
        },
        {
          "name": "stdout",
          "output_type": "stream",
          "text": [
            "Percent volume of A_C2\t | Cost\t | Sequence name\n",
            "  0.00% =    0/1    \t | 0.00\t | \n",
            "  0.00% =    0/1    \t | 0.50\t | xx_plus_yy(-1.57080)\n",
            " 50.00% =    1/2    \t | 1.00\t | xx_plus_yy(-1.57080).xx_plus_yy(-1.57080)\n",
            "100.00% =    1/1    \t | 1.50\t | xx_plus_yy(-1.57080).xx_plus_yy(-1.57080).xx_plus_yy(-1.57080)\n"
          ]
        },
        {
          "name": "stderr",
          "output_type": "stream",
          "text": [
            "Circuits from library:   0%|          | 0/14 [00:00<?, ?it/s]INFO:transpile_benchy:Running benchmark for circuit qec9xz_n17\n",
            "DEBUG:transpile_benchy:Running transpiler Qiskit-$\\sqrt{\\texttt{iSWAP}}$ on circuit qec9xz_n17\n"
          ]
        },
        {
          "name": "stdout",
          "output_type": "stream",
          "text": [
            "Loading qec9xz_n17 from QASMBench\n"
          ]
        },
        {
          "name": "stderr",
          "output_type": "stream",
          "text": [
            "DEBUG:transpile_benchy:Running transpiler Qiskit-$\\sqrt{\\texttt{iSWAP}}$ on circuit qec9xz_n17\n",
            "DEBUG:transpile_benchy:Running transpiler Qiskit-$\\sqrt{\\texttt{iSWAP}}$ on circuit qec9xz_n17\n",
            "DEBUG:transpile_benchy:Running transpiler Qiskit-$\\sqrt{\\texttt{iSWAP}}$ on circuit qec9xz_n17\n",
            "DEBUG:transpile_benchy:Running transpiler Qiskit-$\\sqrt{\\texttt{iSWAP}}$ on circuit qec9xz_n17\n",
            "DEBUG:transpile_benchy:Running transpiler SABREMS-Min-Swaps-$\\sqrt{\\texttt{iSWAP}}$ on circuit qec9xz_n17\n",
            "DEBUG:transpile_benchy:Running transpiler SABREMS-Min-Swaps-$\\sqrt{\\texttt{iSWAP}}$ on circuit qec9xz_n17\n",
            "DEBUG:transpile_benchy:Running transpiler SABREMS-Min-Swaps-$\\sqrt{\\texttt{iSWAP}}$ on circuit qec9xz_n17\n",
            "DEBUG:transpile_benchy:Running transpiler SABREMS-Min-Swaps-$\\sqrt{\\texttt{iSWAP}}$ on circuit qec9xz_n17\n",
            "DEBUG:transpile_benchy:Running transpiler SABREMS-Min-Swaps-$\\sqrt{\\texttt{iSWAP}}$ on circuit qec9xz_n17\n",
            "DEBUG:transpile_benchy:Running transpiler SABREMS-Min-Depth-$\\sqrt{\\texttt{iSWAP}}$ on circuit qec9xz_n17\n",
            "DEBUG:transpile_benchy:Running transpiler SABREMS-Min-Depth-$\\sqrt{\\texttt{iSWAP}}$ on circuit qec9xz_n17\n",
            "DEBUG:transpile_benchy:Running transpiler SABREMS-Min-Depth-$\\sqrt{\\texttt{iSWAP}}$ on circuit qec9xz_n17\n",
            "DEBUG:transpile_benchy:Running transpiler SABREMS-Min-Depth-$\\sqrt{\\texttt{iSWAP}}$ on circuit qec9xz_n17\n",
            "DEBUG:transpile_benchy:Running transpiler SABREMS-Min-Depth-$\\sqrt{\\texttt{iSWAP}}$ on circuit qec9xz_n17\n",
            "Circuits from library:   7%|\u258b         | 1/14 [03:41<47:53, 221.00s/it]INFO:transpile_benchy:Running benchmark for circuit seca_n11\n",
            "DEBUG:transpile_benchy:Running transpiler Qiskit-$\\sqrt{\\texttt{iSWAP}}$ on circuit seca_n11\n"
          ]
        },
        {
          "name": "stdout",
          "output_type": "stream",
          "text": [
            "Loading seca_n11 from QASMBench\n"
          ]
        },
        {
          "name": "stderr",
          "output_type": "stream",
          "text": [
            "DEBUG:transpile_benchy:Running transpiler Qiskit-$\\sqrt{\\texttt{iSWAP}}$ on circuit seca_n11\n",
            "DEBUG:transpile_benchy:Running transpiler Qiskit-$\\sqrt{\\texttt{iSWAP}}$ on circuit seca_n11\n",
            "DEBUG:transpile_benchy:Running transpiler Qiskit-$\\sqrt{\\texttt{iSWAP}}$ on circuit seca_n11\n",
            "DEBUG:transpile_benchy:Running transpiler Qiskit-$\\sqrt{\\texttt{iSWAP}}$ on circuit seca_n11\n",
            "DEBUG:transpile_benchy:Running transpiler SABREMS-Min-Swaps-$\\sqrt{\\texttt{iSWAP}}$ on circuit seca_n11\n",
            "DEBUG:transpile_benchy:Running transpiler SABREMS-Min-Swaps-$\\sqrt{\\texttt{iSWAP}}$ on circuit seca_n11\n",
            "DEBUG:transpile_benchy:Running transpiler SABREMS-Min-Swaps-$\\sqrt{\\texttt{iSWAP}}$ on circuit seca_n11\n",
            "DEBUG:transpile_benchy:Running transpiler SABREMS-Min-Swaps-$\\sqrt{\\texttt{iSWAP}}$ on circuit seca_n11\n",
            "DEBUG:transpile_benchy:Running transpiler SABREMS-Min-Swaps-$\\sqrt{\\texttt{iSWAP}}$ on circuit seca_n11\n",
            "DEBUG:transpile_benchy:Running transpiler SABREMS-Min-Depth-$\\sqrt{\\texttt{iSWAP}}$ on circuit seca_n11\n",
            "DEBUG:transpile_benchy:Running transpiler SABREMS-Min-Depth-$\\sqrt{\\texttt{iSWAP}}$ on circuit seca_n11\n",
            "DEBUG:transpile_benchy:Running transpiler SABREMS-Min-Depth-$\\sqrt{\\texttt{iSWAP}}$ on circuit seca_n11\n",
            "DEBUG:transpile_benchy:Running transpiler SABREMS-Min-Depth-$\\sqrt{\\texttt{iSWAP}}$ on circuit seca_n11\n",
            "DEBUG:transpile_benchy:Running transpiler SABREMS-Min-Depth-$\\sqrt{\\texttt{iSWAP}}$ on circuit seca_n11\n",
            "Circuits from library:  14%|\u2588\u258d        | 2/14 [07:50<47:33, 237.83s/it]INFO:transpile_benchy:Running benchmark for circuit qram_n20\n",
            "DEBUG:transpile_benchy:Running transpiler Qiskit-$\\sqrt{\\texttt{iSWAP}}$ on circuit qram_n20\n"
          ]
        },
        {
          "name": "stdout",
          "output_type": "stream",
          "text": [
            "Loading qram_n20 from QASMBench\n"
          ]
        },
        {
          "name": "stderr",
          "output_type": "stream",
          "text": [
            "DEBUG:transpile_benchy:Running transpiler Qiskit-$\\sqrt{\\texttt{iSWAP}}$ on circuit qram_n20\n",
            "DEBUG:transpile_benchy:Running transpiler Qiskit-$\\sqrt{\\texttt{iSWAP}}$ on circuit qram_n20\n",
            "DEBUG:transpile_benchy:Running transpiler Qiskit-$\\sqrt{\\texttt{iSWAP}}$ on circuit qram_n20\n",
            "DEBUG:transpile_benchy:Running transpiler Qiskit-$\\sqrt{\\texttt{iSWAP}}$ on circuit qram_n20\n",
            "DEBUG:transpile_benchy:Running transpiler SABREMS-Min-Swaps-$\\sqrt{\\texttt{iSWAP}}$ on circuit qram_n20\n",
            "DEBUG:transpile_benchy:Running transpiler SABREMS-Min-Swaps-$\\sqrt{\\texttt{iSWAP}}$ on circuit qram_n20\n",
            "DEBUG:transpile_benchy:Running transpiler SABREMS-Min-Swaps-$\\sqrt{\\texttt{iSWAP}}$ on circuit qram_n20\n",
            "DEBUG:transpile_benchy:Running transpiler SABREMS-Min-Swaps-$\\sqrt{\\texttt{iSWAP}}$ on circuit qram_n20\n",
            "DEBUG:transpile_benchy:Running transpiler SABREMS-Min-Swaps-$\\sqrt{\\texttt{iSWAP}}$ on circuit qram_n20\n",
            "DEBUG:transpile_benchy:Running transpiler SABREMS-Min-Depth-$\\sqrt{\\texttt{iSWAP}}$ on circuit qram_n20\n",
            "DEBUG:transpile_benchy:Running transpiler SABREMS-Min-Depth-$\\sqrt{\\texttt{iSWAP}}$ on circuit qram_n20\n",
            "DEBUG:transpile_benchy:Running transpiler SABREMS-Min-Depth-$\\sqrt{\\texttt{iSWAP}}$ on circuit qram_n20\n",
            "DEBUG:transpile_benchy:Running transpiler SABREMS-Min-Depth-$\\sqrt{\\texttt{iSWAP}}$ on circuit qram_n20\n",
            "DEBUG:transpile_benchy:Running transpiler SABREMS-Min-Depth-$\\sqrt{\\texttt{iSWAP}}$ on circuit qram_n20\n",
            "Circuits from library:  21%|\u2588\u2588\u258f       | 3/14 [13:07<50:12, 273.88s/it]INFO:transpile_benchy:Running benchmark for circuit knn_n25\n",
            "DEBUG:transpile_benchy:Running transpiler Qiskit-$\\sqrt{\\texttt{iSWAP}}$ on circuit knn_n25\n",
            "DEBUG:transpile_benchy:Running transpiler Qiskit-$\\sqrt{\\texttt{iSWAP}}$ on circuit knn_n25\n"
          ]
        },
        {
          "name": "stdout",
          "output_type": "stream",
          "text": [
            "Loading knn_n25 from QASMBench\n"
          ]
        },
        {
          "name": "stderr",
          "output_type": "stream",
          "text": [
            "DEBUG:transpile_benchy:Running transpiler Qiskit-$\\sqrt{\\texttt{iSWAP}}$ on circuit knn_n25\n",
            "DEBUG:transpile_benchy:Running transpiler Qiskit-$\\sqrt{\\texttt{iSWAP}}$ on circuit knn_n25\n",
            "DEBUG:transpile_benchy:Running transpiler Qiskit-$\\sqrt{\\texttt{iSWAP}}$ on circuit knn_n25\n",
            "DEBUG:transpile_benchy:Running transpiler SABREMS-Min-Swaps-$\\sqrt{\\texttt{iSWAP}}$ on circuit knn_n25\n",
            "DEBUG:transpile_benchy:Running transpiler SABREMS-Min-Swaps-$\\sqrt{\\texttt{iSWAP}}$ on circuit knn_n25\n",
            "DEBUG:transpile_benchy:Running transpiler SABREMS-Min-Swaps-$\\sqrt{\\texttt{iSWAP}}$ on circuit knn_n25\n",
            "DEBUG:transpile_benchy:Running transpiler SABREMS-Min-Swaps-$\\sqrt{\\texttt{iSWAP}}$ on circuit knn_n25\n",
            "DEBUG:transpile_benchy:Running transpiler SABREMS-Min-Swaps-$\\sqrt{\\texttt{iSWAP}}$ on circuit knn_n25\n",
            "DEBUG:transpile_benchy:Running transpiler SABREMS-Min-Depth-$\\sqrt{\\texttt{iSWAP}}$ on circuit knn_n25\n",
            "DEBUG:transpile_benchy:Running transpiler SABREMS-Min-Depth-$\\sqrt{\\texttt{iSWAP}}$ on circuit knn_n25\n",
            "DEBUG:transpile_benchy:Running transpiler SABREMS-Min-Depth-$\\sqrt{\\texttt{iSWAP}}$ on circuit knn_n25\n",
            "DEBUG:transpile_benchy:Running transpiler SABREMS-Min-Depth-$\\sqrt{\\texttt{iSWAP}}$ on circuit knn_n25\n",
            "DEBUG:transpile_benchy:Running transpiler SABREMS-Min-Depth-$\\sqrt{\\texttt{iSWAP}}$ on circuit knn_n25\n",
            "Circuits from library:  29%|\u2588\u2588\u258a       | 4/14 [18:10<47:34, 285.41s/it]INFO:transpile_benchy:Running benchmark for circuit swap_test_n25\n",
            "DEBUG:transpile_benchy:Running transpiler Qiskit-$\\sqrt{\\texttt{iSWAP}}$ on circuit swap_test_n25\n"
          ]
        },
        {
          "name": "stdout",
          "output_type": "stream",
          "text": [
            "Loading swap_test_n25 from QASMBench\n"
          ]
        },
        {
          "name": "stderr",
          "output_type": "stream",
          "text": [
            "DEBUG:transpile_benchy:Running transpiler Qiskit-$\\sqrt{\\texttt{iSWAP}}$ on circuit swap_test_n25\n",
            "DEBUG:transpile_benchy:Running transpiler Qiskit-$\\sqrt{\\texttt{iSWAP}}$ on circuit swap_test_n25\n",
            "DEBUG:transpile_benchy:Running transpiler Qiskit-$\\sqrt{\\texttt{iSWAP}}$ on circuit swap_test_n25\n",
            "DEBUG:transpile_benchy:Running transpiler Qiskit-$\\sqrt{\\texttt{iSWAP}}$ on circuit swap_test_n25\n",
            "DEBUG:transpile_benchy:Running transpiler SABREMS-Min-Swaps-$\\sqrt{\\texttt{iSWAP}}$ on circuit swap_test_n25\n",
            "DEBUG:transpile_benchy:Running transpiler SABREMS-Min-Swaps-$\\sqrt{\\texttt{iSWAP}}$ on circuit swap_test_n25\n",
            "DEBUG:transpile_benchy:Running transpiler SABREMS-Min-Swaps-$\\sqrt{\\texttt{iSWAP}}$ on circuit swap_test_n25\n",
            "DEBUG:transpile_benchy:Running transpiler SABREMS-Min-Swaps-$\\sqrt{\\texttt{iSWAP}}$ on circuit swap_test_n25\n",
            "DEBUG:transpile_benchy:Running transpiler SABREMS-Min-Swaps-$\\sqrt{\\texttt{iSWAP}}$ on circuit swap_test_n25\n",
            "DEBUG:transpile_benchy:Running transpiler SABREMS-Min-Depth-$\\sqrt{\\texttt{iSWAP}}$ on circuit swap_test_n25\n",
            "DEBUG:transpile_benchy:Running transpiler SABREMS-Min-Depth-$\\sqrt{\\texttt{iSWAP}}$ on circuit swap_test_n25\n",
            "DEBUG:transpile_benchy:Running transpiler SABREMS-Min-Depth-$\\sqrt{\\texttt{iSWAP}}$ on circuit swap_test_n25\n",
            "DEBUG:transpile_benchy:Running transpiler SABREMS-Min-Depth-$\\sqrt{\\texttt{iSWAP}}$ on circuit swap_test_n25\n",
            "DEBUG:transpile_benchy:Running transpiler SABREMS-Min-Depth-$\\sqrt{\\texttt{iSWAP}}$ on circuit swap_test_n25\n",
            "Circuits from library:  36%|\u2588\u2588\u2588\u258c      | 5/14 [23:13<43:45, 291.75s/it]INFO:transpile_benchy:Running benchmark for circuit bigadder_n18\n",
            "DEBUG:transpile_benchy:Running transpiler Qiskit-$\\sqrt{\\texttt{iSWAP}}$ on circuit bigadder_n18\n"
          ]
        },
        {
          "name": "stdout",
          "output_type": "stream",
          "text": [
            "Loading bigadder_n18 from QASMBench\n"
          ]
        },
        {
          "name": "stderr",
          "output_type": "stream",
          "text": [
            "DEBUG:transpile_benchy:Running transpiler Qiskit-$\\sqrt{\\texttt{iSWAP}}$ on circuit bigadder_n18\n",
            "DEBUG:transpile_benchy:Running transpiler Qiskit-$\\sqrt{\\texttt{iSWAP}}$ on circuit bigadder_n18\n",
            "DEBUG:transpile_benchy:Running transpiler Qiskit-$\\sqrt{\\texttt{iSWAP}}$ on circuit bigadder_n18\n",
            "DEBUG:transpile_benchy:Running transpiler Qiskit-$\\sqrt{\\texttt{iSWAP}}$ on circuit bigadder_n18\n",
            "DEBUG:transpile_benchy:Running transpiler SABREMS-Min-Swaps-$\\sqrt{\\texttt{iSWAP}}$ on circuit bigadder_n18\n",
            "DEBUG:transpile_benchy:Running transpiler SABREMS-Min-Swaps-$\\sqrt{\\texttt{iSWAP}}$ on circuit bigadder_n18\n",
            "DEBUG:transpile_benchy:Running transpiler SABREMS-Min-Swaps-$\\sqrt{\\texttt{iSWAP}}$ on circuit bigadder_n18\n",
            "DEBUG:transpile_benchy:Running transpiler SABREMS-Min-Swaps-$\\sqrt{\\texttt{iSWAP}}$ on circuit bigadder_n18\n",
            "DEBUG:transpile_benchy:Running transpiler SABREMS-Min-Swaps-$\\sqrt{\\texttt{iSWAP}}$ on circuit bigadder_n18\n",
            "DEBUG:transpile_benchy:Running transpiler SABREMS-Min-Depth-$\\sqrt{\\texttt{iSWAP}}$ on circuit bigadder_n18\n",
            "DEBUG:transpile_benchy:Running transpiler SABREMS-Min-Depth-$\\sqrt{\\texttt{iSWAP}}$ on circuit bigadder_n18\n",
            "DEBUG:transpile_benchy:Running transpiler SABREMS-Min-Depth-$\\sqrt{\\texttt{iSWAP}}$ on circuit bigadder_n18\n",
            "DEBUG:transpile_benchy:Running transpiler SABREMS-Min-Depth-$\\sqrt{\\texttt{iSWAP}}$ on circuit bigadder_n18\n",
            "DEBUG:transpile_benchy:Running transpiler SABREMS-Min-Depth-$\\sqrt{\\texttt{iSWAP}}$ on circuit bigadder_n18\n",
            "Circuits from library:  43%|\u2588\u2588\u2588\u2588\u258e     | 6/14 [29:11<41:55, 314.43s/it]INFO:transpile_benchy:Running benchmark for circuit multiplier_n15\n",
            "DEBUG:transpile_benchy:Running transpiler Qiskit-$\\sqrt{\\texttt{iSWAP}}$ on circuit multiplier_n15\n"
          ]
        },
        {
          "name": "stdout",
          "output_type": "stream",
          "text": [
            "Loading multiplier_n15 from QASMBench\n"
          ]
        },
        {
          "name": "stderr",
          "output_type": "stream",
          "text": [
            "DEBUG:transpile_benchy:Running transpiler Qiskit-$\\sqrt{\\texttt{iSWAP}}$ on circuit multiplier_n15\n",
            "DEBUG:transpile_benchy:Running transpiler Qiskit-$\\sqrt{\\texttt{iSWAP}}$ on circuit multiplier_n15\n",
            "DEBUG:transpile_benchy:Running transpiler Qiskit-$\\sqrt{\\texttt{iSWAP}}$ on circuit multiplier_n15\n",
            "DEBUG:transpile_benchy:Running transpiler Qiskit-$\\sqrt{\\texttt{iSWAP}}$ on circuit multiplier_n15\n",
            "DEBUG:transpile_benchy:Running transpiler SABREMS-Min-Swaps-$\\sqrt{\\texttt{iSWAP}}$ on circuit multiplier_n15\n",
            "DEBUG:transpile_benchy:Running transpiler SABREMS-Min-Swaps-$\\sqrt{\\texttt{iSWAP}}$ on circuit multiplier_n15\n",
            "DEBUG:transpile_benchy:Running transpiler SABREMS-Min-Swaps-$\\sqrt{\\texttt{iSWAP}}$ on circuit multiplier_n15\n",
            "DEBUG:transpile_benchy:Running transpiler SABREMS-Min-Swaps-$\\sqrt{\\texttt{iSWAP}}$ on circuit multiplier_n15\n",
            "DEBUG:transpile_benchy:Running transpiler SABREMS-Min-Swaps-$\\sqrt{\\texttt{iSWAP}}$ on circuit multiplier_n15\n",
            "DEBUG:transpile_benchy:Running transpiler SABREMS-Min-Depth-$\\sqrt{\\texttt{iSWAP}}$ on circuit multiplier_n15\n",
            "DEBUG:transpile_benchy:Running transpiler SABREMS-Min-Depth-$\\sqrt{\\texttt{iSWAP}}$ on circuit multiplier_n15\n"
          ]
        }
      ],
      "source": [
        "from transpile_benchy.benchmark import Benchmark\n",
        "\n",
        "# only interested in TimeMetric, is there by default\n",
        "benchmark = Benchmark(\n",
        "    transpilers=transpilers,\n",
        "    circuit_library=library,\n",
        "    metrics=metrics,\n",
        "    num_runs=5,\n",
        "    logger=transpile_benchy_logger,\n",
        ")\n",
        "benchmark.run()"
      ]
    },
    {
      "cell_type": "code",
      "execution_count": null,
      "metadata": {},
      "outputs": [],
      "source": [
        "benchmark.summary_statistics(transpilers[0], transpilers[1])"
      ]
    },
    {
      "cell_type": "code",
      "execution_count": null,
      "metadata": {},
      "outputs": [],
      "source": [
        "benchmark.summary_statistics(transpilers[1], transpilers[2])"
      ]
    },
    {
      "cell_type": "code",
      "execution_count": null,
      "metadata": {},
      "outputs": [],
      "source": [
        "benchmark.summary_statistics(transpilers[0], transpilers[2])"
      ]
    },
    {
      "cell_type": "code",
      "execution_count": null,
      "metadata": {},
      "outputs": [],
      "source": [
        "from transpile_benchy.render import plot_benchmark\n",
        "\n",
        "plot_benchmark(benchmark, save=0, legend_show=1, filename=\"post\")"
      ]
    },
    {
      "cell_type": "code",
      "execution_count": null,
      "metadata": {},
      "outputs": [],
      "source": [
        "print(benchmark)"
      ]
    }
  ],
  "metadata": {
    "kernelspec": {
      "display_name": ".venv",
      "language": "python",
      "name": "python3"
    },
    "language_info": {
      "codemirror_mode": {
        "name": "ipython",
        "version": 3
      },
      "file_extension": ".py",
      "mimetype": "text/x-python",
      "name": "python",
      "nbconvert_exporter": "python",
      "pygments_lexer": "ipython3",
      "version": "3.9.17"
    },
    "orig_nbformat": 4
  },
  "nbformat": 4,
  "nbformat_minor": 2
}
