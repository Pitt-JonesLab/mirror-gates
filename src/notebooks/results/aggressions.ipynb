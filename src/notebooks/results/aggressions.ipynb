{
  "cells": [
    {
      "cell_type": "code",
      "execution_count": 1,
      "metadata": {},
      "outputs": [],
      "source": [
        "# TODO, show how different aggression configurations impact results\n",
        "from qiskit.transpiler import CouplingMap\n",
        "from mirror_gates.pass_managers import SabreMS, QiskitLevel3\n",
        "from transpile_benchy.metrics.abc_metrics import MetricInterface\n",
        "from transpile_benchy.metrics.gate_counts import DepthMetric\n",
        "from mirror_gates.utilities import DoNothing"
      ]
    },
    {
      "cell_type": "code",
      "execution_count": 2,
      "metadata": {},
      "outputs": [],
      "source": [
        "from transpile_benchy.library import CircuitLibrary\n",
        "\n",
        "library = CircuitLibrary.from_txt(\"../../circuits/select.txt\")\n",
        "# library = CircuitLibrary.from_txt(\"../../circuits/small_circuits.txt\")\n",
        "# library = CircuitLibrary.from_txt(\"speedups.txt\")"
      ]
    },
    {
      "cell_type": "code",
      "execution_count": 3,
      "metadata": {},
      "outputs": [],
      "source": [
        "coupling_map = CouplingMap.from_heavy_hex(5)\n",
        "transpilers = [\n",
        "    QiskitLevel3(coupling_map),\n",
        "    SabreMS(coupling_map, name=\"SABREMS-a0\", fixed_aggression=0),\n",
        "    SabreMS(coupling_map, name=\"SABREMS-a1\", fixed_aggression=1),\n",
        "    SabreMS(coupling_map, name=\"SABREMS-a2\", fixed_aggression=2),\n",
        "    SabreMS(coupling_map, name=\"SABREMS-a3\", fixed_aggression=3),\n",
        "]\n",
        "\n",
        "metrics = [DepthMetric(consolidate=False)]"
      ]
    },
    {
      "cell_type": "code",
      "execution_count": 5,
      "metadata": {},
      "outputs": [
        {
          "name": "stdout",
          "output_type": "stream",
          "text": [
            "Percent volume of A_C2\t | Cost\t | Sequence name\n",
            "  0.00% =    0/1    \t | 0.00\t | \n",
            "  0.00% =    0/1    \t | 0.50\t | xx_plus_yy(-1.57080)\n",
            " 50.00% =    1/2    \t | 1.00\t | xx_plus_yy(-1.57080).xx_plus_yy(-1.57080)\n",
            "100.00% =    1/1    \t | 1.50\t | xx_plus_yy(-1.57080).xx_plus_yy(-1.57080).xx_plus_yy(-1.57080)\n"
          ]
        },
        {
          "name": "stderr",
          "output_type": "stream",
          "text": [
            "Circuits from library:   0%|          | 0/4 [00:00<?, ?it/s]"
          ]
        },
        {
          "name": "stdout",
          "output_type": "stream",
          "text": [
            "Loading qft_n18 from QASMBench\n"
          ]
        }
      ],
      "source": [
        "from transpile_benchy.benchmark import Benchmark\n",
        "\n",
        "# only interested in TimeMetric, is there by default\n",
        "benchmark = Benchmark(\n",
        "    transpilers=transpilers,\n",
        "    circuit_library=library,\n",
        "    metrics=metrics,\n",
        "    num_runs=3,\n",
        ")\n",
        "benchmark.run()"
      ]
    },
    {
      "cell_type": "code",
      "execution_count": null,
      "metadata": {},
      "outputs": [],
      "source": [
        "print(benchmark.summary_statistics(transpilers[0], transpilers[1])[\"monodromy_depth\"])\n",
        "print(benchmark.summary_statistics(transpilers[0], transpilers[2])[\"monodromy_depth\"])\n",
        "print(benchmark.summary_statistics(transpilers[0], transpilers[3])[\"monodromy_depth\"])\n",
        "print(benchmark.summary_statistics(transpilers[0], transpilers[4])[\"monodromy_depth\"])"
      ]
    },
    {
      "cell_type": "code",
      "execution_count": null,
      "metadata": {},
      "outputs": [],
      "source": [
        "from transpile_benchy.render import plot_benchmark\n",
        "\n",
        "plot_benchmark(benchmark, save=0, legend_show=1, filename=\"aggression\")"
      ]
    }
  ],
  "metadata": {
    "kernelspec": {
      "display_name": ".venv",
      "language": "python",
      "name": "python3"
    },
    "language_info": {
      "codemirror_mode": {
        "name": "ipython",
        "version": 3
      },
      "file_extension": ".py",
      "mimetype": "text/x-python",
      "name": "python",
      "nbconvert_exporter": "python",
      "pygments_lexer": "ipython3",
      "version": "3.11.4"
    },
    "orig_nbformat": 4
  },
  "nbformat": 4,
  "nbformat_minor": 2
}
