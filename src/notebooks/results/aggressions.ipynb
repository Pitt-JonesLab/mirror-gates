{
  "cells": [
    {
      "cell_type": "code",
      "execution_count": 1,
      "metadata": {},
      "outputs": [],
      "source": [
        "# TODO, show how different aggression configurations impact results\n",
        "from qiskit.transpiler import CouplingMap\n",
        "from mirror_gates.pass_managers import SabreMS, QiskitLevel3\n",
        "from transpile_benchy.metrics.abc_metrics import MetricInterface\n",
        "from transpile_benchy.metrics.gate_counts import DepthMetric\n",
        "from mirror_gates.utilities import DoNothing"
      ]
    },
    {
      "cell_type": "code",
      "execution_count": 2,
      "metadata": {},
      "outputs": [],
      "source": [
        "from transpile_benchy.library import CircuitLibrary\n",
        "\n",
        "library = CircuitLibrary.from_txt(\"../../circuits/select.txt\")\n",
        "# library = CircuitLibrary.from_txt(\"../../circuits/small_circuits.txt\")\n",
        "# library = CircuitLibrary.from_txt(\"speedups.txt\")"
      ]
    },
    {
      "cell_type": "code",
      "execution_count": 3,
      "metadata": {},
      "outputs": [],
      "source": [
        "coupling_map = CouplingMap.from_heavy_hex(5)\n",
        "transpilers = [\n",
        "    QiskitLevel3(coupling_map),\n",
        "    SabreMS(coupling_map, name=\"SABREMS-a0\", fixed_aggression=0),\n",
        "    SabreMS(coupling_map, name=\"SABREMS-a1\", fixed_aggression=1),\n",
        "    SabreMS(coupling_map, name=\"SABREMS-a2\", fixed_aggression=2),\n",
        "    SabreMS(coupling_map, name=\"SABREMS-a3\", fixed_aggression=3),\n",
        "]\n",
        "\n",
        "metrics = [DepthMetric(consolidate=False)]"
      ]
    },
    {
      "cell_type": "code",
      "execution_count": 1,
      "metadata": {},
      "outputs": [
        {
          "ename": "NameError",
          "evalue": "name 'transpilers' is not defined",
          "output_type": "error",
          "traceback": [
            "\u001b[0;31m---------------------------------------------------------------------------\u001b[0m",
            "\u001b[0;31mNameError\u001b[0m                                 Traceback (most recent call last)",
            "Cell \u001b[0;32mIn[1], line 5\u001b[0m\n\u001b[1;32m      1\u001b[0m \u001b[39mfrom\u001b[39;00m \u001b[39mtranspile_benchy\u001b[39;00m\u001b[39m.\u001b[39;00m\u001b[39mbenchmark\u001b[39;00m \u001b[39mimport\u001b[39;00m Benchmark\n\u001b[1;32m      3\u001b[0m \u001b[39m# only interested in TimeMetric, is there by default\u001b[39;00m\n\u001b[1;32m      4\u001b[0m benchmark \u001b[39m=\u001b[39m Benchmark(\n\u001b[0;32m----> 5\u001b[0m     transpilers\u001b[39m=\u001b[39mtranspilers,\n\u001b[1;32m      6\u001b[0m     circuit_library\u001b[39m=\u001b[39mlibrary,\n\u001b[1;32m      7\u001b[0m     metrics\u001b[39m=\u001b[39mmetrics,\n\u001b[1;32m      8\u001b[0m     num_runs\u001b[39m=\u001b[39m\u001b[39m3\u001b[39m,\n\u001b[1;32m      9\u001b[0m     logger\u001b[39m=\u001b[39mtranspile_benchy_logger\n\u001b[1;32m     10\u001b[0m )\n\u001b[1;32m     11\u001b[0m benchmark\u001b[39m.\u001b[39mrun()\n",
            "\u001b[0;31mNameError\u001b[0m: name 'transpilers' is not defined"
          ]
        }
      ],
      "source": [
        "from transpile_benchy.benchmark import Benchmark\n",
        "\n",
        "# only interested in TimeMetric, is there by default\n",
        "benchmark = Benchmark(\n",
        "    transpilers=transpilers,\n",
        "    circuit_library=library,\n",
        "    metrics=metrics,\n",
        "    num_runs=3,\n",
        ")\n",
        "benchmark.run()"
      ]
    },
    {
      "cell_type": "code",
      "execution_count": null,
      "metadata": {},
      "outputs": [],
      "source": [
        "print(benchmark.summary_statistics(transpilers[0], transpilers[1])[\"monodromy_depth\"])\n",
        "print(benchmark.summary_statistics(transpilers[0], transpilers[2])[\"monodromy_depth\"])\n",
        "print(benchmark.summary_statistics(transpilers[0], transpilers[3])[\"monodromy_depth\"])\n",
        "print(benchmark.summary_statistics(transpilers[0], transpilers[4])[\"monodromy_depth\"])"
      ]
    },
    {
      "cell_type": "code",
      "execution_count": null,
      "metadata": {},
      "outputs": [],
      "source": [
        "from transpile_benchy.render import plot_benchmark\n",
        "\n",
        "plot_benchmark(benchmark, save=0, legend_show=1, filename=\"aggression\")"
      ]
    }
  ],
  "metadata": {
    "kernelspec": {
      "display_name": ".venv",
      "language": "python",
      "name": "python3"
    },
    "language_info": {
      "codemirror_mode": {
        "name": "ipython",
        "version": 3
      },
      "file_extension": ".py",
      "mimetype": "text/x-python",
      "name": "python",
      "nbconvert_exporter": "python",
      "pygments_lexer": "ipython3",
      "version": "3.11.4"
    },
    "orig_nbformat": 4
  },
  "nbformat": 4,
  "nbformat_minor": 2
}
