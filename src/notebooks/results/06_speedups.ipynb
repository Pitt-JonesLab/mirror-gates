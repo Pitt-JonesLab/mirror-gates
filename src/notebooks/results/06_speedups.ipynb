{
  "cells": [
    {
      "cell_type": "code",
      "execution_count": 8,
      "metadata": {},
      "outputs": [],
      "source": [
        "from qiskit.transpiler import CouplingMap\n",
        "from mirror_gates.pass_managers import Mirage, QiskitLevel3\n",
        "from mirror_gates.logging import transpile_benchy_logger"
      ]
    },
    {
      "cell_type": "code",
      "execution_count": 9,
      "metadata": {},
      "outputs": [],
      "source": [
        "from transpile_benchy.library import CircuitLibrary\n",
        "\n",
        "library = CircuitLibrary.from_txt(\"../../circuits/iters_select.txt\")"
      ]
    },
    {
      "cell_type": "code",
      "execution_count": 10,
      "metadata": {},
      "outputs": [],
      "source": [
        "coupling_map = CouplingMap.from_line(64)\n",
        "# coupling_map = CouplingMap.from_heavy_hex(5)\n",
        "\n",
        "# XXX we hardcoded layout to not be parallelized to avoid a pipe error\n",
        "# before collecting data for this result -> change the hardcoded value\n",
        "\n",
        "# maybe requires downgrading to 3.9 to get this to work....????\n",
        "\n",
        "transpilers = [\n",
        "    QiskitLevel3(coupling_map, python_sabre=True),\n",
        "    Mirage(\n",
        "        coupling_map,\n",
        "        use_fast_settings=True,\n",
        "        name=\"Mirage\",\n",
        "        parallel=True,\n",
        "        swap_trials=6,\n",
        "        layout_trials=6,\n",
        "    ),\n",
        "]"
      ]
    },
    {
      "cell_type": "code",
      "execution_count": 11,
      "metadata": {},
      "outputs": [
        {
          "name": "stderr",
          "output_type": "stream",
          "text": [
            "INFO:transpile_benchy:Running benchmarks for circuits...\n",
            "Circuits from library:   0%|          | 0/1 [00:00<?, ?it/s]"
          ]
        },
        {
          "name": "stderr",
          "output_type": "stream",
          "text": [
            "INFO:transpile_benchy:Running benchmark for circuit qft_n18\n"
          ]
        },
        {
          "name": "stdout",
          "output_type": "stream",
          "text": [
            "Loading qft_n18 from QASMBench\n"
          ]
        },
        {
          "name": "stderr",
          "output_type": "stream",
          "text": [
            "Circuits from library: 100%|\u2588\u2588\u2588\u2588\u2588\u2588\u2588\u2588\u2588\u2588| 1/1 [00:52<00:00, 52.60s/it]\n"
          ]
        }
      ],
      "source": [
        "from transpile_benchy.benchmark import Benchmark\n",
        "\n",
        "# only interested in TimeMetric, is there by default\n",
        "benchmark = Benchmark(\n",
        "    transpilers=transpilers,\n",
        "    circuit_library=library,\n",
        "    num_runs=1,\n",
        "    logger=transpile_benchy_logger,\n",
        ")\n",
        "benchmark.run()"
      ]
    },
    {
      "cell_type": "code",
      "execution_count": 12,
      "metadata": {},
      "outputs": [
        {
          "data": {
            "text/plain": [
              "{'total_runtime': {'average_change': 264.56355273362436,\n",
              "  'aggregrate_change': 264.56355273362436,\n",
              "  'best_circuit': 'qft_n18',\n",
              "  'worst_circuit': 'qft_n18'}}"
            ]
          },
          "execution_count": 12,
          "metadata": {},
          "output_type": "execute_result"
        }
      ],
      "source": [
        "benchmark.summary_statistics(transpilers[0], transpilers[1])"
      ]
    },
    {
      "cell_type": "code",
      "execution_count": 15,
      "metadata": {},
      "outputs": [
        {
          "name": "stderr",
          "output_type": "stream",
          "text": [
            "/home/evm9/mirror-gates/.venv/lib/python3.11/site-packages/numpy/lib/polynomial.py:667: RuntimeWarning: invalid value encountered in divide\n",
            "  lhs /= scale\n"
          ]
        },
        {
          "ename": "SystemError",
          "evalue": "<class 'numpy.linalg.LinAlgError'> returned a result with an exception set",
          "output_type": "error",
          "traceback": [
            "\u001b[0;31m---------------------------------------------------------------------------\u001b[0m",
            "\u001b[0;31mValueError\u001b[0m                                Traceback (most recent call last)",
            "\u001b[0;31mValueError\u001b[0m: On entry to DLASCL parameter number 4 had an illegal value",
            "\nThe above exception was the direct cause of the following exception:\n",
            "\u001b[0;31mSystemError\u001b[0m                               Traceback (most recent call last)",
            "Cell \u001b[0;32mIn[15], line 3\u001b[0m\n\u001b[1;32m      1\u001b[0m \u001b[39mfrom\u001b[39;00m \u001b[39mtranspile_benchy\u001b[39;00m\u001b[39m.\u001b[39;00m\u001b[39mrender\u001b[39;00m \u001b[39mimport\u001b[39;00m plot_benchmark\n\u001b[0;32m----> 3\u001b[0m plot_benchmark(\n\u001b[1;32m      4\u001b[0m     benchmark,\n\u001b[1;32m      5\u001b[0m     save\u001b[39m=\u001b[39;49m\u001b[39m1\u001b[39;49m,\n\u001b[1;32m      6\u001b[0m     legend_show\u001b[39m=\u001b[39;49m\u001b[39m1\u001b[39;49m,\n\u001b[1;32m      7\u001b[0m     filename\u001b[39m=\u001b[39;49m\u001b[39m\"\u001b[39;49m\u001b[39mspeed\u001b[39;49m\u001b[39m\"\u001b[39;49m,\n\u001b[1;32m      8\u001b[0m     plot_type\u001b[39m=\u001b[39;49m\u001b[39m\"\u001b[39;49m\u001b[39mtrendline\u001b[39;49m\u001b[39m\"\u001b[39;49m,\n\u001b[1;32m      9\u001b[0m     color_override\u001b[39m=\u001b[39;49m[\u001b[39m0\u001b[39;49m, \u001b[39m3\u001b[39;49m],\n\u001b[1;32m     10\u001b[0m )\n",
            "File \u001b[0;32m~/transpile_benchy/src/transpile_benchy/render.py:197\u001b[0m, in \u001b[0;36mplot_benchmark\u001b[0;34m(benchmark, legend_show, save, filename, plot_type, override_legend, color_override, auto_sort)\u001b[0m\n\u001b[1;32m    188\u001b[0m     _configure_plot(\n\u001b[1;32m    189\u001b[0m         ax,\n\u001b[1;32m    190\u001b[0m         metric\u001b[39m.\u001b[39mpretty_name,\n\u001b[0;32m   (...)\u001b[0m\n\u001b[1;32m    194\u001b[0m         \u001b[39m\"\u001b[39m\u001b[39mbar\u001b[39m\u001b[39m\"\u001b[39m,\n\u001b[1;32m    195\u001b[0m     )\n\u001b[1;32m    196\u001b[0m \u001b[39melif\u001b[39;00m plot_type \u001b[39m==\u001b[39m \u001b[39m\"\u001b[39m\u001b[39mtrendline\u001b[39m\u001b[39m\"\u001b[39m:\n\u001b[0;32m--> 197\u001b[0m     _plot_trendline(ax, cmap, sorted_results, transpiler_count)\n\u001b[1;32m    198\u001b[0m     _configure_plot(\n\u001b[1;32m    199\u001b[0m         ax,\n\u001b[1;32m    200\u001b[0m         metric\u001b[39m.\u001b[39mpretty_name,\n\u001b[0;32m   (...)\u001b[0m\n\u001b[1;32m    204\u001b[0m         \u001b[39m\"\u001b[39m\u001b[39mtrendline\u001b[39m\u001b[39m\"\u001b[39m,\n\u001b[1;32m    205\u001b[0m     )\n\u001b[1;32m    207\u001b[0m \u001b[39mif\u001b[39;00m legend_show:\n",
            "File \u001b[0;32m~/transpile_benchy/src/transpile_benchy/render.py:78\u001b[0m, in \u001b[0;36m_plot_trendline\u001b[0;34m(ax, cmap, sorted_results, transpiler_count)\u001b[0m\n\u001b[1;32m     75\u001b[0m ax\u001b[39m.\u001b[39mscatter(x_data, y_data, color\u001b[39m=\u001b[39mcmap(j))\n\u001b[1;32m     77\u001b[0m \u001b[39m# Fit a line to the data and plot the line\u001b[39;00m\n\u001b[0;32m---> 78\u001b[0m coeff \u001b[39m=\u001b[39m np\u001b[39m.\u001b[39;49mpolyfit(x_data, y_data, \u001b[39m2\u001b[39;49m)\n\u001b[1;32m     79\u001b[0m line \u001b[39m=\u001b[39m np\u001b[39m.\u001b[39mpoly1d(coeff)(x_data)\n\u001b[1;32m     80\u001b[0m ax\u001b[39m.\u001b[39mplot(x_data, line, color\u001b[39m=\u001b[39mcmap(j), linestyle\u001b[39m=\u001b[39m\u001b[39m\"\u001b[39m\u001b[39mdashed\u001b[39m\u001b[39m\"\u001b[39m)\n",
            "File \u001b[0;32m<__array_function__ internals>:180\u001b[0m, in \u001b[0;36mpolyfit\u001b[0;34m(*args, **kwargs)\u001b[0m\n",
            "File \u001b[0;32m~/mirror-gates/.venv/lib/python3.11/site-packages/numpy/lib/polynomial.py:668\u001b[0m, in \u001b[0;36mpolyfit\u001b[0;34m(x, y, deg, rcond, full, w, cov)\u001b[0m\n\u001b[1;32m    666\u001b[0m scale \u001b[39m=\u001b[39m NX\u001b[39m.\u001b[39msqrt((lhs\u001b[39m*\u001b[39mlhs)\u001b[39m.\u001b[39msum(axis\u001b[39m=\u001b[39m\u001b[39m0\u001b[39m))\n\u001b[1;32m    667\u001b[0m lhs \u001b[39m/\u001b[39m\u001b[39m=\u001b[39m scale\n\u001b[0;32m--> 668\u001b[0m c, resids, rank, s \u001b[39m=\u001b[39m lstsq(lhs, rhs, rcond)\n\u001b[1;32m    669\u001b[0m c \u001b[39m=\u001b[39m (c\u001b[39m.\u001b[39mT\u001b[39m/\u001b[39mscale)\u001b[39m.\u001b[39mT  \u001b[39m# broadcast scale coefficients\u001b[39;00m\n\u001b[1;32m    671\u001b[0m \u001b[39m# warn on rank reduction, which indicates an ill conditioned matrix\u001b[39;00m\n",
            "File \u001b[0;32m<__array_function__ internals>:180\u001b[0m, in \u001b[0;36mlstsq\u001b[0;34m(*args, **kwargs)\u001b[0m\n",
            "File \u001b[0;32m~/mirror-gates/.venv/lib/python3.11/site-packages/numpy/linalg/linalg.py:2300\u001b[0m, in \u001b[0;36mlstsq\u001b[0;34m(a, b, rcond)\u001b[0m\n\u001b[1;32m   2297\u001b[0m \u001b[39mif\u001b[39;00m n_rhs \u001b[39m==\u001b[39m \u001b[39m0\u001b[39m:\n\u001b[1;32m   2298\u001b[0m     \u001b[39m# lapack can't handle n_rhs = 0 - so allocate the array one larger in that axis\u001b[39;00m\n\u001b[1;32m   2299\u001b[0m     b \u001b[39m=\u001b[39m zeros(b\u001b[39m.\u001b[39mshape[:\u001b[39m-\u001b[39m\u001b[39m2\u001b[39m] \u001b[39m+\u001b[39m (m, n_rhs \u001b[39m+\u001b[39m \u001b[39m1\u001b[39m), dtype\u001b[39m=\u001b[39mb\u001b[39m.\u001b[39mdtype)\n\u001b[0;32m-> 2300\u001b[0m x, resids, rank, s \u001b[39m=\u001b[39m gufunc(a, b, rcond, signature\u001b[39m=\u001b[39;49msignature, extobj\u001b[39m=\u001b[39;49mextobj)\n\u001b[1;32m   2301\u001b[0m \u001b[39mif\u001b[39;00m m \u001b[39m==\u001b[39m \u001b[39m0\u001b[39m:\n\u001b[1;32m   2302\u001b[0m     x[\u001b[39m.\u001b[39m\u001b[39m.\u001b[39m\u001b[39m.\u001b[39m] \u001b[39m=\u001b[39m \u001b[39m0\u001b[39m\n",
            "File \u001b[0;32m~/mirror-gates/.venv/lib/python3.11/site-packages/numpy/linalg/linalg.py:101\u001b[0m, in \u001b[0;36m_raise_linalgerror_lstsq\u001b[0;34m(err, flag)\u001b[0m\n\u001b[1;32m    100\u001b[0m \u001b[39mdef\u001b[39;00m \u001b[39m_raise_linalgerror_lstsq\u001b[39m(err, flag):\n\u001b[0;32m--> 101\u001b[0m     \u001b[39mraise\u001b[39;00m LinAlgError(\u001b[39m\"\u001b[39;49m\u001b[39mSVD did not converge in Linear Least Squares\u001b[39;49m\u001b[39m\"\u001b[39;49m)\n",
            "\u001b[0;31mSystemError\u001b[0m: <class 'numpy.linalg.LinAlgError'> returned a result with an exception set"
          ]
        }
      ],
      "source": [
        "from transpile_benchy.render import plot_benchmark\n",
        "\n",
        "plot_benchmark(\n",
        "    benchmark,\n",
        "    save=1,\n",
        "    legend_show=1,\n",
        "    filename=\"speed\",\n",
        "    plot_type=\"trendline\",\n",
        "    color_override=[0, 3],\n",
        ")"
      ]
    },
    {
      "cell_type": "code",
      "execution_count": 16,
      "metadata": {},
      "outputs": [
        {
          "name": "stdout",
          "output_type": "stream",
          "text": [
            "\n",
            "Transpiler: Mirage-$\\sqrt{\\texttt{iSWAP}}$\n",
            "\n",
            "  Metric: total_runtime\n",
            "  Circuit: qft_n18                                  Mean result: 41.222                         Trials: [41.222068071365356]\n",
            "\n",
            "Transpiler: Qiskit-$\\sqrt{\\texttt{iSWAP}}$\n",
            "  Circuit: qft_n18                                  Mean result: 11.307                         Trials: [11.30723786354065]\n"
          ]
        }
      ],
      "source": [
        "print(benchmark)"
      ]
    }
  ],
  "metadata": {
    "kernelspec": {
      "display_name": ".venv",
      "language": "python",
      "name": "python3"
    },
    "language_info": {
      "codemirror_mode": {
        "name": "ipython",
        "version": 3
      },
      "file_extension": ".py",
      "mimetype": "text/x-python",
      "name": "python",
      "nbconvert_exporter": "python",
      "pygments_lexer": "ipython3",
      "version": "3.9.17"
    },
    "orig_nbformat": 4
  },
  "nbformat": 4,
  "nbformat_minor": 2
}
