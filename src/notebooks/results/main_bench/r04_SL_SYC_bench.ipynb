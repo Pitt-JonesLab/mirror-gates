{
  "cells": [
    {
      "cell_type": "code",
      "execution_count": 1,
      "metadata": {},
      "outputs": [],
      "source": [
        "from transpile_benchy.metrics.gate_counts import (\n",
        "    DepthMetric,\n",
        "    TotalMetric,\n",
        "    TotalSwaps,\n",
        ")\n",
        "from qiskit.circuit.library import iSwapGate\n",
        "from qiskit.transpiler import CouplingMap\n",
        "from mirror_gates.pass_managers import Mirage, QiskitLevel3\n",
        "from mirror_gates.utilities import SubsMetric\n",
        "from mirror_gates.logging import transpile_benchy_logger"
      ]
    },
    {
      "cell_type": "code",
      "execution_count": 2,
      "metadata": {},
      "outputs": [],
      "source": [
        "# N = 4\n",
        "# coupling_map = CouplingMap.from_line(N)\n",
        "coupling_map = CouplingMap.from_heavy_hex(5)"
      ]
    },
    {
      "cell_type": "code",
      "execution_count": 3,
      "metadata": {},
      "outputs": [],
      "source": [
        "from transpile_benchy.library import CircuitLibrary\n",
        "\n",
        "library = CircuitLibrary.from_txt(\"../../../circuits/medium_circuits.txt\")\n",
        "# library = CircuitLibrary.from_txt(\"../../circuits/debug.txt\")"
      ]
    },
    {
      "cell_type": "code",
      "execution_count": 4,
      "metadata": {},
      "outputs": [],
      "source": [
        "# XXX set consolidate to False\n",
        "# this is allowed only because my pass manager will preserve consolidation\n",
        "# see post_stage, I call fastconsolidate manually\n",
        "\n",
        "# NOTE: use TotalSwaps to verify baselines have > 0 swaps\n",
        "# otherwise, there is no room for improvement.\n",
        "# we can include these if we want to show our methods will still work\n",
        "# but somewhat trivial since we just append VF2Layout\n",
        "metrics = [\n",
        "    DepthMetric(consolidate=False),\n",
        "    TotalMetric(consolidate=False),\n",
        "    TotalSwaps(consolidate=False),\n",
        "    SubsMetric(),\n",
        "]\n",
        "\n",
        "transpilers = [\n",
        "    QiskitLevel3(coupling_map, cx_basis=True),\n",
        "    Mirage(coupling_map, logger=transpile_benchy_logger, cx_basis=True),\n",
        "]"
      ]
    },
    {
      "cell_type": "code",
      "execution_count": 5,
      "metadata": {},
      "outputs": [
        {
          "name": "stderr",
          "output_type": "stream",
          "text": [
            "INFO:transpile_benchy:Running benchmarks for circuits...\n"
          ]
        },
        {
          "name": "stdout",
          "output_type": "stream",
          "text": [
            "Percent volume of A_C2\t | Cost\t | Sequence name\n",
            "  0.00% =    0/1    \t | 0.00\t | \n",
            "  0.00% =    0/1    \t | 1.00\t | cx\n",
            "  0.00% =    0/1    \t | 2.00\t | cx.cx\n",
            "100.00% =    1/1    \t | 3.00\t | cx.cx.cx\n"
          ]
        },
        {
          "name": "stderr",
          "output_type": "stream",
          "text": [
            "Circuits from library:   0%|          | 0/15 [00:00<?, ?it/s]INFO:transpile_benchy:Running benchmark for circuit qec9xz_n17\n"
          ]
        },
        {
          "name": "stdout",
          "output_type": "stream",
          "text": [
            "Loading qec9xz_n17 from QASMBench\n"
          ]
        }
      ],
      "source": [
        "from transpile_benchy.benchmark import Benchmark\n",
        "\n",
        "benchmark = Benchmark(\n",
        "    transpilers=transpilers,\n",
        "    circuit_library=library,\n",
        "    metrics=metrics,\n",
        "    logger=transpile_benchy_logger,\n",
        "    num_runs=5,\n",
        ")\n",
        "\n",
        "benchmark.run()\n",
        "# print(benchmark)"
      ]
    },
    {
      "cell_type": "code",
      "execution_count": null,
      "metadata": {},
      "outputs": [],
      "source": [
        "print(benchmark)"
      ]
    },
    {
      "cell_type": "code",
      "execution_count": null,
      "metadata": {},
      "outputs": [],
      "source": [
        "benchmark.summary_statistics(transpilers[0], transpilers[1])"
      ]
    },
    {
      "cell_type": "code",
      "execution_count": null,
      "metadata": {},
      "outputs": [],
      "source": [
        "from transpile_benchy.render import plot_benchmark\n",
        "\n",
        "plot_benchmark(\n",
        "    benchmark,\n",
        "    save=1,\n",
        "    legend_show=0,\n",
        "    filename=\"cnot_hex\",\n",
        "    color_override=[0, 3],\n",
        ")"
      ]
    }
  ],
  "metadata": {
    "kernelspec": {
      "display_name": ".venv",
      "language": "python",
      "name": "python3"
    },
    "language_info": {
      "codemirror_mode": {
        "name": "ipython",
        "version": 3
      },
      "file_extension": ".py",
      "mimetype": "text/x-python",
      "name": "python",
      "nbconvert_exporter": "python",
      "pygments_lexer": "ipython3",
      "version": "3.10.6"
    },
    "orig_nbformat": 4
  },
  "nbformat": 4,
  "nbformat_minor": 2
}
