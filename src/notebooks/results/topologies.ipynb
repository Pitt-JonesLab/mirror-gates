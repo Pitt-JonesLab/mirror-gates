{
  "cells": [
    {
      "cell_type": "code",
      "execution_count": 3,
      "metadata": {},
      "outputs": [],
      "source": [
        "from transpile_benchy.metrics.gate_counts import DepthMetric, TotalMetric, TotalSwaps\n",
        "from qiskit.circuit.library import iSwapGate\n",
        "from qiskit.transpiler import CouplingMap\n",
        "from mirror_gates.pass_managers import Mirage, QiskitLevel3\n",
        "from mirror_gates.utilities import SubsMetric\n",
        "from mirror_gates.logging import transpile_benchy_logger"
      ]
    },
    {
      "cell_type": "code",
      "execution_count": 4,
      "metadata": {},
      "outputs": [],
      "source": [
        "from itertools import product\n",
        "\n",
        "module_size = 4\n",
        "children = 4\n",
        "total_levels = 3\n",
        "qubit_counter = 0\n",
        "coupling_map = []  # TODO\n",
        "\n",
        "\n",
        "def get_module(qubit_counter, starting_qubit=None):\n",
        "    temp_qubits = []\n",
        "    if starting_qubit is not None:\n",
        "        temp_qubits.append(starting_qubit)\n",
        "    for i in range(module_size - len(temp_qubits)):\n",
        "        temp_qubits.append(qubit_counter)\n",
        "        qubit_counter += 1\n",
        "    temp_edges = [el for el in product(temp_qubits, repeat=2) if el[0] != el[1]]\n",
        "    # remove before returning so only get the qubits specific to the new module\n",
        "    if starting_qubit is not None:\n",
        "        temp_qubits.remove(starting_qubit)\n",
        "    return qubit_counter, temp_qubits, temp_edges\n",
        "\n",
        "\n",
        "qubit_counter, root_q, root_e = get_module(qubit_counter)\n",
        "coupling_map.extend(root_e)\n",
        "\n",
        "\n",
        "def foo_recursive(qubit_counter, root_q, level):\n",
        "    # convention, root only counts as level=1\n",
        "    if level == (total_levels - 1):\n",
        "        return qubit_counter\n",
        "    offset = 1 if level != 0 else 0\n",
        "    # this offset says that if we aren't the first level then we need less one child bc it points to the parent\n",
        "    for node_i in range(children - offset):\n",
        "        node_q = root_q[node_i]  # +offset]\n",
        "        # extend a module from this node\n",
        "        qubit_counter, child_q, child_e = get_module(\n",
        "            qubit_counter, starting_qubit=node_q\n",
        "        )\n",
        "        coupling_map.extend(child_e)\n",
        "\n",
        "        # XXX\n",
        "        qubit_counter = foo_recursive(qubit_counter, child_q, level + 1)\n",
        "    return qubit_counter\n",
        "\n",
        "\n",
        "##\n",
        "qubit_counter = foo_recursive(qubit_counter, root_q, level=0)\n",
        "qubits = list(range(qubit_counter))\n",
        "\n",
        "# finally,\n",
        "# delete repeats\n",
        "coupling_map = list(set(coupling_map))\n",
        "# add bidirectional edges\n",
        "coupling_map += [[q2, q1] for q1, q2 in coupling_map]\n",
        "# check no edges to self\n",
        "coupling_map = [[q1, q2] for q1, q2 in coupling_map if q1 != q2]\n",
        "\n",
        "tree = CouplingMap(coupling_map)"
      ]
    },
    {
      "cell_type": "code",
      "execution_count": 5,
      "metadata": {},
      "outputs": [],
      "source": [
        "# N = 4\n",
        "# coupling_map = CouplingMap.from_line(N)\n",
        "# coupling_map = CouplingMap.from_heavy_hex(5)\n",
        "square = CouplingMap.from_grid(6, 6)"
      ]
    },
    {
      "cell_type": "code",
      "execution_count": 6,
      "metadata": {},
      "outputs": [],
      "source": [
        "from transpile_benchy.library import CircuitLibrary\n",
        "\n",
        "library = CircuitLibrary.from_txt(\"../../circuits/medium_circuits.txt\")\n",
        "# library = CircuitLibrary.from_txt(\"../../circuits/debug.txt\")"
      ]
    },
    {
      "cell_type": "code",
      "execution_count": 7,
      "metadata": {},
      "outputs": [],
      "source": [
        "# XXX set consolidate to False\n",
        "# this is allowed only because my pass manager will preserve consolidation\n",
        "# see post_stage, I call fastconsolidate manually\n",
        "\n",
        "# NOTE: use TotalSwaps to verify baselines have > 0 swaps\n",
        "# otherwise, there is no room for improvement.\n",
        "# we can include these if we want to show our methods will still work\n",
        "# but somewhat trivial since we just append VF2Layout\n",
        "metrics = [\n",
        "    DepthMetric(consolidate=False),\n",
        "    TotalMetric(consolidate=False),\n",
        "    TotalSwaps(consolidate=False),\n",
        "    SubsMetric(),\n",
        "]\n",
        "\n",
        "transpilers = [\n",
        "    QiskitLevel3(square, name=\"Qiskit-square\"),\n",
        "    Mirage(square, name=\"Mirage-square\"),\n",
        "    QiskitLevel3(tree, name=\"Qiskit-tree\"),\n",
        "    Mirage(tree, name=\"Mirage-tree\"),\n",
        "]"
      ]
    },
    {
      "cell_type": "code",
      "execution_count": 8,
      "metadata": {},
      "outputs": [
        {
          "name": "stderr",
          "output_type": "stream",
          "text": [
            "INFO:transpile_benchy:Running benchmarks for circuits...\n"
          ]
        },
        {
          "name": "stdout",
          "output_type": "stream",
          "text": [
            "Percent volume of A_C2\t | Cost\t | Sequence name\n",
            "  0.00% =    0/1    \t | 0.00\t | \n",
            "  0.00% =    0/1    \t | 0.50\t | xx_plus_yy(-1.57080)\n",
            " 50.00% =    1/2    \t | 1.00\t | xx_plus_yy(-1.57080).xx_plus_yy(-1.57080)\n",
            "100.00% =    1/1    \t | 1.50\t | xx_plus_yy(-1.57080).xx_plus_yy(-1.57080).xx_plus_yy(-1.57080)\n",
            "Percent volume of A_C2\t | Cost\t | Sequence name\n",
            "  0.00% =    0/1    \t | 0.00\t | \n",
            "  0.00% =    0/1    \t | 1.00\t | cx\n",
            "  0.00% =    0/1    \t | 2.00\t | cx.cx\n",
            "100.00% =    1/1    \t | 3.00\t | cx.cx.cx\n"
          ]
        },
        {
          "name": "stderr",
          "output_type": "stream",
          "text": [
            "Circuits from library:   0%|          | 0/15 [00:00<?, ?it/s]INFO:transpile_benchy:Running benchmark for circuit qec9xz_n17\n"
          ]
        },
        {
          "name": "stdout",
          "output_type": "stream",
          "text": [
            "Loading qec9xz_n17 from QASMBench\n"
          ]
        },
        {
          "name": "stderr",
          "output_type": "stream",
          "text": [
            "Circuits from library:   7%|\u258b         | 1/15 [01:28<20:34, 88.18s/it]INFO:transpile_benchy:Running benchmark for circuit seca_n11\n"
          ]
        },
        {
          "name": "stdout",
          "output_type": "stream",
          "text": [
            "Loading seca_n11 from QASMBench\n"
          ]
        },
        {
          "name": "stderr",
          "output_type": "stream",
          "text": [
            "Circuits from library:  13%|\u2588\u258e        | 2/15 [03:25<22:48, 105.24s/it]INFO:transpile_benchy:Running benchmark for circuit qram_n20\n"
          ]
        },
        {
          "name": "stdout",
          "output_type": "stream",
          "text": [
            "Loading qram_n20 from QASMBench\n"
          ]
        },
        {
          "name": "stderr",
          "output_type": "stream",
          "text": [
            "Circuits from library:  20%|\u2588\u2588        | 3/15 [05:34<23:15, 116.33s/it]INFO:transpile_benchy:Running benchmark for circuit knn_n25\n"
          ]
        },
        {
          "name": "stdout",
          "output_type": "stream",
          "text": [
            "Loading knn_n25 from QASMBench\n"
          ]
        },
        {
          "name": "stderr",
          "output_type": "stream",
          "text": [
            "Circuits from library:  27%|\u2588\u2588\u258b       | 4/15 [08:01<23:29, 128.17s/it]INFO:transpile_benchy:Running benchmark for circuit swap_test_n25\n"
          ]
        },
        {
          "name": "stdout",
          "output_type": "stream",
          "text": [
            "Loading swap_test_n25 from QASMBench\n"
          ]
        },
        {
          "name": "stderr",
          "output_type": "stream",
          "text": [
            "Circuits from library:  33%|\u2588\u2588\u2588\u258e      | 5/15 [10:27<22:26, 134.66s/it]INFO:transpile_benchy:Running benchmark for circuit bigadder_n18\n"
          ]
        },
        {
          "name": "stdout",
          "output_type": "stream",
          "text": [
            "Loading bigadder_n18 from QASMBench\n"
          ]
        },
        {
          "name": "stderr",
          "output_type": "stream",
          "text": [
            "Circuits from library:  40%|\u2588\u2588\u2588\u2588      | 6/15 [13:04<21:20, 142.30s/it]INFO:transpile_benchy:Running benchmark for circuit multiplier_n15\n"
          ]
        },
        {
          "name": "stdout",
          "output_type": "stream",
          "text": [
            "Loading multiplier_n15 from QASMBench\n"
          ]
        },
        {
          "name": "stderr",
          "output_type": "stream",
          "text": [
            "Circuits from library:  47%|\u2588\u2588\u2588\u2588\u258b     | 7/15 [17:25<24:08, 181.05s/it]INFO:transpile_benchy:Running benchmark for circuit qft_n18\n"
          ]
        },
        {
          "name": "stdout",
          "output_type": "stream",
          "text": [
            "Loading qft_n18 from QASMBench\n"
          ]
        },
        {
          "name": "stderr",
          "output_type": "stream",
          "text": [
            "Circuits from library:  53%|\u2588\u2588\u2588\u2588\u2588\u258e    | 8/15 [22:04<24:46, 212.32s/it]INFO:transpile_benchy:Running benchmark for circuit sat_n11\n"
          ]
        },
        {
          "name": "stdout",
          "output_type": "stream",
          "text": [
            "Loading sat_n11 from QASMBench\n"
          ]
        }
      ],
      "source": [
        "from transpile_benchy.benchmark import Benchmark\n",
        "\n",
        "benchmark = Benchmark(\n",
        "    transpilers=transpilers,\n",
        "    circuit_library=library,\n",
        "    metrics=metrics,\n",
        "    logger=transpile_benchy_logger,\n",
        "    num_runs=3,\n",
        ")\n",
        "\n",
        "benchmark.run()\n",
        "# print(benchmark)"
      ]
    },
    {
      "cell_type": "code",
      "execution_count": null,
      "metadata": {},
      "outputs": [],
      "source": [
        "# print(benchmark)"
      ]
    },
    {
      "cell_type": "code",
      "execution_count": null,
      "metadata": {},
      "outputs": [],
      "source": [
        "benchmark.summary_statistics(transpilers[1], transpilers[3])"
      ]
    },
    {
      "cell_type": "code",
      "execution_count": null,
      "metadata": {},
      "outputs": [],
      "source": [
        "from transpile_benchy.render import plot_benchmark\n",
        "\n",
        "plot_benchmark(\n",
        "    benchmark, save=1, legend_show=1, filename=\"grid\", color_override=[0, 3, 6, 7]\n",
        ")"
      ]
    }
  ],
  "metadata": {
    "kernelspec": {
      "display_name": ".venv",
      "language": "python",
      "name": "python3"
    },
    "language_info": {
      "codemirror_mode": {
        "name": "ipython",
        "version": 3
      },
      "file_extension": ".py",
      "mimetype": "text/x-python",
      "name": "python",
      "nbconvert_exporter": "python",
      "pygments_lexer": "ipython3",
      "version": "3.11.4"
    },
    "orig_nbformat": 4
  },
  "nbformat": 4,
  "nbformat_minor": 2
}
