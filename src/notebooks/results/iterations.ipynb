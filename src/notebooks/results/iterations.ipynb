{
 "cells": [
  {
   "cell_type": "code",
   "execution_count": 14,
   "metadata": {},
   "outputs": [],
   "source": [
    "# make a graph that shows convergence as a function of layout trials and swap trials\n",
    "# TODO\n",
    "from qiskit.transpiler import CouplingMap\n",
    "from mirror_gates.pass_managers import SabreMS, QiskitLevel3\n",
    "from transpile_benchy.metrics.abc_metrics import MetricInterface\n",
    "from transpile_benchy.metrics.gate_counts import DepthMetric\n",
    "from mirror_gates.utilities import DoNothing"
   ]
  },
  {
   "cell_type": "code",
   "execution_count": 15,
   "metadata": {},
   "outputs": [],
   "source": [
    "class LayoutTrialsStdMetric(MetricInterface):\n",
    "    def __init__(self):\n",
    "        \"\"\"Initialize the metric.\"\"\"\n",
    "        super().__init__(\n",
    "            name=\"layout_trials_std\", pretty_name=\"Layout Trial Standard Deviation\"\n",
    "        )\n",
    "\n",
    "    def _construct_pass(self):\n",
    "        \"\"\"Return the pass associated with this metric.\"\"\"\n",
    "        return DoNothing()\n",
    "\n",
    "\n",
    "class LayoutTrialsMetric(MetricInterface):\n",
    "    def __init__(self):\n",
    "        \"\"\"Initialize the metric.\"\"\"\n",
    "        super().__init__(name=\"layout_trials\", pretty_name=\"Layout Trial Costs\")\n",
    "\n",
    "    def _construct_pass(self):\n",
    "        \"\"\"Return the pass associated with this metric.\"\"\"\n",
    "        return DoNothing()"
   ]
  },
  {
   "cell_type": "code",
   "execution_count": 16,
   "metadata": {},
   "outputs": [],
   "source": [
    "from transpile_benchy.library import CircuitLibrary\n",
    "\n",
    "# library = CircuitLibrary.from_txt(\"../medium_circuits.txt\")\n",
    "library = CircuitLibrary.from_txt(\"qft.txt\")"
   ]
  },
  {
   "cell_type": "code",
   "execution_count": 17,
   "metadata": {},
   "outputs": [],
   "source": [
    "coupling_map = CouplingMap.from_heavy_hex(5)\n",
    "transpilers = [\n",
    "    # QiskitLevel3(coupling_map),\n",
    "    SabreMS(coupling_map, name=\"SABREMS\")\n",
    "]\n",
    "\n",
    "metrics = [LayoutTrialsMetric(), DepthMetric(consolidate=False)]"
   ]
  },
  {
   "cell_type": "code",
   "execution_count": 18,
   "metadata": {},
   "outputs": [
    {
     "name": "stderr",
     "output_type": "stream",
     "text": [
      "Circuits from library:   0%|          | 0/8 [00:00<?, ?it/s]"
     ]
    },
    {
     "name": "stdout",
     "output_type": "stream",
     "text": [
      "Loading qft_n4 from QASMBench\n"
     ]
    },
    {
     "name": "stderr",
     "output_type": "stream",
     "text": [
      "Circuits from library:  12%|█▎        | 1/8 [00:09<01:09,  9.94s/it]"
     ]
    },
    {
     "name": "stdout",
     "output_type": "stream",
     "text": [
      "Loading qft_n6 from MQTBench\n"
     ]
    }
   ],
   "source": [
    "from transpile_benchy.benchmark import Benchmark\n",
    "\n",
    "# only interested in TimeMetric, is there by default\n",
    "benchmark = Benchmark(\n",
    "    transpilers=transpilers,\n",
    "    circuit_library=library,\n",
    "    metrics=metrics,\n",
    "    num_runs=3,\n",
    ")\n",
    "benchmark.run()"
   ]
  },
  {
   "cell_type": "code",
   "execution_count": null,
   "metadata": {},
   "outputs": [
    {
     "name": "stdout",
     "output_type": "stream",
     "text": [
      "[[8.0, 6.5, 8.0, 8.0, 6.5, 8.0], [6.5, 8.5, 8.0, 8.5, 6.5, 8.0]]\n",
      "[[12.5, 16.5, 12.5, 16.5, 16.5, 16.5], [20.0, 16.5, 12.5, 21.5, 12.5, 16.5]]\n",
      "[[20.5, 26.0, 28.0, 33.5, 30.5, 20.5], [18.5, 36.0, 20.5, 18.5, 20.5, 18.5]]\n",
      "[[45.5, 42.5, 37.5, 53.0, 48.0, 38.5], [50.5, 44.5, 51.5, 56.5, 54.0, 39.5]]\n",
      "[[118.0, 65.5, 106.0, 127.5, 125.0, 108.0], [116.0, 105.5, 111.0, 144.0, 105.5, 94.5]]\n",
      "[[112.5, 86.0, 129.0, 146.5, 101.0, 56.5], [157.0, 117.5, 98.5, 110.5, 70.0, 148.5]]\n",
      "[[268.5, 157.5, 302.0, 298.0, 252.5, 322.0], [291.5, 259.0, 223.0, 209.0, 322.5, 288.0]]\n",
      "[[410.0, 318.5, 382.5, 279.0, 256.0, 373.5], [338.0, 357.0, 306.0, 294.0, 341.5, 403.5]]\n"
     ]
    }
   ],
   "source": [
    "# explictly print results\n",
    "for k, v in benchmark.metrics[0].saved_results.items():\n",
    "    for circuit, result in v.items():\n",
    "        print(result.data)"
   ]
  },
  {
   "cell_type": "code",
   "execution_count": null,
   "metadata": {},
   "outputs": [
    {
     "name": "stdout",
     "output_type": "stream",
     "text": [
      "SABREMS-$\\sqrt{\\texttt{iSWAP}}$\n",
      "qft_n4\n",
      "[[8.0, 6.5, 8.0, 8.0, 6.5, 8.0], [6.5, 8.5, 8.0, 8.5, 6.5, 8.0]]\n",
      "qft_n6\n",
      "[[12.5, 16.5, 12.5, 16.5, 16.5, 16.5], [20.0, 16.5, 12.5, 21.5, 12.5, 16.5]]\n",
      "qft_n8\n",
      "[[20.5, 26.0, 28.0, 33.5, 30.5, 20.5], [18.5, 36.0, 20.5, 18.5, 20.5, 18.5]]\n",
      "qft_n10\n",
      "[[45.5, 42.5, 37.5, 53.0, 48.0, 38.5], [50.5, 44.5, 51.5, 56.5, 54.0, 39.5]]\n",
      "qft_n16\n",
      "[[118.0, 65.5, 106.0, 127.5, 125.0, 108.0], [116.0, 105.5, 111.0, 144.0, 105.5, 94.5]]\n",
      "qft_n18\n",
      "[[112.5, 86.0, 129.0, 146.5, 101.0, 56.5], [157.0, 117.5, 98.5, 110.5, 70.0, 148.5]]\n",
      "qft_n32\n",
      "[[268.5, 157.5, 302.0, 298.0, 252.5, 322.0], [291.5, 259.0, 223.0, 209.0, 322.5, 288.0]]\n",
      "qft_n34\n",
      "[[410.0, 318.5, 382.5, 279.0, 256.0, 373.5], [338.0, 357.0, 306.0, 294.0, 341.5, 403.5]]\n"
     ]
    }
   ],
   "source": [
    "import matplotlib.pyplot as plt\n",
    "\n",
    "# Assuming benchmark.metrics[0].saved_results.items() is a dictionary\n",
    "# where keys are circuit names and values are lists of costs for each trial\n",
    "for k, v in benchmark.metrics[0].saved_results.items():\n",
    "    print(k)\n",
    "    for circuit, result in v.items():\n",
    "        print(circuit)\n",
    "        print(result.data)"
   ]
  }
 ],
 "metadata": {
  "kernelspec": {
   "display_name": ".venv",
   "language": "python",
   "name": "python3"
  },
  "language_info": {
   "codemirror_mode": {
    "name": "ipython",
    "version": 3
   },
   "file_extension": ".py",
   "mimetype": "text/x-python",
   "name": "python",
   "nbconvert_exporter": "python",
   "pygments_lexer": "ipython3",
   "version": "3.9.17"
  },
  "orig_nbformat": 4
 },
 "nbformat": 4,
 "nbformat_minor": 2
}
