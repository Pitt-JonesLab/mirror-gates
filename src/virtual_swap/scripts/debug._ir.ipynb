{
 "cells": [
  {
   "cell_type": "code",
   "execution_count": 72,
   "metadata": {},
   "outputs": [
    {
     "data": {
      "text/html": [
       "<pre style=\"word-wrap: normal;white-space: pre;background: #fff0;line-height: 1.1;font-family: &quot;Courier New&quot;,Courier,monospace\">                    \n",
       "q_0: ──■─────────■──\n",
       "     ┌─┴─┐       │  \n",
       "q_1: ┤ X ├──■────┼──\n",
       "     └───┘┌─┴─┐┌─┴─┐\n",
       "q_2: ─────┤ X ├┤ X ├\n",
       "          └───┘└───┘</pre>"
      ],
      "text/plain": [
       "                    \n",
       "q_0: ──■─────────■──\n",
       "     ┌─┴─┐       │  \n",
       "q_1: ┤ X ├──■────┼──\n",
       "     └───┘┌─┴─┐┌─┴─┐\n",
       "q_2: ─────┤ X ├┤ X ├\n",
       "          └───┘└───┘"
      ]
     },
     "execution_count": 72,
     "metadata": {},
     "output_type": "execute_result"
    }
   ],
   "source": [
    "from qiskit import QuantumCircuit\n",
    "\n",
    "qc = QuantumCircuit(3)\n",
    "qc.cx(0, 1)\n",
    "qc.cx(1, 2)\n",
    "qc.cx(0, 2)\n",
    "qc.draw()"
   ]
  },
  {
   "cell_type": "code",
   "execution_count": 73,
   "metadata": {},
   "outputs": [],
   "source": [
    "# pass manager is given dag, so use this as input to our mock functions\n",
    "from qiskit.converters import circuit_to_dag\n",
    "\n",
    "dag = circuit_to_dag(qc)"
   ]
  },
  {
   "cell_type": "code",
   "execution_count": 69,
   "metadata": {},
   "outputs": [
    {
     "name": "stdout",
     "output_type": "stream",
     "text": [
      "[0, 1]\n",
      "[1, 2]\n",
      "[0, 2]\n"
     ]
    }
   ],
   "source": [
    "# looking up index of a qubit in the circuit\n",
    "for node in dag.topological_op_nodes():\n",
    "    print([QuantumCircuit.find_bit(qc, arg).index for arg in node.qargs])"
   ]
  },
  {
   "cell_type": "code",
   "execution_count": 70,
   "metadata": {},
   "outputs": [
    {
     "data": {
      "text/plain": [
       "1"
      ]
     },
     "execution_count": 70,
     "metadata": {},
     "output_type": "execute_result"
    }
   ],
   "source": [
    "# basic cost function\n",
    "from qiskit.converters import dag_to_circuit\n",
    "\n",
    "\n",
    "def get_cost(dag, layout):\n",
    "    qc = dag_to_circuit(dag)\n",
    "    cost = 0\n",
    "    for node in dag.topological_op_nodes():\n",
    "        bit_indices = [QuantumCircuit.find_bit(qc, arg).index for arg in node.qargs]\n",
    "        # convert to physical qubit indices\n",
    "        physical_indices = [layout[bit_index] for bit_index in bit_indices]\n",
    "        # get the topological distance\n",
    "        distance = abs(physical_indices[0] - physical_indices[1]) - 1\n",
    "        cost += distance\n",
    "    return cost\n",
    "\n",
    "\n",
    "layout = {0: 0, 1: 1, 2: 2}\n",
    "get_cost(dag, layout)"
   ]
  },
  {
   "cell_type": "code",
   "execution_count": 74,
   "metadata": {},
   "outputs": [],
   "source": [
    "# cost function that updates layout on marked nodes\n",
    "# mark the first op node in the dag with a new attribute\n",
    "dag.op_nodes()[1].name = \"cx_m\""
   ]
  },
  {
   "cell_type": "code",
   "execution_count": 75,
   "metadata": {},
   "outputs": [
    {
     "data": {
      "text/plain": [
       "0"
      ]
     },
     "execution_count": 75,
     "metadata": {},
     "output_type": "execute_result"
    }
   ],
   "source": [
    "# cost function that updates layout on marked nodes\n",
    "from qiskit.converters import dag_to_circuit\n",
    "\n",
    "\n",
    "def get_updated_cost(dag, layout):\n",
    "    qc = dag_to_circuit(dag)\n",
    "    cost = 0\n",
    "    for node in dag.topological_op_nodes():\n",
    "        bit_indices = [QuantumCircuit.find_bit(qc, arg).index for arg in node.qargs]\n",
    "        # convert to physical qubit indices\n",
    "        physical_indices = [layout[bit_index] for bit_index in bit_indices]\n",
    "        # get the topological distance\n",
    "        distance = abs(physical_indices[0] - physical_indices[1]) - 1\n",
    "        cost += distance\n",
    "\n",
    "        # update layout if marked node\n",
    "        if node.name == \"cx_m\":\n",
    "            layout[bit_indices[0]], layout[bit_indices[1]] = (\n",
    "                layout[bit_indices[1]],\n",
    "                layout[bit_indices[0]],\n",
    "            )\n",
    "\n",
    "    return cost\n",
    "\n",
    "\n",
    "layout = {0: 0, 1: 1, 2: 2}\n",
    "get_updated_cost(dag, layout)"
   ]
  },
  {
   "cell_type": "code",
   "execution_count": 76,
   "metadata": {},
   "outputs": [
    {
     "name": "stdout",
     "output_type": "stream",
     "text": [
      "cx\n",
      "cx_m\n",
      "cx\n"
     ]
    }
   ],
   "source": [
    "for node in dag.two_qubit_ops():\n",
    "    print(node.name)"
   ]
  }
 ],
 "metadata": {
  "kernelspec": {
   "display_name": ".venv",
   "language": "python",
   "name": "python3"
  },
  "language_info": {
   "codemirror_mode": {
    "name": "ipython",
    "version": 3
   },
   "file_extension": ".py",
   "mimetype": "text/x-python",
   "name": "python",
   "nbconvert_exporter": "python",
   "pygments_lexer": "ipython3",
   "version": "3.9.16"
  },
  "orig_nbformat": 4
 },
 "nbformat": 4,
 "nbformat_minor": 2
}
