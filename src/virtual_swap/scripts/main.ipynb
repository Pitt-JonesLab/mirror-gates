{
 "cells": [
  {
   "cell_type": "code",
   "execution_count": 65,
   "metadata": {},
   "outputs": [],
   "source": [
    "from virtual_swap.vswap_pass import VirtualSwap\n",
    "from qiskit import QuantumCircuit\n",
    "\n",
    "# from qiskit.test import QiskitTestCase\n",
    "from qiskit.transpiler import CouplingMap, PassManager\n",
    "from qiskit.transpiler.passes import Unroller, TrivialLayout, ApplyLayout, SabreLayout\n",
    "from qiskit.transpiler.passes import OptimizeSwapBeforeMeasure\n",
    "import numpy as np\n",
    "\n",
    "from slam.utils.transpiler_pass.weyl_decompose import RootiSwapWeylDecomposition\n",
    "\n",
    "# this code is buggy, see https://github.com/Qiskit/qiskit\n",
    "# I can't use this version bc qiskit version missing DAGCircuit functionality\n",
    "\n",
    "# build a toffoli\n",
    "qc = QuantumCircuit(3)\n",
    "qc.ccx(0, 1, 2)\n",
    "\n",
    "# build a 2x2 square coupling map\n",
    "coupling = CouplingMap.from_line(4)\n",
    "\n",
    "\n",
    "qc = QuantumCircuit(16)\n",
    "# generate network of random cnots\n",
    "for _ in range(20):\n",
    "    qc.cx(*np.random.choice(16, 2, replace=False))\n",
    "coupling = CouplingMap.from_grid(4, 4)"
   ]
  },
  {
   "cell_type": "code",
   "execution_count": 66,
   "metadata": {},
   "outputs": [
    {
     "name": "stdout",
     "output_type": "stream",
     "text": [
      "Gate count: 64\n",
      "Depth: 70\n"
     ]
    }
   ],
   "source": [
    "from qiskit import transpile\n",
    "\n",
    "qc2 = transpile(qc, coupling_map=coupling, basis_gates=[\"cx\", \"u3\"])\n",
    "pm = PassManager(RootiSwapWeylDecomposition())\n",
    "qc3 = pm.run(qc2)\n",
    "# qc3.draw(output='mpl')\n",
    "\n",
    "print(f\"Gate count: {qc3.count_ops()['riswap']}\")\n",
    "print(f\"Depth: {qc3.depth()}\")"
   ]
  },
  {
   "cell_type": "code",
   "execution_count": 71,
   "metadata": {},
   "outputs": [
    {
     "name": "stdout",
     "output_type": "stream",
     "text": [
      "Gate count: 55\n",
      "Depth: 47\n"
     ]
    }
   ],
   "source": [
    "from virtual_swap.sqiswap_equiv import sel  # SessionEquivalenceLibrary\n",
    "\n",
    "qc4 = transpile(\n",
    "    qc, basis_gates=[\"u\", \"xx_plus_yy\"], coupling_map=coupling, optimization_level=3\n",
    ")\n",
    "# bb.draw(output=\"mpl\")\n",
    "\n",
    "print(f\"Gate count: {qc4.count_ops()['xx_plus_yy']}\")\n",
    "# print(f\"Gate count longest path: {qc4()['xx_plus_yy']}\")\n",
    "print(f\"Depth: {qc4.depth()}\")"
   ]
  },
  {
   "cell_type": "code",
   "execution_count": 72,
   "metadata": {},
   "outputs": [
    {
     "data": {
      "image/png": "[encoded data removed]",
      "text/plain": [
       "<Figure size 640x480 with 1 Axes>"
      ]
     },
     "metadata": {},
     "output_type": "display_data"
    },
    {
     "name": "stdout",
     "output_type": "stream",
     "text": [
      "Gate count: 99\n",
      "Depth: 91\n"
     ]
    }
   ],
   "source": [
    "# run the pass\n",
    "pm = PassManager()\n",
    "# need some basic unroll and layout\n",
    "pm.append([Unroller([\"u\", \"cx\"]), TrivialLayout(coupling), ApplyLayout()])\n",
    "pm.append(VirtualSwap(coupling, visualize=True))\n",
    "pm.append(OptimizeSwapBeforeMeasure())\n",
    "\n",
    "# XXX use the PR version once merged into Qiskit\n",
    "pm.append(RootiSwapWeylDecomposition())\n",
    "# set debug logging\n",
    "import logging\n",
    "\n",
    "logging.basicConfig(level=logging.INFO)\n",
    "new_circ = pm.run(qc)\n",
    "# new_circ.draw(output=\"mpl\")\n",
    "print(f\"Gate count: {new_circ.count_ops()['riswap']}\")\n",
    "print(f\"Depth: {new_circ.depth()}\")"
   ]
  },
  {
   "cell_type": "code",
   "execution_count": 64,
   "metadata": {},
   "outputs": [
    {
     "ename": "KeyboardInterrupt",
     "evalue": "",
     "output_type": "error",
     "traceback": [
      "\u001b[0;31m---------------------------------------------------------------------------\u001b[0m",
      "\u001b[0;31mKeyboardInterrupt\u001b[0m                         Traceback (most recent call last)",
      "Cell \u001b[0;32mIn[64], line 21\u001b[0m\n\u001b[1;32m     18\u001b[0m \u001b[39mimport\u001b[39;00m \u001b[39mlogging\u001b[39;00m\n\u001b[1;32m     20\u001b[0m logging\u001b[39m.\u001b[39mbasicConfig(level\u001b[39m=\u001b[39mlogging\u001b[39m.\u001b[39mINFO)\n\u001b[0;32m---> 21\u001b[0m new_circ \u001b[39m=\u001b[39m pm\u001b[39m.\u001b[39;49mrun(qc)\n\u001b[1;32m     22\u001b[0m \u001b[39m# new_circ.draw(output=\"mpl\")\u001b[39;00m\n\u001b[1;32m     23\u001b[0m \u001b[39mprint\u001b[39m(\u001b[39mf\u001b[39m\u001b[39m\"\u001b[39m\u001b[39mGate count: \u001b[39m\u001b[39m{\u001b[39;00mnew_circ\u001b[39m.\u001b[39mcount_ops()[\u001b[39m'\u001b[39m\u001b[39mriswap\u001b[39m\u001b[39m'\u001b[39m]\u001b[39m}\u001b[39;00m\u001b[39m\"\u001b[39m)\n",
      "File \u001b[0;32m~/virtual-swap/.venv/lib/python3.9/site-packages/qiskit/transpiler/passmanager.py:228\u001b[0m, in \u001b[0;36mPassManager.run\u001b[0;34m(self, circuits, output_name, callback)\u001b[0m\n\u001b[1;32m    226\u001b[0m     \u001b[39mreturn\u001b[39;00m circuits\n\u001b[1;32m    227\u001b[0m \u001b[39mif\u001b[39;00m \u001b[39misinstance\u001b[39m(circuits, QuantumCircuit):\n\u001b[0;32m--> 228\u001b[0m     \u001b[39mreturn\u001b[39;00m \u001b[39mself\u001b[39;49m\u001b[39m.\u001b[39;49m_run_single_circuit(circuits, output_name, callback)\n\u001b[1;32m    229\u001b[0m \u001b[39mif\u001b[39;00m \u001b[39mlen\u001b[39m(circuits) \u001b[39m==\u001b[39m \u001b[39m1\u001b[39m:\n\u001b[1;32m    230\u001b[0m     \u001b[39mreturn\u001b[39;00m \u001b[39mself\u001b[39m\u001b[39m.\u001b[39m_run_single_circuit(circuits[\u001b[39m0\u001b[39m], output_name, callback)\n",
      "File \u001b[0;32m~/virtual-swap/.venv/lib/python3.9/site-packages/qiskit/transpiler/passmanager.py:283\u001b[0m, in \u001b[0;36mPassManager._run_single_circuit\u001b[0;34m(self, circuit, output_name, callback)\u001b[0m\n\u001b[1;32m    271\u001b[0m \u001b[39m\u001b[39m\u001b[39m\"\"\"Run all the passes on a ``circuit``.\u001b[39;00m\n\u001b[1;32m    272\u001b[0m \n\u001b[1;32m    273\u001b[0m \u001b[39mArgs:\u001b[39;00m\n\u001b[0;32m   (...)\u001b[0m\n\u001b[1;32m    280\u001b[0m \u001b[39m    The transformed circuit.\u001b[39;00m\n\u001b[1;32m    281\u001b[0m \u001b[39m\"\"\"\u001b[39;00m\n\u001b[1;32m    282\u001b[0m running_passmanager \u001b[39m=\u001b[39m \u001b[39mself\u001b[39m\u001b[39m.\u001b[39m_create_running_passmanager()\n\u001b[0;32m--> 283\u001b[0m result \u001b[39m=\u001b[39m running_passmanager\u001b[39m.\u001b[39;49mrun(circuit, output_name\u001b[39m=\u001b[39;49moutput_name, callback\u001b[39m=\u001b[39;49mcallback)\n\u001b[1;32m    284\u001b[0m \u001b[39mself\u001b[39m\u001b[39m.\u001b[39mproperty_set \u001b[39m=\u001b[39m running_passmanager\u001b[39m.\u001b[39mproperty_set\n\u001b[1;32m    285\u001b[0m \u001b[39mreturn\u001b[39;00m result\n",
      "File \u001b[0;32m~/virtual-swap/.venv/lib/python3.9/site-packages/qiskit/transpiler/runningpassmanager.py:125\u001b[0m, in \u001b[0;36mRunningPassManager.run\u001b[0;34m(***failed resolving arguments***)\u001b[0m\n\u001b[1;32m    123\u001b[0m \u001b[39mfor\u001b[39;00m passset \u001b[39min\u001b[39;00m \u001b[39mself\u001b[39m\u001b[39m.\u001b[39mworking_list:\n\u001b[1;32m    124\u001b[0m     \u001b[39mfor\u001b[39;00m pass_ \u001b[39min\u001b[39;00m passset:\n\u001b[0;32m--> 125\u001b[0m         dag \u001b[39m=\u001b[39m \u001b[39mself\u001b[39;49m\u001b[39m.\u001b[39;49m_do_pass(pass_, dag, passset\u001b[39m.\u001b[39;49moptions)\n\u001b[1;32m    127\u001b[0m circuit \u001b[39m=\u001b[39m dag_to_circuit(dag)\n\u001b[1;32m    128\u001b[0m \u001b[39mif\u001b[39;00m output_name:\n",
      "File \u001b[0;32m~/virtual-swap/.venv/lib/python3.9/site-packages/qiskit/transpiler/runningpassmanager.py:173\u001b[0m, in \u001b[0;36mRunningPassManager._do_pass\u001b[0;34m(self, pass_, dag, options)\u001b[0m\n\u001b[1;32m    171\u001b[0m \u001b[39m# Run the pass itself, if not already run\u001b[39;00m\n\u001b[1;32m    172\u001b[0m \u001b[39mif\u001b[39;00m pass_ \u001b[39mnot\u001b[39;00m \u001b[39min\u001b[39;00m \u001b[39mself\u001b[39m\u001b[39m.\u001b[39mvalid_passes:\n\u001b[0;32m--> 173\u001b[0m     dag \u001b[39m=\u001b[39m \u001b[39mself\u001b[39;49m\u001b[39m.\u001b[39;49m_run_this_pass(pass_, dag)\n\u001b[1;32m    175\u001b[0m     \u001b[39m# update the valid_passes property\u001b[39;00m\n\u001b[1;32m    176\u001b[0m     \u001b[39mself\u001b[39m\u001b[39m.\u001b[39m_update_valid_passes(pass_)\n",
      "File \u001b[0;32m~/virtual-swap/.venv/lib/python3.9/site-packages/qiskit/transpiler/runningpassmanager.py:202\u001b[0m, in \u001b[0;36mRunningPassManager._run_this_pass\u001b[0;34m(self, pass_, dag)\u001b[0m\n\u001b[1;32m    199\u001b[0m \u001b[39mif\u001b[39;00m pass_\u001b[39m.\u001b[39mis_transformation_pass:\n\u001b[1;32m    200\u001b[0m     \u001b[39m# Measure time if we have a callback or logging set\u001b[39;00m\n\u001b[1;32m    201\u001b[0m     start_time \u001b[39m=\u001b[39m time()\n\u001b[0;32m--> 202\u001b[0m     new_dag \u001b[39m=\u001b[39m pass_\u001b[39m.\u001b[39;49mrun(dag)\n\u001b[1;32m    203\u001b[0m     end_time \u001b[39m=\u001b[39m time()\n\u001b[1;32m    204\u001b[0m     run_time \u001b[39m=\u001b[39m end_time \u001b[39m-\u001b[39m start_time\n",
      "File \u001b[0;32m~/virtual-swap/.venv/lib/python3.9/site-packages/qiskit/transpiler/passes/layout/sabre_layout.py:190\u001b[0m, in \u001b[0;36mSabreLayout.run\u001b[0;34m(self, dag)\u001b[0m\n\u001b[1;32m    188\u001b[0m \u001b[39mfor\u001b[39;00m _ \u001b[39min\u001b[39;00m (\u001b[39m\"\u001b[39m\u001b[39mforward\u001b[39m\u001b[39m\"\u001b[39m, \u001b[39m\"\u001b[39m\u001b[39mbackward\u001b[39m\u001b[39m\"\u001b[39m):\n\u001b[1;32m    189\u001b[0m     pm \u001b[39m=\u001b[39m \u001b[39mself\u001b[39m\u001b[39m.\u001b[39m_layout_and_route_passmanager(initial_layout)\n\u001b[0;32m--> 190\u001b[0m     new_circ \u001b[39m=\u001b[39m pm\u001b[39m.\u001b[39;49mrun(circ)\n\u001b[1;32m    192\u001b[0m     \u001b[39m# Update initial layout and reverse the unmapped circuit.\u001b[39;00m\n\u001b[1;32m    193\u001b[0m     pass_final_layout \u001b[39m=\u001b[39m pm\u001b[39m.\u001b[39mproperty_set[\u001b[39m\"\u001b[39m\u001b[39mfinal_layout\u001b[39m\u001b[39m\"\u001b[39m]\n",
      "File \u001b[0;32m~/virtual-swap/.venv/lib/python3.9/site-packages/qiskit/transpiler/passmanager.py:228\u001b[0m, in \u001b[0;36mPassManager.run\u001b[0;34m(self, circuits, output_name, callback)\u001b[0m\n\u001b[1;32m    226\u001b[0m     \u001b[39mreturn\u001b[39;00m circuits\n\u001b[1;32m    227\u001b[0m \u001b[39mif\u001b[39;00m \u001b[39misinstance\u001b[39m(circuits, QuantumCircuit):\n\u001b[0;32m--> 228\u001b[0m     \u001b[39mreturn\u001b[39;00m \u001b[39mself\u001b[39;49m\u001b[39m.\u001b[39;49m_run_single_circuit(circuits, output_name, callback)\n\u001b[1;32m    229\u001b[0m \u001b[39mif\u001b[39;00m \u001b[39mlen\u001b[39m(circuits) \u001b[39m==\u001b[39m \u001b[39m1\u001b[39m:\n\u001b[1;32m    230\u001b[0m     \u001b[39mreturn\u001b[39;00m \u001b[39mself\u001b[39m\u001b[39m.\u001b[39m_run_single_circuit(circuits[\u001b[39m0\u001b[39m], output_name, callback)\n",
      "File \u001b[0;32m~/virtual-swap/.venv/lib/python3.9/site-packages/qiskit/transpiler/passmanager.py:283\u001b[0m, in \u001b[0;36mPassManager._run_single_circuit\u001b[0;34m(self, circuit, output_name, callback)\u001b[0m\n\u001b[1;32m    271\u001b[0m \u001b[39m\u001b[39m\u001b[39m\"\"\"Run all the passes on a ``circuit``.\u001b[39;00m\n\u001b[1;32m    272\u001b[0m \n\u001b[1;32m    273\u001b[0m \u001b[39mArgs:\u001b[39;00m\n\u001b[0;32m   (...)\u001b[0m\n\u001b[1;32m    280\u001b[0m \u001b[39m    The transformed circuit.\u001b[39;00m\n\u001b[1;32m    281\u001b[0m \u001b[39m\"\"\"\u001b[39;00m\n\u001b[1;32m    282\u001b[0m running_passmanager \u001b[39m=\u001b[39m \u001b[39mself\u001b[39m\u001b[39m.\u001b[39m_create_running_passmanager()\n\u001b[0;32m--> 283\u001b[0m result \u001b[39m=\u001b[39m running_passmanager\u001b[39m.\u001b[39;49mrun(circuit, output_name\u001b[39m=\u001b[39;49moutput_name, callback\u001b[39m=\u001b[39;49mcallback)\n\u001b[1;32m    284\u001b[0m \u001b[39mself\u001b[39m\u001b[39m.\u001b[39mproperty_set \u001b[39m=\u001b[39m running_passmanager\u001b[39m.\u001b[39mproperty_set\n\u001b[1;32m    285\u001b[0m \u001b[39mreturn\u001b[39;00m result\n",
      "File \u001b[0;32m~/virtual-swap/.venv/lib/python3.9/site-packages/qiskit/transpiler/runningpassmanager.py:125\u001b[0m, in \u001b[0;36mRunningPassManager.run\u001b[0;34m(***failed resolving arguments***)\u001b[0m\n\u001b[1;32m    123\u001b[0m \u001b[39mfor\u001b[39;00m passset \u001b[39min\u001b[39;00m \u001b[39mself\u001b[39m\u001b[39m.\u001b[39mworking_list:\n\u001b[1;32m    124\u001b[0m     \u001b[39mfor\u001b[39;00m pass_ \u001b[39min\u001b[39;00m passset:\n\u001b[0;32m--> 125\u001b[0m         dag \u001b[39m=\u001b[39m \u001b[39mself\u001b[39;49m\u001b[39m.\u001b[39;49m_do_pass(pass_, dag, passset\u001b[39m.\u001b[39;49moptions)\n\u001b[1;32m    127\u001b[0m circuit \u001b[39m=\u001b[39m dag_to_circuit(dag)\n\u001b[1;32m    128\u001b[0m \u001b[39mif\u001b[39;00m output_name:\n",
      "File \u001b[0;32m~/virtual-swap/.venv/lib/python3.9/site-packages/qiskit/transpiler/runningpassmanager.py:173\u001b[0m, in \u001b[0;36mRunningPassManager._do_pass\u001b[0;34m(self, pass_, dag, options)\u001b[0m\n\u001b[1;32m    171\u001b[0m \u001b[39m# Run the pass itself, if not already run\u001b[39;00m\n\u001b[1;32m    172\u001b[0m \u001b[39mif\u001b[39;00m pass_ \u001b[39mnot\u001b[39;00m \u001b[39min\u001b[39;00m \u001b[39mself\u001b[39m\u001b[39m.\u001b[39mvalid_passes:\n\u001b[0;32m--> 173\u001b[0m     dag \u001b[39m=\u001b[39m \u001b[39mself\u001b[39;49m\u001b[39m.\u001b[39;49m_run_this_pass(pass_, dag)\n\u001b[1;32m    175\u001b[0m     \u001b[39m# update the valid_passes property\u001b[39;00m\n\u001b[1;32m    176\u001b[0m     \u001b[39mself\u001b[39m\u001b[39m.\u001b[39m_update_valid_passes(pass_)\n",
      "File \u001b[0;32m~/virtual-swap/.venv/lib/python3.9/site-packages/qiskit/transpiler/runningpassmanager.py:202\u001b[0m, in \u001b[0;36mRunningPassManager._run_this_pass\u001b[0;34m(self, pass_, dag)\u001b[0m\n\u001b[1;32m    199\u001b[0m \u001b[39mif\u001b[39;00m pass_\u001b[39m.\u001b[39mis_transformation_pass:\n\u001b[1;32m    200\u001b[0m     \u001b[39m# Measure time if we have a callback or logging set\u001b[39;00m\n\u001b[1;32m    201\u001b[0m     start_time \u001b[39m=\u001b[39m time()\n\u001b[0;32m--> 202\u001b[0m     new_dag \u001b[39m=\u001b[39m pass_\u001b[39m.\u001b[39;49mrun(dag)\n\u001b[1;32m    203\u001b[0m     end_time \u001b[39m=\u001b[39m time()\n\u001b[1;32m    204\u001b[0m     run_time \u001b[39m=\u001b[39m end_time \u001b[39m-\u001b[39m start_time\n",
      "File \u001b[0;32m~/virtual-swap/src/virtual_swap/vswap_pass.py:106\u001b[0m, in \u001b[0;36mVirtualSwap.run\u001b[0;34m(self, dag)\u001b[0m\n\u001b[1;32m    103\u001b[0m scores \u001b[39m=\u001b[39m []\n\u001b[1;32m    105\u001b[0m \u001b[39mwhile\u001b[39;00m current_temp \u001b[39m>\u001b[39m \u001b[39mself\u001b[39m\u001b[39m.\u001b[39mthreshold_temp:\n\u001b[0;32m--> 106\u001b[0m     working_dag, working_cost \u001b[39m=\u001b[39m \u001b[39mself\u001b[39;49m\u001b[39m.\u001b[39;49m_SA_iter(accepted_dag)\n\u001b[1;32m    107\u001b[0m     logging\u001b[39m.\u001b[39minfo(\u001b[39mf\u001b[39m\u001b[39m\"\u001b[39m\u001b[39mWorking:\u001b[39m\u001b[39m\\n\u001b[39;00m\u001b[39m{\u001b[39;00mdag_to_circuit(working_dag)\u001b[39m.\u001b[39mdraw(fold\u001b[39m=\u001b[39m\u001b[39m-\u001b[39m\u001b[39m1\u001b[39m)\u001b[39m}\u001b[39;00m\u001b[39m\"\u001b[39m)\n\u001b[1;32m    108\u001b[0m     logging\u001b[39m.\u001b[39minfo(\u001b[39mf\u001b[39m\u001b[39m\"\u001b[39m\u001b[39mWorking: \u001b[39m\u001b[39m{\u001b[39;00mworking_cost\u001b[39m}\u001b[39;00m\u001b[39m\"\u001b[39m)\n",
      "File \u001b[0;32m~/virtual-swap/src/virtual_swap/vswap_pass.py:156\u001b[0m, in \u001b[0;36mVirtualSwap._SA_iter\u001b[0;34m(self, dag)\u001b[0m\n\u001b[1;32m    153\u001b[0m working_dag \u001b[39m=\u001b[39m \u001b[39mself\u001b[39m\u001b[39m.\u001b[39m_transform_CNS(sub_node, working_dag)\n\u001b[1;32m    155\u001b[0m \u001b[39m# compute cost of working_dag\u001b[39;00m\n\u001b[0;32m--> 156\u001b[0m working_dag, working_cost \u001b[39m=\u001b[39m \u001b[39mself\u001b[39;49m\u001b[39m.\u001b[39;49m_cost_cleanup(working_dag)\n\u001b[1;32m    157\u001b[0m \u001b[39mreturn\u001b[39;00m working_dag, working_cost\n",
      "File \u001b[0;32m~/virtual-swap/src/virtual_swap/vswap_pass.py:282\u001b[0m, in \u001b[0;36mVirtualSwap._cost_cleanup\u001b[0;34m(self, dag)\u001b[0m\n\u001b[1;32m    280\u001b[0m consolidate_pass \u001b[39m=\u001b[39m ConsolidateBlocks(force_consolidate\u001b[39m=\u001b[39m\u001b[39mTrue\u001b[39;00m)\n\u001b[1;32m    281\u001b[0m consolidate_pass\u001b[39m.\u001b[39mproperty_set \u001b[39m=\u001b[39m collect_pass\u001b[39m.\u001b[39mproperty_set\n\u001b[0;32m--> 282\u001b[0m dag \u001b[39m=\u001b[39m consolidate_pass\u001b[39m.\u001b[39;49mrun(dag)\n\u001b[1;32m    284\u001b[0m \u001b[39m# XXX this is currently broken because of the way consolidate pass works\u001b[39;00m\n\u001b[1;32m    285\u001b[0m \u001b[39m# better would be to check for each unitary, its decomposition cost\u001b[39;00m\n\u001b[1;32m    286\u001b[0m cost_pass \u001b[39m=\u001b[39m CountOpsLongestPath()\n",
      "File \u001b[0;32m~/virtual-swap/.venv/lib/python3.9/site-packages/qiskit/transpiler/passes/optimization/consolidate_blocks.py:107\u001b[0m, in \u001b[0;36mConsolidateBlocks.run\u001b[0;34m(self, dag)\u001b[0m\n\u001b[1;32m    105\u001b[0m         outside_basis \u001b[39m=\u001b[39m \u001b[39mTrue\u001b[39;00m\n\u001b[1;32m    106\u001b[0m     qc\u001b[39m.\u001b[39mappend(nd\u001b[39m.\u001b[39mop, [q[block_index_map[i]] \u001b[39mfor\u001b[39;00m i \u001b[39min\u001b[39;00m nd\u001b[39m.\u001b[39mqargs])\n\u001b[0;32m--> 107\u001b[0m unitary \u001b[39m=\u001b[39m UnitaryGate(Operator(qc))\n\u001b[1;32m    109\u001b[0m max_2q_depth \u001b[39m=\u001b[39m \u001b[39m20\u001b[39m  \u001b[39m# If depth > 20, there will be 1q gates to consolidate.\u001b[39;00m\n\u001b[1;32m    110\u001b[0m \u001b[39mif\u001b[39;00m (  \u001b[39m# pylint: disable=too-many-boolean-expressions\u001b[39;00m\n\u001b[1;32m    111\u001b[0m     \u001b[39mself\u001b[39m\u001b[39m.\u001b[39mforce_consolidate\n\u001b[1;32m    112\u001b[0m     \u001b[39mor\u001b[39;00m unitary\u001b[39m.\u001b[39mnum_qubits \u001b[39m>\u001b[39m \u001b[39m2\u001b[39m\n\u001b[0;32m   (...)\u001b[0m\n\u001b[1;32m    116\u001b[0m     \u001b[39mor\u001b[39;00m ((\u001b[39mself\u001b[39m\u001b[39m.\u001b[39mtarget \u001b[39mis\u001b[39;00m \u001b[39mnot\u001b[39;00m \u001b[39mNone\u001b[39;00m) \u001b[39mand\u001b[39;00m outside_basis)\n\u001b[1;32m    117\u001b[0m ):\n",
      "File \u001b[0;32m~/virtual-swap/.venv/lib/python3.9/site-packages/qiskit/quantum_info/operators/operator.py:85\u001b[0m, in \u001b[0;36mOperator.__init__\u001b[0;34m(self, data, input_dims, output_dims)\u001b[0m\n\u001b[1;32m     76\u001b[0m     \u001b[39mself\u001b[39m\u001b[39m.\u001b[39m_data \u001b[39m=\u001b[39m np\u001b[39m.\u001b[39masarray(data, dtype\u001b[39m=\u001b[39m\u001b[39mcomplex\u001b[39m)\n\u001b[1;32m     77\u001b[0m \u001b[39melif\u001b[39;00m \u001b[39misinstance\u001b[39m(data, (QuantumCircuit, Operation)):\n\u001b[1;32m     78\u001b[0m     \u001b[39m# If the input is a Terra QuantumCircuit or Operation we\u001b[39;00m\n\u001b[1;32m     79\u001b[0m     \u001b[39m# perform a simulation to construct the unitary operator.\u001b[39;00m\n\u001b[0;32m   (...)\u001b[0m\n\u001b[1;32m     83\u001b[0m     \u001b[39m# conditional gates, measure, or reset will cause an\u001b[39;00m\n\u001b[1;32m     84\u001b[0m     \u001b[39m# exception to be raised.\u001b[39;00m\n\u001b[0;32m---> 85\u001b[0m     \u001b[39mself\u001b[39m\u001b[39m.\u001b[39m_data \u001b[39m=\u001b[39m \u001b[39mself\u001b[39;49m\u001b[39m.\u001b[39;49m_init_instruction(data)\u001b[39m.\u001b[39mdata\n\u001b[1;32m     86\u001b[0m \u001b[39melif\u001b[39;00m \u001b[39mhasattr\u001b[39m(data, \u001b[39m\"\u001b[39m\u001b[39mto_operator\u001b[39m\u001b[39m\"\u001b[39m):\n\u001b[1;32m     87\u001b[0m     \u001b[39m# If the data object has a 'to_operator' attribute this is given\u001b[39;00m\n\u001b[1;32m     88\u001b[0m     \u001b[39m# higher preference than the 'to_matrix' method for initializing\u001b[39;00m\n\u001b[1;32m     89\u001b[0m     \u001b[39m# an Operator object.\u001b[39;00m\n\u001b[1;32m     90\u001b[0m     data \u001b[39m=\u001b[39m data\u001b[39m.\u001b[39mto_operator()\n",
      "File \u001b[0;32m~/virtual-swap/.venv/lib/python3.9/site-packages/qiskit/quantum_info/operators/operator.py:541\u001b[0m, in \u001b[0;36mOperator._init_instruction\u001b[0;34m(cls, instruction)\u001b[0m\n\u001b[1;32m    539\u001b[0m \u001b[39mif\u001b[39;00m \u001b[39misinstance\u001b[39m(instruction, QuantumCircuit):\n\u001b[1;32m    540\u001b[0m     instruction \u001b[39m=\u001b[39m instruction\u001b[39m.\u001b[39mto_instruction()\n\u001b[0;32m--> 541\u001b[0m op\u001b[39m.\u001b[39;49m_append_instruction(instruction)\n\u001b[1;32m    542\u001b[0m \u001b[39mreturn\u001b[39;00m op\n",
      "File \u001b[0;32m~/virtual-swap/.venv/lib/python3.9/site-packages/qiskit/quantum_info/operators/operator.py:618\u001b[0m, in \u001b[0;36mOperator._append_instruction\u001b[0;34m(self, obj, qargs)\u001b[0m\n\u001b[1;32m    616\u001b[0m \u001b[39melse\u001b[39;00m:\n\u001b[1;32m    617\u001b[0m     new_qargs \u001b[39m=\u001b[39m [qargs[bit_indices[tup]] \u001b[39mfor\u001b[39;00m tup \u001b[39min\u001b[39;00m instruction\u001b[39m.\u001b[39mqubits]\n\u001b[0;32m--> 618\u001b[0m \u001b[39mself\u001b[39;49m\u001b[39m.\u001b[39;49m_append_instruction(instruction\u001b[39m.\u001b[39;49moperation, qargs\u001b[39m=\u001b[39;49mnew_qargs)\n",
      "File \u001b[0;32m~/virtual-swap/.venv/lib/python3.9/site-packages/qiskit/quantum_info/operators/operator.py:576\u001b[0m, in \u001b[0;36mOperator._append_instruction\u001b[0;34m(self, obj, qargs)\u001b[0m\n\u001b[1;32m    572\u001b[0m mat \u001b[39m=\u001b[39m \u001b[39mself\u001b[39m\u001b[39m.\u001b[39m_instruction_to_matrix(obj)\n\u001b[1;32m    573\u001b[0m \u001b[39mif\u001b[39;00m mat \u001b[39mis\u001b[39;00m \u001b[39mnot\u001b[39;00m \u001b[39mNone\u001b[39;00m:\n\u001b[1;32m    574\u001b[0m     \u001b[39m# Perform the composition and inplace update the current state\u001b[39;00m\n\u001b[1;32m    575\u001b[0m     \u001b[39m# of the operator\u001b[39;00m\n\u001b[0;32m--> 576\u001b[0m     op \u001b[39m=\u001b[39m \u001b[39mself\u001b[39;49m\u001b[39m.\u001b[39;49mcompose(mat, qargs\u001b[39m=\u001b[39;49mqargs)\n\u001b[1;32m    577\u001b[0m     \u001b[39mself\u001b[39m\u001b[39m.\u001b[39m_data \u001b[39m=\u001b[39m op\u001b[39m.\u001b[39mdata\n\u001b[1;32m    578\u001b[0m \u001b[39melif\u001b[39;00m \u001b[39misinstance\u001b[39m(obj, Barrier):\n",
      "File \u001b[0;32m~/virtual-swap/.venv/lib/python3.9/site-packages/qiskit/quantum_info/operators/operator.py:352\u001b[0m, in \u001b[0;36mOperator.compose\u001b[0;34m(self, other, qargs, front)\u001b[0m\n\u001b[1;32m    348\u001b[0m final_shape \u001b[39m=\u001b[39m [np\u001b[39m.\u001b[39mproduct(output_dims), np\u001b[39m.\u001b[39mproduct(input_dims)]\n\u001b[1;32m    349\u001b[0m data \u001b[39m=\u001b[39m np\u001b[39m.\u001b[39mreshape(\n\u001b[1;32m    350\u001b[0m     Operator\u001b[39m.\u001b[39m_einsum_matmul(tensor, mat, indices, shift, right_mul), final_shape\n\u001b[1;32m    351\u001b[0m )\n\u001b[0;32m--> 352\u001b[0m ret \u001b[39m=\u001b[39m Operator(data, input_dims, output_dims)\n\u001b[1;32m    353\u001b[0m ret\u001b[39m.\u001b[39m_op_shape \u001b[39m=\u001b[39m new_shape\n\u001b[1;32m    354\u001b[0m \u001b[39mreturn\u001b[39;00m ret\n",
      "File \u001b[0;32m~/virtual-swap/.venv/lib/python3.9/site-packages/qiskit/quantum_info/operators/operator.py:101\u001b[0m, in \u001b[0;36mOperator.__init__\u001b[0;34m(self, data, input_dims, output_dims)\u001b[0m\n\u001b[1;32m     98\u001b[0m \u001b[39melse\u001b[39;00m:\n\u001b[1;32m     99\u001b[0m     \u001b[39mraise\u001b[39;00m QiskitError(\u001b[39m\"\u001b[39m\u001b[39mInvalid input data format for Operator\u001b[39m\u001b[39m\"\u001b[39m)\n\u001b[0;32m--> 101\u001b[0m \u001b[39msuper\u001b[39;49m()\u001b[39m.\u001b[39;49m\u001b[39m__init__\u001b[39;49m(\n\u001b[1;32m    102\u001b[0m     op_shape\u001b[39m=\u001b[39mop_shape,\n\u001b[1;32m    103\u001b[0m     input_dims\u001b[39m=\u001b[39minput_dims,\n\u001b[1;32m    104\u001b[0m     output_dims\u001b[39m=\u001b[39moutput_dims,\n\u001b[1;32m    105\u001b[0m     shape\u001b[39m=\u001b[39m\u001b[39mself\u001b[39m\u001b[39m.\u001b[39m_data\u001b[39m.\u001b[39mshape,\n\u001b[1;32m    106\u001b[0m )\n",
      "\u001b[0;31mKeyboardInterrupt\u001b[0m: "
     ]
    }
   ],
   "source": [
    "# run the pass\n",
    "pm = PassManager()\n",
    "# need some basic unroll and layout\n",
    "routing_pass = VirtualSwap(coupling_map=coupling)\n",
    "pm.append(\n",
    "    [\n",
    "        Unroller([\"u\", \"cx\"]),\n",
    "        SabreLayout(coupling_map=coupling, routing_pass=routing_pass),\n",
    "        ApplyLayout(),\n",
    "    ]\n",
    ")\n",
    "pm.append(routing_pass)\n",
    "pm.append(OptimizeSwapBeforeMeasure())\n",
    "\n",
    "# XXX use the PR version once merged into Qiskit\n",
    "pm.append(RootiSwapWeylDecomposition())\n",
    "# set debug logging\n",
    "import logging\n",
    "\n",
    "logging.basicConfig(level=logging.INFO)\n",
    "new_circ = pm.run(qc)\n",
    "# new_circ.draw(output=\"mpl\")\n",
    "print(f\"Gate count: {new_circ.count_ops()['riswap']}\")\n",
    "print(f\"Depth: {new_circ.depth()}\")"
   ]
  }
 ],
 "metadata": {
  "kernelspec": {
   "display_name": ".venv",
   "language": "python",
   "name": "python3"
  },
  "language_info": {
   "codemirror_mode": {
    "name": "ipython",
    "version": 3
   },
   "file_extension": ".py",
   "mimetype": "text/x-python",
   "name": "python",
   "nbconvert_exporter": "python",
   "pygments_lexer": "ipython3",
   "version": "3.9.16"
  },
  "orig_nbformat": 4,
  "vscode": {
   "interpreter": {
    "hash": "c6a4cf6d2afa6ccdcd465e51397083357ce8f190d348132412cf053524970263"
   }
  }
 },
 "nbformat": 4,
 "nbformat_minor": 2
}
