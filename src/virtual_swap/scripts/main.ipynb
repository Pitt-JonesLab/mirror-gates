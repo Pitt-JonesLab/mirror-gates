{
 "cells": [
  {
   "cell_type": "code",
   "execution_count": 9,
   "metadata": {},
   "outputs": [],
   "source": [
    "from virtual_swap.vswap_pass import VirtualSwap\n",
    "from qiskit import QuantumCircuit\n",
    "\n",
    "# from qiskit.test import QiskitTestCase\n",
    "from qiskit.transpiler import CouplingMap, PassManager\n",
    "from qiskit.transpiler.passes import (\n",
    "    Unroller,\n",
    "    TrivialLayout,\n",
    "    ApplyLayout,\n",
    "    SabreLayout,\n",
    "    CountOpsLongestPath,\n",
    ")\n",
    "from qiskit.transpiler.passes import OptimizeSwapBeforeMeasure\n",
    "import numpy as np\n",
    "\n",
    "from slam.utils.transpiler_pass.weyl_decompose import RootiSwapWeylDecomposition\n",
    "\n",
    "# this code is buggy, see https://github.com/Qiskit/qiskit\n",
    "# I can't use this version bc qiskit version missing DAGCircuit functionality\n",
    "\n",
    "# build a toffoli\n",
    "qc = QuantumCircuit(3)\n",
    "qc.ccx(0, 1, 2)\n",
    "\n",
    "# build a 2x2 square coupling map\n",
    "coupling = CouplingMap.from_line(4)\n",
    "\n",
    "\n",
    "# qc = QuantumCircuit(16)\n",
    "# # generate network of random cnots\n",
    "# for _ in range(20):\n",
    "#     qc.cx(*np.random.choice(16, 2, replace=False))\n",
    "# coupling = CouplingMap.from_grid(4, 4)\n",
    "\n",
    "# medium sized circuit\n",
    "qc = QuantumCircuit(8)\n",
    "# add some toffolis and cxs\n",
    "for _ in range(4):\n",
    "    qc.ccx(*np.random.choice(8, 3, replace=False))\n",
    "    qc.cx(*np.random.choice(8, 2, replace=False))\n",
    "coupling = CouplingMap.from_grid(2, 4)"
   ]
  },
  {
   "cell_type": "code",
   "execution_count": 10,
   "metadata": {},
   "outputs": [
    {
     "name": "stdout",
     "output_type": "stream",
     "text": [
      "Gate count: 104\n",
      "Gate count critical path: 74\n"
     ]
    }
   ],
   "source": [
    "from qiskit import transpile\n",
    "\n",
    "qc2 = transpile(qc, coupling_map=coupling, basis_gates=[\"cx\", \"u3\"])\n",
    "pm = PassManager([RootiSwapWeylDecomposition(), CountOpsLongestPath()])\n",
    "qc3 = pm.run(qc2)\n",
    "# qc3.draw(output='mpl')\n",
    "\n",
    "# print(qc3.count_ops())\n",
    "print(f\"Gate count: {qc3.count_ops()['riswap']}\")\n",
    "# print(pm.property_set['count_ops_longest_path'])\n",
    "# print(f\"Depth: {qc3.depth()}\")\n",
    "print(\n",
    "    f\"Gate count critical path: {pm.property_set['count_ops_longest_path']['riswap']}\"\n",
    ")"
   ]
  },
  {
   "cell_type": "code",
   "execution_count": 11,
   "metadata": {},
   "outputs": [
    {
     "name": "stdout",
     "output_type": "stream",
     "text": [
      "Gate count: 80\n",
      "Gate count critical path: 59\n"
     ]
    }
   ],
   "source": [
    "from virtual_swap.sqiswap_equiv import sel  # SessionEquivalenceLibrary\n",
    "\n",
    "qc4 = transpile(\n",
    "    qc, basis_gates=[\"u\", \"xx_plus_yy\"], coupling_map=coupling, optimization_level=3\n",
    ")\n",
    "# bb.draw(output=\"mpl\")\n",
    "\n",
    "pm = PassManager([CountOpsLongestPath()])\n",
    "qc4 = pm.run(qc4)\n",
    "\n",
    "print(f\"Gate count: {qc4.count_ops()['xx_plus_yy']}\")\n",
    "print(\n",
    "    f\"Gate count critical path: {pm.property_set['count_ops_longest_path']['xx_plus_yy']}\"\n",
    ")"
   ]
  },
  {
   "cell_type": "code",
   "execution_count": 16,
   "metadata": {},
   "outputs": [
    {
     "data": {
      "image/png": "[encoded data removed]",
      "text/plain": [
       "<Figure size 640x480 with 1 Axes>"
      ]
     },
     "metadata": {},
     "output_type": "display_data"
    },
    {
     "name": "stdout",
     "output_type": "stream",
     "text": [
      "Gate count: 94\n",
      "Gate count critical path: 80\n"
     ]
    }
   ],
   "source": [
    "# run the pass\n",
    "pm = PassManager()\n",
    "# need some basic unroll and layout\n",
    "pm.append([Unroller([\"u\", \"cx\"]), TrivialLayout(coupling), ApplyLayout()])\n",
    "pm.append(VirtualSwap(coupling, visualize=True))\n",
    "pm.append(OptimizeSwapBeforeMeasure())\n",
    "\n",
    "# XXX use the PR version once merged into Qiskit\n",
    "pm.append([RootiSwapWeylDecomposition(), CountOpsLongestPath()])\n",
    "\n",
    "# set debug logging\n",
    "import logging\n",
    "\n",
    "# logger = logging.getLogger(\"VSWAP\")\n",
    "# logger.setLevel(logging.INFO)\n",
    "\n",
    "new_circ = pm.run(qc)\n",
    "\n",
    "print(f\"Gate count: {new_circ.count_ops()['riswap']}\")\n",
    "print(\n",
    "    f\"Gate count critical path: {pm.property_set['count_ops_longest_path']['riswap']}\"\n",
    ")"
   ]
  },
  {
   "cell_type": "code",
   "execution_count": 19,
   "metadata": {},
   "outputs": [
    {
     "name": "stdout",
     "output_type": "stream",
     "text": [
      "Cooling rate: 0.001\n"
     ]
    }
   ],
   "source": [
    "# set up some simple loop to mess with cooling rate, find a rate that makes it actually converge to a minima\n",
    "# range of cooling_rates between .1 and .001, log scale\n",
    "cooling_rate_list = np.logspace(-3, -1, 5)\n",
    "scores = []\n",
    "for cooling_rate in cooling_rate_list:\n",
    "    print(f\"Cooling rate: {cooling_rate}\")\n",
    "    pm = PassManager()\n",
    "    # need some basic unroll and layout\n",
    "    pm.append([Unroller([\"u\", \"cx\"]), TrivialLayout(coupling), ApplyLayout()])\n",
    "    pm.append(VirtualSwap(coupling, sa_params=(5, cooling_rate, 1)))\n",
    "    pm.append(OptimizeSwapBeforeMeasure())\n",
    "    pm.append([RootiSwapWeylDecomposition(), CountOpsLongestPath()])\n",
    "    new_circ = pm.run(qc)\n",
    "\n",
    "    print(f\"Gate count: {new_circ.count_ops()['riswap']}\")\n",
    "    print(\n",
    "        f\"Gate count critical path: {pm.property_set['count_ops_longest_path']['riswap']}\"\n",
    "    )\n",
    "    scores.append(pm.property_set[\"scores\"])"
   ]
  },
  {
   "cell_type": "code",
   "execution_count": null,
   "metadata": {},
   "outputs": [],
   "source": [
    "import matplotlib.pyplot as plt\n",
    "\n",
    "for score, cooling_rate in zip(scores, cooling_rate_list):\n",
    "    plt.plot(score, \"-o\", label=f\"cooling rate: {cooling_rate}\")"
   ]
  },
  {
   "cell_type": "code",
   "execution_count": 6,
   "metadata": {},
   "outputs": [
    {
     "ename": "KeyboardInterrupt",
     "evalue": "",
     "output_type": "error",
     "traceback": [
      "\u001b[0;31m---------------------------------------------------------------------------\u001b[0m",
      "\u001b[0;31mKeyboardInterrupt\u001b[0m                         Traceback (most recent call last)",
      "Cell \u001b[0;32mIn[6], line 21\u001b[0m\n\u001b[1;32m     18\u001b[0m \u001b[39mimport\u001b[39;00m \u001b[39mlogging\u001b[39;00m\n\u001b[1;32m     20\u001b[0m logging\u001b[39m.\u001b[39mbasicConfig(level\u001b[39m=\u001b[39mlogging\u001b[39m.\u001b[39mINFO)\n\u001b[0;32m---> 21\u001b[0m new_circ \u001b[39m=\u001b[39m pm\u001b[39m.\u001b[39;49mrun(qc)\n\u001b[1;32m     22\u001b[0m \u001b[39m# new_circ.draw(output=\"mpl\")\u001b[39;00m\n\u001b[1;32m     23\u001b[0m \u001b[39mprint\u001b[39m(\u001b[39mf\u001b[39m\u001b[39m\"\u001b[39m\u001b[39mGate count: \u001b[39m\u001b[39m{\u001b[39;00mnew_circ\u001b[39m.\u001b[39mcount_ops()[\u001b[39m'\u001b[39m\u001b[39mriswap\u001b[39m\u001b[39m'\u001b[39m]\u001b[39m}\u001b[39;00m\u001b[39m\"\u001b[39m)\n",
      "File \u001b[0;32m~/virtual-swap/.venv/lib/python3.9/site-packages/qiskit/transpiler/passmanager.py:228\u001b[0m, in \u001b[0;36mPassManager.run\u001b[0;34m(self, circuits, output_name, callback)\u001b[0m\n\u001b[1;32m    226\u001b[0m     \u001b[39mreturn\u001b[39;00m circuits\n\u001b[1;32m    227\u001b[0m \u001b[39mif\u001b[39;00m \u001b[39misinstance\u001b[39m(circuits, QuantumCircuit):\n\u001b[0;32m--> 228\u001b[0m     \u001b[39mreturn\u001b[39;00m \u001b[39mself\u001b[39;49m\u001b[39m.\u001b[39;49m_run_single_circuit(circuits, output_name, callback)\n\u001b[1;32m    229\u001b[0m \u001b[39mif\u001b[39;00m \u001b[39mlen\u001b[39m(circuits) \u001b[39m==\u001b[39m \u001b[39m1\u001b[39m:\n\u001b[1;32m    230\u001b[0m     \u001b[39mreturn\u001b[39;00m \u001b[39mself\u001b[39m\u001b[39m.\u001b[39m_run_single_circuit(circuits[\u001b[39m0\u001b[39m], output_name, callback)\n",
      "File \u001b[0;32m~/virtual-swap/.venv/lib/python3.9/site-packages/qiskit/transpiler/passmanager.py:283\u001b[0m, in \u001b[0;36mPassManager._run_single_circuit\u001b[0;34m(self, circuit, output_name, callback)\u001b[0m\n\u001b[1;32m    271\u001b[0m \u001b[39m\u001b[39m\u001b[39m\"\"\"Run all the passes on a ``circuit``.\u001b[39;00m\n\u001b[1;32m    272\u001b[0m \n\u001b[1;32m    273\u001b[0m \u001b[39mArgs:\u001b[39;00m\n\u001b[0;32m   (...)\u001b[0m\n\u001b[1;32m    280\u001b[0m \u001b[39m    The transformed circuit.\u001b[39;00m\n\u001b[1;32m    281\u001b[0m \u001b[39m\"\"\"\u001b[39;00m\n\u001b[1;32m    282\u001b[0m running_passmanager \u001b[39m=\u001b[39m \u001b[39mself\u001b[39m\u001b[39m.\u001b[39m_create_running_passmanager()\n\u001b[0;32m--> 283\u001b[0m result \u001b[39m=\u001b[39m running_passmanager\u001b[39m.\u001b[39;49mrun(circuit, output_name\u001b[39m=\u001b[39;49moutput_name, callback\u001b[39m=\u001b[39;49mcallback)\n\u001b[1;32m    284\u001b[0m \u001b[39mself\u001b[39m\u001b[39m.\u001b[39mproperty_set \u001b[39m=\u001b[39m running_passmanager\u001b[39m.\u001b[39mproperty_set\n\u001b[1;32m    285\u001b[0m \u001b[39mreturn\u001b[39;00m result\n",
      "File \u001b[0;32m~/virtual-swap/.venv/lib/python3.9/site-packages/qiskit/transpiler/runningpassmanager.py:125\u001b[0m, in \u001b[0;36mRunningPassManager.run\u001b[0;34m(***failed resolving arguments***)\u001b[0m\n\u001b[1;32m    123\u001b[0m \u001b[39mfor\u001b[39;00m passset \u001b[39min\u001b[39;00m \u001b[39mself\u001b[39m\u001b[39m.\u001b[39mworking_list:\n\u001b[1;32m    124\u001b[0m     \u001b[39mfor\u001b[39;00m pass_ \u001b[39min\u001b[39;00m passset:\n\u001b[0;32m--> 125\u001b[0m         dag \u001b[39m=\u001b[39m \u001b[39mself\u001b[39;49m\u001b[39m.\u001b[39;49m_do_pass(pass_, dag, passset\u001b[39m.\u001b[39;49moptions)\n\u001b[1;32m    127\u001b[0m circuit \u001b[39m=\u001b[39m dag_to_circuit(dag)\n\u001b[1;32m    128\u001b[0m \u001b[39mif\u001b[39;00m output_name:\n",
      "File \u001b[0;32m~/virtual-swap/.venv/lib/python3.9/site-packages/qiskit/transpiler/runningpassmanager.py:173\u001b[0m, in \u001b[0;36mRunningPassManager._do_pass\u001b[0;34m(self, pass_, dag, options)\u001b[0m\n\u001b[1;32m    171\u001b[0m \u001b[39m# Run the pass itself, if not already run\u001b[39;00m\n\u001b[1;32m    172\u001b[0m \u001b[39mif\u001b[39;00m pass_ \u001b[39mnot\u001b[39;00m \u001b[39min\u001b[39;00m \u001b[39mself\u001b[39m\u001b[39m.\u001b[39mvalid_passes:\n\u001b[0;32m--> 173\u001b[0m     dag \u001b[39m=\u001b[39m \u001b[39mself\u001b[39;49m\u001b[39m.\u001b[39;49m_run_this_pass(pass_, dag)\n\u001b[1;32m    175\u001b[0m     \u001b[39m# update the valid_passes property\u001b[39;00m\n\u001b[1;32m    176\u001b[0m     \u001b[39mself\u001b[39m\u001b[39m.\u001b[39m_update_valid_passes(pass_)\n",
      "File \u001b[0;32m~/virtual-swap/.venv/lib/python3.9/site-packages/qiskit/transpiler/runningpassmanager.py:202\u001b[0m, in \u001b[0;36mRunningPassManager._run_this_pass\u001b[0;34m(self, pass_, dag)\u001b[0m\n\u001b[1;32m    199\u001b[0m \u001b[39mif\u001b[39;00m pass_\u001b[39m.\u001b[39mis_transformation_pass:\n\u001b[1;32m    200\u001b[0m     \u001b[39m# Measure time if we have a callback or logging set\u001b[39;00m\n\u001b[1;32m    201\u001b[0m     start_time \u001b[39m=\u001b[39m time()\n\u001b[0;32m--> 202\u001b[0m     new_dag \u001b[39m=\u001b[39m pass_\u001b[39m.\u001b[39;49mrun(dag)\n\u001b[1;32m    203\u001b[0m     end_time \u001b[39m=\u001b[39m time()\n\u001b[1;32m    204\u001b[0m     run_time \u001b[39m=\u001b[39m end_time \u001b[39m-\u001b[39m start_time\n",
      "File \u001b[0;32m~/virtual-swap/.venv/lib/python3.9/site-packages/qiskit/transpiler/passes/layout/sabre_layout.py:190\u001b[0m, in \u001b[0;36mSabreLayout.run\u001b[0;34m(self, dag)\u001b[0m\n\u001b[1;32m    188\u001b[0m \u001b[39mfor\u001b[39;00m _ \u001b[39min\u001b[39;00m (\u001b[39m\"\u001b[39m\u001b[39mforward\u001b[39m\u001b[39m\"\u001b[39m, \u001b[39m\"\u001b[39m\u001b[39mbackward\u001b[39m\u001b[39m\"\u001b[39m):\n\u001b[1;32m    189\u001b[0m     pm \u001b[39m=\u001b[39m \u001b[39mself\u001b[39m\u001b[39m.\u001b[39m_layout_and_route_passmanager(initial_layout)\n\u001b[0;32m--> 190\u001b[0m     new_circ \u001b[39m=\u001b[39m pm\u001b[39m.\u001b[39;49mrun(circ)\n\u001b[1;32m    192\u001b[0m     \u001b[39m# Update initial layout and reverse the unmapped circuit.\u001b[39;00m\n\u001b[1;32m    193\u001b[0m     pass_final_layout \u001b[39m=\u001b[39m pm\u001b[39m.\u001b[39mproperty_set[\u001b[39m\"\u001b[39m\u001b[39mfinal_layout\u001b[39m\u001b[39m\"\u001b[39m]\n",
      "File \u001b[0;32m~/virtual-swap/.venv/lib/python3.9/site-packages/qiskit/transpiler/passmanager.py:228\u001b[0m, in \u001b[0;36mPassManager.run\u001b[0;34m(self, circuits, output_name, callback)\u001b[0m\n\u001b[1;32m    226\u001b[0m     \u001b[39mreturn\u001b[39;00m circuits\n\u001b[1;32m    227\u001b[0m \u001b[39mif\u001b[39;00m \u001b[39misinstance\u001b[39m(circuits, QuantumCircuit):\n\u001b[0;32m--> 228\u001b[0m     \u001b[39mreturn\u001b[39;00m \u001b[39mself\u001b[39;49m\u001b[39m.\u001b[39;49m_run_single_circuit(circuits, output_name, callback)\n\u001b[1;32m    229\u001b[0m \u001b[39mif\u001b[39;00m \u001b[39mlen\u001b[39m(circuits) \u001b[39m==\u001b[39m \u001b[39m1\u001b[39m:\n\u001b[1;32m    230\u001b[0m     \u001b[39mreturn\u001b[39;00m \u001b[39mself\u001b[39m\u001b[39m.\u001b[39m_run_single_circuit(circuits[\u001b[39m0\u001b[39m], output_name, callback)\n",
      "File \u001b[0;32m~/virtual-swap/.venv/lib/python3.9/site-packages/qiskit/transpiler/passmanager.py:283\u001b[0m, in \u001b[0;36mPassManager._run_single_circuit\u001b[0;34m(self, circuit, output_name, callback)\u001b[0m\n\u001b[1;32m    271\u001b[0m \u001b[39m\u001b[39m\u001b[39m\"\"\"Run all the passes on a ``circuit``.\u001b[39;00m\n\u001b[1;32m    272\u001b[0m \n\u001b[1;32m    273\u001b[0m \u001b[39mArgs:\u001b[39;00m\n\u001b[0;32m   (...)\u001b[0m\n\u001b[1;32m    280\u001b[0m \u001b[39m    The transformed circuit.\u001b[39;00m\n\u001b[1;32m    281\u001b[0m \u001b[39m\"\"\"\u001b[39;00m\n\u001b[1;32m    282\u001b[0m running_passmanager \u001b[39m=\u001b[39m \u001b[39mself\u001b[39m\u001b[39m.\u001b[39m_create_running_passmanager()\n\u001b[0;32m--> 283\u001b[0m result \u001b[39m=\u001b[39m running_passmanager\u001b[39m.\u001b[39;49mrun(circuit, output_name\u001b[39m=\u001b[39;49moutput_name, callback\u001b[39m=\u001b[39;49mcallback)\n\u001b[1;32m    284\u001b[0m \u001b[39mself\u001b[39m\u001b[39m.\u001b[39mproperty_set \u001b[39m=\u001b[39m running_passmanager\u001b[39m.\u001b[39mproperty_set\n\u001b[1;32m    285\u001b[0m \u001b[39mreturn\u001b[39;00m result\n",
      "File \u001b[0;32m~/virtual-swap/.venv/lib/python3.9/site-packages/qiskit/transpiler/runningpassmanager.py:125\u001b[0m, in \u001b[0;36mRunningPassManager.run\u001b[0;34m(***failed resolving arguments***)\u001b[0m\n\u001b[1;32m    123\u001b[0m \u001b[39mfor\u001b[39;00m passset \u001b[39min\u001b[39;00m \u001b[39mself\u001b[39m\u001b[39m.\u001b[39mworking_list:\n\u001b[1;32m    124\u001b[0m     \u001b[39mfor\u001b[39;00m pass_ \u001b[39min\u001b[39;00m passset:\n\u001b[0;32m--> 125\u001b[0m         dag \u001b[39m=\u001b[39m \u001b[39mself\u001b[39;49m\u001b[39m.\u001b[39;49m_do_pass(pass_, dag, passset\u001b[39m.\u001b[39;49moptions)\n\u001b[1;32m    127\u001b[0m circuit \u001b[39m=\u001b[39m dag_to_circuit(dag)\n\u001b[1;32m    128\u001b[0m \u001b[39mif\u001b[39;00m output_name:\n",
      "File \u001b[0;32m~/virtual-swap/.venv/lib/python3.9/site-packages/qiskit/transpiler/runningpassmanager.py:173\u001b[0m, in \u001b[0;36mRunningPassManager._do_pass\u001b[0;34m(self, pass_, dag, options)\u001b[0m\n\u001b[1;32m    171\u001b[0m \u001b[39m# Run the pass itself, if not already run\u001b[39;00m\n\u001b[1;32m    172\u001b[0m \u001b[39mif\u001b[39;00m pass_ \u001b[39mnot\u001b[39;00m \u001b[39min\u001b[39;00m \u001b[39mself\u001b[39m\u001b[39m.\u001b[39mvalid_passes:\n\u001b[0;32m--> 173\u001b[0m     dag \u001b[39m=\u001b[39m \u001b[39mself\u001b[39;49m\u001b[39m.\u001b[39;49m_run_this_pass(pass_, dag)\n\u001b[1;32m    175\u001b[0m     \u001b[39m# update the valid_passes property\u001b[39;00m\n\u001b[1;32m    176\u001b[0m     \u001b[39mself\u001b[39m\u001b[39m.\u001b[39m_update_valid_passes(pass_)\n",
      "File \u001b[0;32m~/virtual-swap/.venv/lib/python3.9/site-packages/qiskit/transpiler/runningpassmanager.py:202\u001b[0m, in \u001b[0;36mRunningPassManager._run_this_pass\u001b[0;34m(self, pass_, dag)\u001b[0m\n\u001b[1;32m    199\u001b[0m \u001b[39mif\u001b[39;00m pass_\u001b[39m.\u001b[39mis_transformation_pass:\n\u001b[1;32m    200\u001b[0m     \u001b[39m# Measure time if we have a callback or logging set\u001b[39;00m\n\u001b[1;32m    201\u001b[0m     start_time \u001b[39m=\u001b[39m time()\n\u001b[0;32m--> 202\u001b[0m     new_dag \u001b[39m=\u001b[39m pass_\u001b[39m.\u001b[39;49mrun(dag)\n\u001b[1;32m    203\u001b[0m     end_time \u001b[39m=\u001b[39m time()\n\u001b[1;32m    204\u001b[0m     run_time \u001b[39m=\u001b[39m end_time \u001b[39m-\u001b[39m start_time\n",
      "File \u001b[0;32m~/virtual-swap/src/virtual_swap/vswap_pass.py:110\u001b[0m, in \u001b[0;36mVirtualSwap.run\u001b[0;34m(self, dag)\u001b[0m\n\u001b[1;32m    108\u001b[0m \u001b[39mwhile\u001b[39;00m current_temp \u001b[39m>\u001b[39m \u001b[39mself\u001b[39m\u001b[39m.\u001b[39mthreshold_temp:\n\u001b[1;32m    109\u001b[0m     working_dag, working_cost \u001b[39m=\u001b[39m \u001b[39mself\u001b[39m\u001b[39m.\u001b[39m_SA_iter(accepted_dag)\n\u001b[0;32m--> 110\u001b[0m     logger\u001b[39m.\u001b[39mdebug(\u001b[39mf\u001b[39m\u001b[39m\"\u001b[39m\u001b[39mWorking:\u001b[39m\u001b[39m\\n\u001b[39;00m\u001b[39m{\u001b[39;00mdag_to_circuit(working_dag)\u001b[39m.\u001b[39;49mdraw(fold\u001b[39m=\u001b[39;49m\u001b[39m-\u001b[39;49m\u001b[39m1\u001b[39;49m)\u001b[39m}\u001b[39;00m\u001b[39m\"\u001b[39m)\n\u001b[1;32m    111\u001b[0m     logger\u001b[39m.\u001b[39minfo(\u001b[39mf\u001b[39m\u001b[39m\"\u001b[39m\u001b[39mWorking: \u001b[39m\u001b[39m{\u001b[39;00mworking_cost\u001b[39m}\u001b[39;00m\u001b[39m\"\u001b[39m)\n\u001b[1;32m    113\u001b[0m     \u001b[39mif\u001b[39;00m best_cost \u001b[39mis\u001b[39;00m \u001b[39mNone\u001b[39;00m \u001b[39mor\u001b[39;00m working_cost \u001b[39m<\u001b[39m best_cost:\n",
      "File \u001b[0;32m~/virtual-swap/.venv/lib/python3.9/site-packages/qiskit/circuit/quantumcircuit.py:1892\u001b[0m, in \u001b[0;36mQuantumCircuit.draw\u001b[0;34m(self, output, scale, filename, style, interactive, plot_barriers, reverse_bits, justify, vertical_compression, idle_wires, with_layout, fold, ax, initial_state, cregbundle, wire_order)\u001b[0m\n\u001b[1;32m   1889\u001b[0m \u001b[39m# pylint: disable=cyclic-import\u001b[39;00m\n\u001b[1;32m   1890\u001b[0m \u001b[39mfrom\u001b[39;00m \u001b[39mqiskit\u001b[39;00m\u001b[39m.\u001b[39;00m\u001b[39mvisualization\u001b[39;00m \u001b[39mimport\u001b[39;00m circuit_drawer\n\u001b[0;32m-> 1892\u001b[0m \u001b[39mreturn\u001b[39;00m circuit_drawer(\n\u001b[1;32m   1893\u001b[0m     \u001b[39mself\u001b[39;49m,\n\u001b[1;32m   1894\u001b[0m     scale\u001b[39m=\u001b[39;49mscale,\n\u001b[1;32m   1895\u001b[0m     filename\u001b[39m=\u001b[39;49mfilename,\n\u001b[1;32m   1896\u001b[0m     style\u001b[39m=\u001b[39;49mstyle,\n\u001b[1;32m   1897\u001b[0m     output\u001b[39m=\u001b[39;49moutput,\n\u001b[1;32m   1898\u001b[0m     interactive\u001b[39m=\u001b[39;49minteractive,\n\u001b[1;32m   1899\u001b[0m     plot_barriers\u001b[39m=\u001b[39;49mplot_barriers,\n\u001b[1;32m   1900\u001b[0m     reverse_bits\u001b[39m=\u001b[39;49mreverse_bits,\n\u001b[1;32m   1901\u001b[0m     justify\u001b[39m=\u001b[39;49mjustify,\n\u001b[1;32m   1902\u001b[0m     vertical_compression\u001b[39m=\u001b[39;49mvertical_compression,\n\u001b[1;32m   1903\u001b[0m     idle_wires\u001b[39m=\u001b[39;49midle_wires,\n\u001b[1;32m   1904\u001b[0m     with_layout\u001b[39m=\u001b[39;49mwith_layout,\n\u001b[1;32m   1905\u001b[0m     fold\u001b[39m=\u001b[39;49mfold,\n\u001b[1;32m   1906\u001b[0m     ax\u001b[39m=\u001b[39;49max,\n\u001b[1;32m   1907\u001b[0m     initial_state\u001b[39m=\u001b[39;49minitial_state,\n\u001b[1;32m   1908\u001b[0m     cregbundle\u001b[39m=\u001b[39;49mcregbundle,\n\u001b[1;32m   1909\u001b[0m     wire_order\u001b[39m=\u001b[39;49mwire_order,\n\u001b[1;32m   1910\u001b[0m )\n",
      "File \u001b[0;32m~/virtual-swap/.venv/lib/python3.9/site-packages/qiskit/visualization/circuit/circuit_visualization.py:229\u001b[0m, in \u001b[0;36mcircuit_drawer\u001b[0;34m(circuit, scale, filename, style, output, interactive, plot_barriers, reverse_bits, justify, vertical_compression, idle_wires, with_layout, fold, ax, initial_state, cregbundle, wire_order)\u001b[0m\n\u001b[1;32m    227\u001b[0m     cregbundle \u001b[39m=\u001b[39m \u001b[39mFalse\u001b[39;00m\n\u001b[1;32m    228\u001b[0m \u001b[39mif\u001b[39;00m output \u001b[39m==\u001b[39m \u001b[39m\"\u001b[39m\u001b[39mtext\u001b[39m\u001b[39m\"\u001b[39m:\n\u001b[0;32m--> 229\u001b[0m     \u001b[39mreturn\u001b[39;00m _text_circuit_drawer(\n\u001b[1;32m    230\u001b[0m         circuit,\n\u001b[1;32m    231\u001b[0m         filename\u001b[39m=\u001b[39;49mfilename,\n\u001b[1;32m    232\u001b[0m         reverse_bits\u001b[39m=\u001b[39;49mreverse_bits,\n\u001b[1;32m    233\u001b[0m         plot_barriers\u001b[39m=\u001b[39;49mplot_barriers,\n\u001b[1;32m    234\u001b[0m         justify\u001b[39m=\u001b[39;49mjustify,\n\u001b[1;32m    235\u001b[0m         vertical_compression\u001b[39m=\u001b[39;49mvertical_compression,\n\u001b[1;32m    236\u001b[0m         idle_wires\u001b[39m=\u001b[39;49midle_wires,\n\u001b[1;32m    237\u001b[0m         with_layout\u001b[39m=\u001b[39;49mwith_layout,\n\u001b[1;32m    238\u001b[0m         fold\u001b[39m=\u001b[39;49mfold,\n\u001b[1;32m    239\u001b[0m         initial_state\u001b[39m=\u001b[39;49minitial_state,\n\u001b[1;32m    240\u001b[0m         cregbundle\u001b[39m=\u001b[39;49mcregbundle,\n\u001b[1;32m    241\u001b[0m         wire_order\u001b[39m=\u001b[39;49mwire_order,\n\u001b[1;32m    242\u001b[0m     )\n\u001b[1;32m    243\u001b[0m \u001b[39melif\u001b[39;00m output \u001b[39m==\u001b[39m \u001b[39m\"\u001b[39m\u001b[39mlatex\u001b[39m\u001b[39m\"\u001b[39m:\n\u001b[1;32m    244\u001b[0m     image \u001b[39m=\u001b[39m _latex_circuit_drawer(\n\u001b[1;32m    245\u001b[0m         circuit,\n\u001b[1;32m    246\u001b[0m         filename\u001b[39m=\u001b[39mfilename,\n\u001b[0;32m   (...)\u001b[0m\n\u001b[1;32m    256\u001b[0m         wire_order\u001b[39m=\u001b[39mwire_order,\n\u001b[1;32m    257\u001b[0m     )\n",
      "File \u001b[0;32m~/virtual-swap/.venv/lib/python3.9/site-packages/qiskit/visualization/circuit/circuit_visualization.py:355\u001b[0m, in \u001b[0;36m_text_circuit_drawer\u001b[0;34m(circuit, filename, reverse_bits, plot_barriers, justify, vertical_compression, idle_wires, with_layout, fold, initial_state, cregbundle, encoding, wire_order)\u001b[0m\n\u001b[1;32m    305\u001b[0m \u001b[39mdef\u001b[39;00m \u001b[39m_text_circuit_drawer\u001b[39m(\n\u001b[1;32m    306\u001b[0m     circuit,\n\u001b[1;32m    307\u001b[0m     filename\u001b[39m=\u001b[39m\u001b[39mNone\u001b[39;00m,\n\u001b[0;32m   (...)\u001b[0m\n\u001b[1;32m    318\u001b[0m     wire_order\u001b[39m=\u001b[39m\u001b[39mNone\u001b[39;00m,\n\u001b[1;32m    319\u001b[0m ):\n\u001b[1;32m    320\u001b[0m \u001b[39m    \u001b[39m\u001b[39m\"\"\"Draws a circuit using ascii art.\u001b[39;00m\n\u001b[1;32m    321\u001b[0m \n\u001b[1;32m    322\u001b[0m \u001b[39m    Args:\u001b[39;00m\n\u001b[0;32m   (...)\u001b[0m\n\u001b[1;32m    353\u001b[0m \u001b[39m        VisualizationError: When the filename extenstion is not .txt.\u001b[39;00m\n\u001b[1;32m    354\u001b[0m \u001b[39m    \"\"\"\u001b[39;00m\n\u001b[0;32m--> 355\u001b[0m     qubits, clbits, nodes \u001b[39m=\u001b[39m _utils\u001b[39m.\u001b[39;49m_get_layered_instructions(\n\u001b[1;32m    356\u001b[0m         circuit,\n\u001b[1;32m    357\u001b[0m         reverse_bits\u001b[39m=\u001b[39;49mreverse_bits,\n\u001b[1;32m    358\u001b[0m         justify\u001b[39m=\u001b[39;49mjustify,\n\u001b[1;32m    359\u001b[0m         idle_wires\u001b[39m=\u001b[39;49midle_wires,\n\u001b[1;32m    360\u001b[0m         wire_order\u001b[39m=\u001b[39;49mwire_order,\n\u001b[1;32m    361\u001b[0m     )\n\u001b[1;32m    362\u001b[0m     text_drawing \u001b[39m=\u001b[39m _text\u001b[39m.\u001b[39mTextDrawing(\n\u001b[1;32m    363\u001b[0m         qubits,\n\u001b[1;32m    364\u001b[0m         clbits,\n\u001b[0;32m   (...)\u001b[0m\n\u001b[1;32m    375\u001b[0m         circuit\u001b[39m=\u001b[39mcircuit,\n\u001b[1;32m    376\u001b[0m     )\n\u001b[1;32m    377\u001b[0m     text_drawing\u001b[39m.\u001b[39mplotbarriers \u001b[39m=\u001b[39m plot_barriers\n",
      "File \u001b[0;32m~/virtual-swap/.venv/lib/python3.9/site-packages/qiskit/visualization/circuit/_utils.py:441\u001b[0m, in \u001b[0;36m_get_layered_instructions\u001b[0;34m(circuit, reverse_bits, justify, idle_wires, wire_order)\u001b[0m\n\u001b[1;32m    439\u001b[0m         nodes\u001b[39m.\u001b[39mappend([node])\n\u001b[1;32m    440\u001b[0m \u001b[39melse\u001b[39;00m:\n\u001b[0;32m--> 441\u001b[0m     nodes \u001b[39m=\u001b[39m _LayerSpooler(dag, justify, measure_map)\n\u001b[1;32m    443\u001b[0m \u001b[39m# Optionally remove all idle wires and instructions that are on them and\u001b[39;00m\n\u001b[1;32m    444\u001b[0m \u001b[39m# on them only.\u001b[39;00m\n\u001b[1;32m    445\u001b[0m \u001b[39mif\u001b[39;00m \u001b[39mnot\u001b[39;00m idle_wires:\n",
      "File \u001b[0;32m~/virtual-swap/.venv/lib/python3.9/site-packages/qiskit/visualization/circuit/_utils.py:515\u001b[0m, in \u001b[0;36m_LayerSpooler.__init__\u001b[0;34m(self, dag, justification, measure_map)\u001b[0m\n\u001b[1;32m    513\u001b[0m         dag_nodes \u001b[39m=\u001b[39m _sorted_nodes(dag_layer)\n\u001b[1;32m    514\u001b[0m         \u001b[39mfor\u001b[39;00m node \u001b[39min\u001b[39;00m dag_nodes:\n\u001b[0;32m--> 515\u001b[0m             \u001b[39mself\u001b[39;49m\u001b[39m.\u001b[39;49madd(node, current_index)\n\u001b[1;32m    516\u001b[0m \u001b[39melse\u001b[39;00m:\n\u001b[1;32m    517\u001b[0m     dag_layers \u001b[39m=\u001b[39m []\n",
      "File \u001b[0;32m~/virtual-swap/.venv/lib/python3.9/site-packages/qiskit/visualization/circuit/_utils.py:640\u001b[0m, in \u001b[0;36m_LayerSpooler.add\u001b[0;34m(self, node, index)\u001b[0m\n\u001b[1;32m    638\u001b[0m \u001b[39m\u001b[39m\u001b[39m\"\"\"Add 'node' where it belongs, starting the try at 'index'.\"\"\"\u001b[39;00m\n\u001b[1;32m    639\u001b[0m \u001b[39mif\u001b[39;00m \u001b[39mself\u001b[39m\u001b[39m.\u001b[39mjustification \u001b[39m==\u001b[39m \u001b[39m\"\u001b[39m\u001b[39mleft\u001b[39m\u001b[39m\"\u001b[39m:\n\u001b[0;32m--> 640\u001b[0m     \u001b[39mself\u001b[39;49m\u001b[39m.\u001b[39;49mslide_from_left(node, index)\n\u001b[1;32m    641\u001b[0m \u001b[39melse\u001b[39;00m:\n\u001b[1;32m    642\u001b[0m     \u001b[39mself\u001b[39m\u001b[39m.\u001b[39mslide_from_right(node, index)\n",
      "File \u001b[0;32m~/virtual-swap/.venv/lib/python3.9/site-packages/qiskit/visualization/circuit/_utils.py:589\u001b[0m, in \u001b[0;36m_LayerSpooler.slide_from_left\u001b[0;34m(self, node, index)\u001b[0m\n\u001b[1;32m    587\u001b[0m curr_index \u001b[39m=\u001b[39m index\n\u001b[1;32m    588\u001b[0m \u001b[39mwhile\u001b[39;00m curr_index \u001b[39m<\u001b[39m \u001b[39mlen\u001b[39m(\u001b[39mself\u001b[39m):\n\u001b[0;32m--> 589\u001b[0m     \u001b[39mif\u001b[39;00m \u001b[39mself\u001b[39;49m\u001b[39m.\u001b[39;49minsertable(node, \u001b[39mself\u001b[39;49m[curr_index]):\n\u001b[1;32m    590\u001b[0m         \u001b[39mself\u001b[39m[curr_index]\u001b[39m.\u001b[39mappend(node)\n\u001b[1;32m    591\u001b[0m         measure_layer \u001b[39m=\u001b[39m curr_index\n",
      "File \u001b[0;32m~/virtual-swap/.venv/lib/python3.9/site-packages/qiskit/visualization/circuit/_utils.py:540\u001b[0m, in \u001b[0;36m_LayerSpooler.insertable\u001b[0;34m(self, node, nodes)\u001b[0m\n\u001b[1;32m    538\u001b[0m \u001b[39mdef\u001b[39;00m \u001b[39minsertable\u001b[39m(\u001b[39mself\u001b[39m, node, nodes):\n\u001b[1;32m    539\u001b[0m \u001b[39m    \u001b[39m\u001b[39m\"\"\"True .IFF. we can add 'node' to layer 'nodes'\"\"\"\u001b[39;00m\n\u001b[0;32m--> 540\u001b[0m     \u001b[39mreturn\u001b[39;00m \u001b[39mnot\u001b[39;00m _any_crossover(\u001b[39mself\u001b[39;49m\u001b[39m.\u001b[39;49mqubits, node, nodes)\n",
      "File \u001b[0;32m~/virtual-swap/.venv/lib/python3.9/site-packages/qiskit/visualization/circuit/_utils.py:494\u001b[0m, in \u001b[0;36m_any_crossover\u001b[0;34m(qubits, node, nodes)\u001b[0m\n\u001b[1;32m    492\u001b[0m     \u001b[39mif\u001b[39;00m check_node \u001b[39m!=\u001b[39m node:\n\u001b[1;32m    493\u001b[0m         all_indices \u001b[39m+\u001b[39m\u001b[39m=\u001b[39m _get_gate_span(qubits, check_node)\n\u001b[0;32m--> 494\u001b[0m \u001b[39mreturn\u001b[39;00m \u001b[39many\u001b[39m(i \u001b[39min\u001b[39;00m gate_span \u001b[39mfor\u001b[39;00m i \u001b[39min\u001b[39;00m all_indices)\n",
      "\u001b[0;31mKeyboardInterrupt\u001b[0m: "
     ]
    }
   ],
   "source": [
    "# run the pass\n",
    "pm = PassManager()\n",
    "# need some basic unroll and layout\n",
    "routing_pass = VirtualSwap(coupling_map=coupling)\n",
    "pm.append(\n",
    "    [\n",
    "        Unroller([\"u\", \"cx\"]),\n",
    "        SabreLayout(coupling_map=coupling, routing_pass=routing_pass),\n",
    "        ApplyLayout(),\n",
    "    ]\n",
    ")\n",
    "pm.append(routing_pass)\n",
    "pm.append(OptimizeSwapBeforeMeasure())\n",
    "\n",
    "# XXX use the PR version once merged into Qiskit\n",
    "pm.append(RootiSwapWeylDecomposition())\n",
    "# set debug logging\n",
    "import logging\n",
    "\n",
    "logging.basicConfig(level=logging.INFO)\n",
    "new_circ = pm.run(qc)\n",
    "# new_circ.draw(output=\"mpl\")\n",
    "print(f\"Gate count: {new_circ.count_ops()['riswap']}\")\n",
    "print(f\"Depth: {new_circ.depth()}\")"
   ]
  }
 ],
 "metadata": {
  "kernelspec": {
   "display_name": ".venv",
   "language": "python",
   "name": "python3"
  },
  "language_info": {
   "codemirror_mode": {
    "name": "ipython",
    "version": 3
   },
   "file_extension": ".py",
   "mimetype": "text/x-python",
   "name": "python",
   "nbconvert_exporter": "python",
   "pygments_lexer": "ipython3",
   "version": "3.9.16"
  },
  "orig_nbformat": 4,
  "vscode": {
   "interpreter": {
    "hash": "c6a4cf6d2afa6ccdcd465e51397083357ce8f190d348132412cf053524970263"
   }
  }
 },
 "nbformat": 4,
 "nbformat_minor": 2
}
