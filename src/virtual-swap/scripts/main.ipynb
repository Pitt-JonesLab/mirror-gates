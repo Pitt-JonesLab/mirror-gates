{
 "cells": [
  {
   "cell_type": "code",
   "execution_count": 1,
   "metadata": {},
   "outputs": [],
   "source": [
    "# need to writing a qiskit transpiler routing pass \n",
    "# not exactly sure yet how I will implement the qubit relabeling \n",
    "# https://qiskit.org/documentation/stubs/qiskit.transpiler.passes.SetLayout.html#qiskit.transpiler.passes.SetLayout\n",
    "\n",
    "# this is an initialization analysis pass, idk what would happen if I try to call this again in the middle of the transpiler\n",
    "\n",
    "# looks like all we have to do is modify self.property_set[\"layout\"] attribute of the pass manager\n"
   ]
  },
  {
   "cell_type": "code",
   "execution_count": 2,
   "metadata": {},
   "outputs": [],
   "source": [
    "from qiskit import QuantumCircuit"
   ]
  },
  {
   "cell_type": "code",
   "execution_count": 3,
   "metadata": {},
   "outputs": [
    {
     "data": {
      "text/html": [
       "<pre style=\"word-wrap: normal;white-space: pre;background: #fff0;line-height: 1.1;font-family: &quot;Courier New&quot;,Courier,monospace\">                    ┌───┐     \n",
       "q_0: ──■────────────┤ X ├──■──\n",
       "     ┌─┴─┐          └─┬─┘┌─┴─┐\n",
       "q_1: ┤ X ├──■─────────┼──┤ X ├\n",
       "     └───┘┌─┴─┐       │  └───┘\n",
       "q_2: ─────┤ X ├──■────┼───────\n",
       "          └───┘┌─┴─┐  │       \n",
       "q_3: ──────────┤ X ├──■───────\n",
       "               └───┘          </pre>"
      ],
      "text/plain": [
       "                    ┌───┐     \n",
       "q_0: ──■────────────┤ X ├──■──\n",
       "     ┌─┴─┐          └─┬─┘┌─┴─┐\n",
       "q_1: ┤ X ├──■─────────┼──┤ X ├\n",
       "     └───┘┌─┴─┐       │  └───┘\n",
       "q_2: ─────┤ X ├──■────┼───────\n",
       "          └───┘┌─┴─┐  │       \n",
       "q_3: ──────────┤ X ├──■───────\n",
       "               └───┘          "
      ]
     },
     "execution_count": 3,
     "metadata": {},
     "output_type": "execute_result"
    }
   ],
   "source": [
    "# define some dummy CX circuit to test the pass\n",
    "# this is a 4 qubit circuit\n",
    "qc = QuantumCircuit(4)\n",
    "qc.cx(0,1)\n",
    "qc.cx(1,2)\n",
    "qc.cx(2,3)\n",
    "qc.cx(3,0)\n",
    "qc.cx(0,1)\n",
    "\n",
    "qc.draw()"
   ]
  },
  {
   "cell_type": "code",
   "execution_count": 4,
   "metadata": {},
   "outputs": [
    {
     "ename": "ImportError",
     "evalue": "Pillow is necessary to use graphviz_draw() it can be installed with 'pip install pydot pillow'",
     "output_type": "error",
     "traceback": [
      "\u001b[0;31m---------------------------------------------------------------------------\u001b[0m",
      "\u001b[0;31mImportError\u001b[0m                               Traceback (most recent call last)",
      "Cell \u001b[0;32mIn[4], line 5\u001b[0m\n\u001b[1;32m      2\u001b[0m \u001b[39mfrom\u001b[39;00m \u001b[39mqiskit\u001b[39;00m\u001b[39m.\u001b[39;00m\u001b[39mtranspiler\u001b[39;00m \u001b[39mimport\u001b[39;00m CouplingMap\n\u001b[1;32m      4\u001b[0m backend \u001b[39m=\u001b[39m CouplingMap()\u001b[39m.\u001b[39mfrom_line(\u001b[39m4\u001b[39m)\n\u001b[0;32m----> 5\u001b[0m backend\u001b[39m.\u001b[39;49mdraw()\n",
      "File \u001b[0;32m~/virtual-swap/.venv/lib/python3.10/site-packages/qiskit/transpiler/coupling.py:426\u001b[0m, in \u001b[0;36mCouplingMap.draw\u001b[0;34m(self)\u001b[0m\n\u001b[1;32m    415\u001b[0m \u001b[39mdef\u001b[39;00m \u001b[39mdraw\u001b[39m(\u001b[39mself\u001b[39m):\n\u001b[1;32m    416\u001b[0m \u001b[39m    \u001b[39m\u001b[39m\"\"\"Draws the coupling map.\u001b[39;00m\n\u001b[1;32m    417\u001b[0m \n\u001b[1;32m    418\u001b[0m \u001b[39m    This function calls the :func:`~rustworkx.visualization.graphviz_draw` function from the\u001b[39;00m\n\u001b[0;32m   (...)\u001b[0m\n\u001b[1;32m    423\u001b[0m \n\u001b[1;32m    424\u001b[0m \u001b[39m    \"\"\"\u001b[39;00m\n\u001b[0;32m--> 426\u001b[0m     \u001b[39mreturn\u001b[39;00m graphviz_draw(\u001b[39mself\u001b[39;49m\u001b[39m.\u001b[39;49mgraph, method\u001b[39m=\u001b[39;49m\u001b[39m\"\u001b[39;49m\u001b[39mneato\u001b[39;49m\u001b[39m\"\u001b[39;49m)\n",
      "File \u001b[0;32m~/virtual-swap/.venv/lib/python3.10/site-packages/rustworkx/visualization/graphviz.py:145\u001b[0m, in \u001b[0;36mgraphviz_draw\u001b[0;34m(graph, node_attr_fn, edge_attr_fn, graph_attr, filename, image_type, method)\u001b[0m\n\u001b[1;32m     71\u001b[0m \u001b[39m\u001b[39m\u001b[39m\"\"\"Draw a :class:`~rustworkx.PyGraph` or :class:`~rustworkx.PyDiGraph` object\u001b[39;00m\n\u001b[1;32m     72\u001b[0m \u001b[39musing graphviz\u001b[39;00m\n\u001b[1;32m     73\u001b[0m \n\u001b[0;32m   (...)\u001b[0m\n\u001b[1;32m    142\u001b[0m \n\u001b[1;32m    143\u001b[0m \u001b[39m\"\"\"\u001b[39;00m\n\u001b[1;32m    144\u001b[0m \u001b[39mif\u001b[39;00m \u001b[39mnot\u001b[39;00m HAS_PILLOW:\n\u001b[0;32m--> 145\u001b[0m     \u001b[39mraise\u001b[39;00m \u001b[39mImportError\u001b[39;00m(\n\u001b[1;32m    146\u001b[0m         \u001b[39m\"\u001b[39m\u001b[39mPillow is necessary to use graphviz_draw() \u001b[39m\u001b[39m\"\u001b[39m\n\u001b[1;32m    147\u001b[0m         \u001b[39m\"\u001b[39m\u001b[39mit can be installed with \u001b[39m\u001b[39m'\u001b[39m\u001b[39mpip install pydot pillow\u001b[39m\u001b[39m'\u001b[39m\u001b[39m\"\u001b[39m\n\u001b[1;32m    148\u001b[0m     )\n\u001b[1;32m    149\u001b[0m \u001b[39mtry\u001b[39;00m:\n\u001b[1;32m    150\u001b[0m     subprocess\u001b[39m.\u001b[39mrun(\n\u001b[1;32m    151\u001b[0m         [\u001b[39m\"\u001b[39m\u001b[39mdot\u001b[39m\u001b[39m\"\u001b[39m, \u001b[39m\"\u001b[39m\u001b[39m-V\u001b[39m\u001b[39m\"\u001b[39m],\n\u001b[1;32m    152\u001b[0m         cwd\u001b[39m=\u001b[39mtempfile\u001b[39m.\u001b[39mgettempdir(),\n\u001b[1;32m    153\u001b[0m         check\u001b[39m=\u001b[39m\u001b[39mTrue\u001b[39;00m,\n\u001b[1;32m    154\u001b[0m         capture_output\u001b[39m=\u001b[39m\u001b[39mTrue\u001b[39;00m,\n\u001b[1;32m    155\u001b[0m     )\n",
      "\u001b[0;31mImportError\u001b[0m: Pillow is necessary to use graphviz_draw() it can be installed with 'pip install pydot pillow'"
     ]
    }
   ],
   "source": [
    "# first let's just create a line topology\n",
    "from qiskit.transpiler import CouplingMap\n",
    "\n",
    "backend = CouplingMap().from_line(4)\n",
    "backend.draw()"
   ]
  },
  {
   "cell_type": "code",
   "execution_count": null,
   "metadata": {},
   "outputs": [
    {
     "data": {
      "image/png": "[encoded data removed]",
      "text/plain": [
       "<PIL.PngImagePlugin.PngImageFile image mode=RGBA size=467x324>"
      ]
     },
     "execution_count": 38,
     "metadata": {},
     "output_type": "execute_result"
    }
   ],
   "source": [
    "# next, let's create a pass manager\n",
    "from qiskit.transpiler import PassManager\n",
    "from qiskit.transpiler.passes import SetLayout, TrivialLayout\n",
    "from qiskit.transpiler.passes import BasicSwap\n",
    "\n",
    "pm = PassManager()\n",
    "pm.append([TrivialLayout(backend),  BasicSwap(backend)])\n",
    "pm.draw()"
   ]
  },
  {
   "cell_type": "code",
   "execution_count": null,
   "metadata": {},
   "outputs": [
    {
     "data": {
      "text/html": [
       "<pre style=\"word-wrap: normal;white-space: pre;background: #fff0;line-height: 1.1;font-family: &quot;Courier New&quot;,Courier,monospace\">                              ┌───┐        \n",
       "q_0 -> 0 ──■──────────────────┤ X ├─X──────\n",
       "         ┌─┴─┐                └─┬─┘ │      \n",
       "q_1 -> 1 ┤ X ├──■───────────X───■───X───■──\n",
       "         └───┘┌─┴─┐         │         ┌─┴─┐\n",
       "q_2 -> 2 ─────┤ X ├──■───X──X─────────┤ X ├\n",
       "              └───┘┌─┴─┐ │            └───┘\n",
       "q_3 -> 3 ──────────┤ X ├─X─────────────────\n",
       "                   └───┘                   </pre>"
      ],
      "text/plain": [
       "                              ┌───┐        \n",
       "q_0 -> 0 ──■──────────────────┤ X ├─X──────\n",
       "         ┌─┴─┐                └─┬─┘ │      \n",
       "q_1 -> 1 ┤ X ├──■───────────X───■───X───■──\n",
       "         └───┘┌─┴─┐         │         ┌─┴─┐\n",
       "q_2 -> 2 ─────┤ X ├──■───X──X─────────┤ X ├\n",
       "              └───┘┌─┴─┐ │            └───┘\n",
       "q_3 -> 3 ──────────┤ X ├─X─────────────────\n",
       "                   └───┘                   "
      ]
     },
     "execution_count": 39,
     "metadata": {},
     "output_type": "execute_result"
    }
   ],
   "source": [
    "# now let's run the pass manager on our circuit\n",
    "transp = pm.run(qc)\n",
    "transp.draw()"
   ]
  },
  {
   "cell_type": "code",
   "execution_count": null,
   "metadata": {},
   "outputs": [
    {
     "data": {
      "text/html": [
       "<pre style=\"word-wrap: normal;white-space: pre;background: #fff0;line-height: 1.1;font-family: &quot;Courier New&quot;,Courier,monospace\">                                ┌───┐\n",
       "q_0 -> 0 ──■─────────X──────────┤ X ├\n",
       "         ┌─┴─┐       │     ┌───┐└─┬─┘\n",
       "q_1 -> 1 ┤ X ├──■────X─────┤ X ├──■──\n",
       "         └───┘┌─┴─┐        └─┬─┘     \n",
       "q_2 -> 2 ─────┤ X ├──■───X───■───────\n",
       "              └───┘┌─┴─┐ │           \n",
       "q_3 -> 3 ──────────┤ X ├─X───────────\n",
       "                   └───┘             </pre>"
      ],
      "text/plain": [
       "                                ┌───┐\n",
       "q_0 -> 0 ──■─────────X──────────┤ X ├\n",
       "         ┌─┴─┐       │     ┌───┐└─┬─┘\n",
       "q_1 -> 1 ┤ X ├──■────X─────┤ X ├──■──\n",
       "         └───┘┌─┴─┐        └─┬─┘     \n",
       "q_2 -> 2 ─────┤ X ├──■───X───■───────\n",
       "              └───┘┌─┴─┐ │           \n",
       "q_3 -> 3 ──────────┤ X ├─X───────────\n",
       "                   └───┘             "
      ]
     },
     "execution_count": 44,
     "metadata": {},
     "output_type": "execute_result"
    }
   ],
   "source": [
    "# compare to optimization level 3\n",
    "from qiskit.compiler import transpile\n",
    "transp = transpile(qc, optimization_level=3,coupling_map=backend)\n",
    "transp.draw()"
   ]
  },
  {
   "cell_type": "code",
   "execution_count": null,
   "metadata": {},
   "outputs": [
    {
     "ename": "AttributeError",
     "evalue": "'str' object has no attribute 'num_qubits'",
     "output_type": "error",
     "traceback": [
      "\u001b[0;31m---------------------------------------------------------------------------\u001b[0m",
      "\u001b[0;31mAttributeError\u001b[0m                            Traceback (most recent call last)",
      "Cell \u001b[0;32mIn[55], line 16\u001b[0m\n\u001b[1;32m     13\u001b[0m qc\u001b[39m.\u001b[39mswap(\u001b[39m0\u001b[39m,\u001b[39m1\u001b[39m)\n\u001b[1;32m     14\u001b[0m \u001b[39m# qc.draw()\u001b[39;00m\n\u001b[0;32m---> 16\u001b[0m eq\u001b[39m.\u001b[39;49madd_equivalence(qc\u001b[39m.\u001b[39;49mto_instruction(), \u001b[39m'\u001b[39;49m\u001b[39mcx\u001b[39;49m\u001b[39m'\u001b[39;49m)\n",
      "File \u001b[0;32m~/virtual-swap/.venv/lib/python3.9/site-packages/qiskit/circuit/equivalence.py:89\u001b[0m, in \u001b[0;36mEquivalenceLibrary.add_equivalence\u001b[0;34m(self, gate, equivalent_circuit)\u001b[0m\n\u001b[1;32m     74\u001b[0m \u001b[39mdef\u001b[39;00m \u001b[39madd_equivalence\u001b[39m(\u001b[39mself\u001b[39m, gate, equivalent_circuit):\n\u001b[1;32m     75\u001b[0m \u001b[39m    \u001b[39m\u001b[39m\"\"\"Add a new equivalence to the library. Future queries for the Gate\u001b[39;00m\n\u001b[1;32m     76\u001b[0m \u001b[39m    will include the given circuit, in addition to all existing equivalences\u001b[39;00m\n\u001b[1;32m     77\u001b[0m \u001b[39m    (including those from base).\u001b[39;00m\n\u001b[0;32m   (...)\u001b[0m\n\u001b[1;32m     86\u001b[0m \u001b[39m            implementing the given Gate.\u001b[39;00m\n\u001b[1;32m     87\u001b[0m \u001b[39m    \"\"\"\u001b[39;00m\n\u001b[0;32m---> 89\u001b[0m     _raise_if_shape_mismatch(gate, equivalent_circuit)\n\u001b[1;32m     90\u001b[0m     _raise_if_param_mismatch(gate\u001b[39m.\u001b[39mparams, equivalent_circuit\u001b[39m.\u001b[39mparameters)\n\u001b[1;32m     92\u001b[0m     key \u001b[39m=\u001b[39m Key(name\u001b[39m=\u001b[39mgate\u001b[39m.\u001b[39mname, num_qubits\u001b[39m=\u001b[39mgate\u001b[39m.\u001b[39mnum_qubits)\n",
      "File \u001b[0;32m~/virtual-swap/.venv/lib/python3.9/site-packages/qiskit/circuit/equivalence.py:275\u001b[0m, in \u001b[0;36m_raise_if_shape_mismatch\u001b[0;34m(gate, circuit)\u001b[0m\n\u001b[1;32m    274\u001b[0m \u001b[39mdef\u001b[39;00m \u001b[39m_raise_if_shape_mismatch\u001b[39m(gate, circuit):\n\u001b[0;32m--> 275\u001b[0m     \u001b[39mif\u001b[39;00m gate\u001b[39m.\u001b[39mnum_qubits \u001b[39m!=\u001b[39m circuit\u001b[39m.\u001b[39;49mnum_qubits \u001b[39mor\u001b[39;00m gate\u001b[39m.\u001b[39mnum_clbits \u001b[39m!=\u001b[39m circuit\u001b[39m.\u001b[39mnum_clbits:\n\u001b[1;32m    276\u001b[0m         \u001b[39mraise\u001b[39;00m CircuitError(\n\u001b[1;32m    277\u001b[0m             \u001b[39m\"\u001b[39m\u001b[39mCannot add equivalence between circuit and gate \u001b[39m\u001b[39m\"\u001b[39m\n\u001b[1;32m    278\u001b[0m             \u001b[39m\"\u001b[39m\u001b[39mof different shapes. Gate: \u001b[39m\u001b[39m{}\u001b[39;00m\u001b[39m qubits and \u001b[39m\u001b[39m{}\u001b[39;00m\u001b[39m clbits. \u001b[39m\u001b[39m\"\u001b[39m\n\u001b[0;32m   (...)\u001b[0m\n\u001b[1;32m    281\u001b[0m             )\n\u001b[1;32m    282\u001b[0m         )\n",
      "\u001b[0;31mAttributeError\u001b[0m: 'str' object has no attribute 'num_qubits'"
     ]
    }
   ],
   "source": [
    "# define a new equivalence library\n",
    "import numpy as np\n",
    "from qiskit.circuit import EquivalenceLibrary\n",
    "eq = EquivalenceLibrary()\n",
    "\n",
    "# CNS: CX = iSWAP + SWAP\n",
    "qc = QuantumCircuit(2)\n",
    "qc.rz(-np.pi/2, 0)\n",
    "qc.h(1)\n",
    "qc.rz(-np.pi/2, 1)\n",
    "qc.iswap(0, 1)\n",
    "qc.h(0)\n",
    "qc.swap(0,1)\n",
    "# qc.draw()\n",
    "\n",
    "eq.add_equivalence(qc.to_instruction(), 'cx')"
   ]
  },
  {
   "cell_type": "code",
   "execution_count": null,
   "metadata": {},
   "outputs": [],
   "source": [
    "# start with can we get a benefit from existing algorithms\n",
    "\n",
    "# how significant is the benefit? \n",
    "# need to look at restricted topologies"
   ]
  }
 ],
 "metadata": {
  "kernelspec": {
   "display_name": ".venv",
   "language": "python",
   "name": "python3"
  },
  "language_info": {
   "codemirror_mode": {
    "name": "ipython",
    "version": 3
   },
   "file_extension": ".py",
   "mimetype": "text/x-python",
   "name": "python",
   "nbconvert_exporter": "python",
   "pygments_lexer": "ipython3",
   "version": "3.10.6"
  },
  "orig_nbformat": 4,
  "vscode": {
   "interpreter": {
    "hash": "c6a4cf6d2afa6ccdcd465e51397083357ce8f190d348132412cf053524970263"
   }
  }
 },
 "nbformat": 4,
 "nbformat_minor": 2
}
